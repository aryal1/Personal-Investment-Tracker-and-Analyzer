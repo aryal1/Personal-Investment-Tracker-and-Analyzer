{
 "cells": [
  {
   "cell_type": "code",
   "execution_count": 108,
   "metadata": {},
   "outputs": [
    {
     "name": "stdout",
     "output_type": "stream",
     "text": [
      "         date ticker action  quantity   price\n",
      "0  2023-01-10   AAPL    buy        10  145.30\n",
      "1  2023-02-15   TSLA    buy         5  196.75\n",
      "2  2023-03-01   AAPL   sell         5  155.00\n",
      "3  2023-04-22   MSFT    buy         8  280.20\n",
      "4  2023-05-12   AAPL    buy         2  160.50\n"
     ]
    }
   ],
   "source": [
    "import pandas as pd\n",
    "import numpy as np\n",
    "import yfinance as yf\n",
    "\n",
    "df = pd.read_csv(\"./data/sample_trades.csv\")\n",
    "print(df.head())\n"
   ]
  },
  {
   "cell_type": "code",
   "execution_count": 109,
   "metadata": {},
   "outputs": [],
   "source": [
    "\n",
    "\n",
    "df[\"quantity\"] = df.apply(\n",
    "    lambda row: -row[\"quantity\"] if row[\"action\"] == \"sell\" else row[\"quantity\"], axis=1\n",
    ")"
   ]
  },
  {
   "cell_type": "code",
   "execution_count": 110,
   "metadata": {},
   "outputs": [],
   "source": [
    "df =df.drop(columns=[\"action\"])"
   ]
  },
  {
   "cell_type": "code",
   "execution_count": 111,
   "metadata": {},
   "outputs": [
    {
     "data": {
      "application/vnd.microsoft.datawrangler.viewer.v0+json": {
       "columns": [
        {
         "name": "index",
         "rawType": "int64",
         "type": "integer"
        },
        {
         "name": "date",
         "rawType": "object",
         "type": "string"
        },
        {
         "name": "ticker",
         "rawType": "object",
         "type": "string"
        },
        {
         "name": "quantity",
         "rawType": "int64",
         "type": "integer"
        },
        {
         "name": "price",
         "rawType": "float64",
         "type": "float"
        },
        {
         "name": "signed_value",
         "rawType": "float64",
         "type": "float"
        }
       ],
       "conversionMethod": "pd.DataFrame",
       "ref": "c32bfe47-3236-4fb0-b2db-c7d7fbeb1ad1",
       "rows": [
        [
         "0",
         "2023-01-10",
         "AAPL",
         "10",
         "145.3",
         "1453.0"
        ],
        [
         "1",
         "2023-02-15",
         "TSLA",
         "5",
         "196.75",
         "983.75"
        ],
        [
         "2",
         "2023-03-01",
         "AAPL",
         "-5",
         "155.0",
         "-775.0"
        ],
        [
         "3",
         "2023-04-22",
         "MSFT",
         "8",
         "280.2",
         "2241.6"
        ],
        [
         "4",
         "2023-05-12",
         "AAPL",
         "2",
         "160.5",
         "321.0"
        ]
       ],
       "shape": {
        "columns": 5,
        "rows": 5
       }
      },
      "text/html": [
       "<div>\n",
       "<style scoped>\n",
       "    .dataframe tbody tr th:only-of-type {\n",
       "        vertical-align: middle;\n",
       "    }\n",
       "\n",
       "    .dataframe tbody tr th {\n",
       "        vertical-align: top;\n",
       "    }\n",
       "\n",
       "    .dataframe thead th {\n",
       "        text-align: right;\n",
       "    }\n",
       "</style>\n",
       "<table border=\"1\" class=\"dataframe\">\n",
       "  <thead>\n",
       "    <tr style=\"text-align: right;\">\n",
       "      <th></th>\n",
       "      <th>date</th>\n",
       "      <th>ticker</th>\n",
       "      <th>quantity</th>\n",
       "      <th>price</th>\n",
       "      <th>signed_value</th>\n",
       "    </tr>\n",
       "  </thead>\n",
       "  <tbody>\n",
       "    <tr>\n",
       "      <th>0</th>\n",
       "      <td>2023-01-10</td>\n",
       "      <td>AAPL</td>\n",
       "      <td>10</td>\n",
       "      <td>145.30</td>\n",
       "      <td>1453.00</td>\n",
       "    </tr>\n",
       "    <tr>\n",
       "      <th>1</th>\n",
       "      <td>2023-02-15</td>\n",
       "      <td>TSLA</td>\n",
       "      <td>5</td>\n",
       "      <td>196.75</td>\n",
       "      <td>983.75</td>\n",
       "    </tr>\n",
       "    <tr>\n",
       "      <th>2</th>\n",
       "      <td>2023-03-01</td>\n",
       "      <td>AAPL</td>\n",
       "      <td>-5</td>\n",
       "      <td>155.00</td>\n",
       "      <td>-775.00</td>\n",
       "    </tr>\n",
       "    <tr>\n",
       "      <th>3</th>\n",
       "      <td>2023-04-22</td>\n",
       "      <td>MSFT</td>\n",
       "      <td>8</td>\n",
       "      <td>280.20</td>\n",
       "      <td>2241.60</td>\n",
       "    </tr>\n",
       "    <tr>\n",
       "      <th>4</th>\n",
       "      <td>2023-05-12</td>\n",
       "      <td>AAPL</td>\n",
       "      <td>2</td>\n",
       "      <td>160.50</td>\n",
       "      <td>321.00</td>\n",
       "    </tr>\n",
       "  </tbody>\n",
       "</table>\n",
       "</div>"
      ],
      "text/plain": [
       "         date ticker  quantity   price  signed_value\n",
       "0  2023-01-10   AAPL        10  145.30       1453.00\n",
       "1  2023-02-15   TSLA         5  196.75        983.75\n",
       "2  2023-03-01   AAPL        -5  155.00       -775.00\n",
       "3  2023-04-22   MSFT         8  280.20       2241.60\n",
       "4  2023-05-12   AAPL         2  160.50        321.00"
      ]
     },
     "execution_count": 111,
     "metadata": {},
     "output_type": "execute_result"
    }
   ],
   "source": [
    "df['signed_value'] = df[\"quantity\"] * df[\"price\"]\n",
    "df.head()"
   ]
  },
  {
   "cell_type": "code",
   "execution_count": 112,
   "metadata": {},
   "outputs": [
    {
     "data": {
      "application/vnd.microsoft.datawrangler.viewer.v0+json": {
       "columns": [
        {
         "name": "index",
         "rawType": "int64",
         "type": "integer"
        },
        {
         "name": "Tickier",
         "rawType": "object",
         "type": "string"
        },
        {
         "name": "Quantity",
         "rawType": "int64",
         "type": "integer"
        },
        {
         "name": "Cost",
         "rawType": "float64",
         "type": "float"
        }
       ],
       "conversionMethod": "pd.DataFrame",
       "ref": "fc17fad2-cfb0-4d44-ad90-47b61850b9bd",
       "rows": [
        [
         "0",
         "AAPL",
         "7",
         "999.0"
        ],
        [
         "1",
         "MSFT",
         "8",
         "2241.6"
        ],
        [
         "2",
         "TSLA",
         "5",
         "983.75"
        ]
       ],
       "shape": {
        "columns": 3,
        "rows": 3
       }
      },
      "text/html": [
       "<div>\n",
       "<style scoped>\n",
       "    .dataframe tbody tr th:only-of-type {\n",
       "        vertical-align: middle;\n",
       "    }\n",
       "\n",
       "    .dataframe tbody tr th {\n",
       "        vertical-align: top;\n",
       "    }\n",
       "\n",
       "    .dataframe thead th {\n",
       "        text-align: right;\n",
       "    }\n",
       "</style>\n",
       "<table border=\"1\" class=\"dataframe\">\n",
       "  <thead>\n",
       "    <tr style=\"text-align: right;\">\n",
       "      <th></th>\n",
       "      <th>Tickier</th>\n",
       "      <th>Quantity</th>\n",
       "      <th>Cost</th>\n",
       "    </tr>\n",
       "  </thead>\n",
       "  <tbody>\n",
       "    <tr>\n",
       "      <th>0</th>\n",
       "      <td>AAPL</td>\n",
       "      <td>7</td>\n",
       "      <td>999.00</td>\n",
       "    </tr>\n",
       "    <tr>\n",
       "      <th>1</th>\n",
       "      <td>MSFT</td>\n",
       "      <td>8</td>\n",
       "      <td>2241.60</td>\n",
       "    </tr>\n",
       "    <tr>\n",
       "      <th>2</th>\n",
       "      <td>TSLA</td>\n",
       "      <td>5</td>\n",
       "      <td>983.75</td>\n",
       "    </tr>\n",
       "  </tbody>\n",
       "</table>\n",
       "</div>"
      ],
      "text/plain": [
       "  Tickier  Quantity     Cost\n",
       "0    AAPL         7   999.00\n",
       "1    MSFT         8  2241.60\n",
       "2    TSLA         5   983.75"
      ]
     },
     "execution_count": 112,
     "metadata": {},
     "output_type": "execute_result"
    }
   ],
   "source": [
    "tickers = df[\"ticker\"].unique().tolist()\n",
    "holdings = pd.DataFrame({\n",
    "    \"Tickier\" : df[\"ticker\"],\n",
    "    \"Quantity\" : df[\"quantity\"],\n",
    "    \"Cost\" : df[\"signed_value\"]\n",
    "}).groupby(\"Tickier\").sum().reset_index()\n",
    "\n",
    "holdings.head()\n",
    "\n"
   ]
  },
  {
   "cell_type": "code",
   "execution_count": 113,
   "metadata": {},
   "outputs": [
    {
     "name": "stderr",
     "output_type": "stream",
     "text": [
      "[*********************100%***********************]  3 of 3 completed\n"
     ]
    }
   ],
   "source": [
    "df[\"date\"] = pd.to_datetime(df[\"date\"])\n",
    "data = yf.download(tickers,start=df[\"date\"].min(),end=pd.Timestamp.today().normalize())\n"
   ]
  },
  {
   "cell_type": "code",
   "execution_count": 114,
   "metadata": {},
   "outputs": [
    {
     "data": {
      "application/vnd.microsoft.datawrangler.viewer.v0+json": {
       "columns": [
        {
         "name": "Date",
         "rawType": "datetime64[ns]",
         "type": "datetime"
        },
        {
         "name": "('Close', 'AAPL')",
         "rawType": "float64",
         "type": "float"
        },
        {
         "name": "('Close', 'MSFT')",
         "rawType": "float64",
         "type": "float"
        },
        {
         "name": "('Close', 'TSLA')",
         "rawType": "float64",
         "type": "float"
        },
        {
         "name": "('High', 'AAPL')",
         "rawType": "float64",
         "type": "float"
        },
        {
         "name": "('High', 'MSFT')",
         "rawType": "float64",
         "type": "float"
        },
        {
         "name": "('High', 'TSLA')",
         "rawType": "float64",
         "type": "float"
        },
        {
         "name": "('Low', 'AAPL')",
         "rawType": "float64",
         "type": "float"
        },
        {
         "name": "('Low', 'MSFT')",
         "rawType": "float64",
         "type": "float"
        },
        {
         "name": "('Low', 'TSLA')",
         "rawType": "float64",
         "type": "float"
        },
        {
         "name": "('Open', 'AAPL')",
         "rawType": "float64",
         "type": "float"
        },
        {
         "name": "('Open', 'MSFT')",
         "rawType": "float64",
         "type": "float"
        },
        {
         "name": "('Open', 'TSLA')",
         "rawType": "float64",
         "type": "float"
        },
        {
         "name": "('Volume', 'AAPL')",
         "rawType": "int64",
         "type": "integer"
        },
        {
         "name": "('Volume', 'MSFT')",
         "rawType": "int64",
         "type": "integer"
        },
        {
         "name": "('Volume', 'TSLA')",
         "rawType": "int64",
         "type": "integer"
        }
       ],
       "conversionMethod": "pd.DataFrame",
       "ref": "bf27cf3a-d467-46d6-bad6-313364947a8b",
       "rows": [
        [
         "2025-04-08 00:00:00",
         "172.4199981689453",
         "354.55999755859375",
         "221.86000061035156",
         "190.33999633789062",
         "373.6499938964844",
         "250.44000244140625",
         "169.2100067138672",
         "350.25",
         "217.8000030517578",
         "186.6999969482422",
         "368.260009765625",
         "245.0",
         "120859500",
         "35868900",
         "171603500"
        ],
        [
         "2025-04-09 00:00:00",
         "198.85000610351562",
         "390.489990234375",
         "272.20001220703125",
         "200.61000061035156",
         "393.2300109863281",
         "274.69000244140625",
         "171.88999938964844",
         "353.1000061035156",
         "223.8800048828125",
         "171.9499969482422",
         "353.5400085449219",
         "224.69000244140625",
         "184395900",
         "50199700",
         "219433400"
        ],
        [
         "2025-04-10 00:00:00",
         "190.4199981689453",
         "381.3500061035156",
         "252.39999389648438",
         "194.77999877929688",
         "383.8999938964844",
         "262.489990234375",
         "183.0",
         "367.79998779296875",
         "239.3300018310547",
         "189.07000732421875",
         "382.05999755859375",
         "260.0",
         "121880000",
         "38024400",
         "181722600"
        ],
        [
         "2025-04-11 00:00:00",
         "198.14999389648438",
         "388.45001220703125",
         "252.30999755859375",
         "199.5399932861328",
         "390.04998779296875",
         "257.739990234375",
         "186.05999755859375",
         "378.8900146484375",
         "241.36000061035156",
         "186.10000610351562",
         "380.6400146484375",
         "251.83999633789062",
         "87300000",
         "23828700",
         "128656900"
        ],
        [
         "2025-04-14 00:00:00",
         "202.52000427246094",
         "387.80999755859375",
         "252.35000610351562",
         "212.94000244140625",
         "394.6400146484375",
         "261.79998779296875",
         "201.16209411621094",
         "384.2099914550781",
         "245.92999267578125",
         "211.44000244140625",
         "393.2200012207031",
         "258.32501220703125",
         "100650083",
         "18941747",
         "99522520"
        ]
       ],
       "shape": {
        "columns": 15,
        "rows": 5
       }
      },
      "text/html": [
       "<div>\n",
       "<style scoped>\n",
       "    .dataframe tbody tr th:only-of-type {\n",
       "        vertical-align: middle;\n",
       "    }\n",
       "\n",
       "    .dataframe tbody tr th {\n",
       "        vertical-align: top;\n",
       "    }\n",
       "\n",
       "    .dataframe thead tr th {\n",
       "        text-align: left;\n",
       "    }\n",
       "\n",
       "    .dataframe thead tr:last-of-type th {\n",
       "        text-align: right;\n",
       "    }\n",
       "</style>\n",
       "<table border=\"1\" class=\"dataframe\">\n",
       "  <thead>\n",
       "    <tr>\n",
       "      <th>Price</th>\n",
       "      <th colspan=\"3\" halign=\"left\">Close</th>\n",
       "      <th colspan=\"3\" halign=\"left\">High</th>\n",
       "      <th colspan=\"3\" halign=\"left\">Low</th>\n",
       "      <th colspan=\"3\" halign=\"left\">Open</th>\n",
       "      <th colspan=\"3\" halign=\"left\">Volume</th>\n",
       "    </tr>\n",
       "    <tr>\n",
       "      <th>Ticker</th>\n",
       "      <th>AAPL</th>\n",
       "      <th>MSFT</th>\n",
       "      <th>TSLA</th>\n",
       "      <th>AAPL</th>\n",
       "      <th>MSFT</th>\n",
       "      <th>TSLA</th>\n",
       "      <th>AAPL</th>\n",
       "      <th>MSFT</th>\n",
       "      <th>TSLA</th>\n",
       "      <th>AAPL</th>\n",
       "      <th>MSFT</th>\n",
       "      <th>TSLA</th>\n",
       "      <th>AAPL</th>\n",
       "      <th>MSFT</th>\n",
       "      <th>TSLA</th>\n",
       "    </tr>\n",
       "    <tr>\n",
       "      <th>Date</th>\n",
       "      <th></th>\n",
       "      <th></th>\n",
       "      <th></th>\n",
       "      <th></th>\n",
       "      <th></th>\n",
       "      <th></th>\n",
       "      <th></th>\n",
       "      <th></th>\n",
       "      <th></th>\n",
       "      <th></th>\n",
       "      <th></th>\n",
       "      <th></th>\n",
       "      <th></th>\n",
       "      <th></th>\n",
       "      <th></th>\n",
       "    </tr>\n",
       "  </thead>\n",
       "  <tbody>\n",
       "    <tr>\n",
       "      <th>2025-04-08</th>\n",
       "      <td>172.419998</td>\n",
       "      <td>354.559998</td>\n",
       "      <td>221.860001</td>\n",
       "      <td>190.339996</td>\n",
       "      <td>373.649994</td>\n",
       "      <td>250.440002</td>\n",
       "      <td>169.210007</td>\n",
       "      <td>350.250000</td>\n",
       "      <td>217.800003</td>\n",
       "      <td>186.699997</td>\n",
       "      <td>368.260010</td>\n",
       "      <td>245.000000</td>\n",
       "      <td>120859500</td>\n",
       "      <td>35868900</td>\n",
       "      <td>171603500</td>\n",
       "    </tr>\n",
       "    <tr>\n",
       "      <th>2025-04-09</th>\n",
       "      <td>198.850006</td>\n",
       "      <td>390.489990</td>\n",
       "      <td>272.200012</td>\n",
       "      <td>200.610001</td>\n",
       "      <td>393.230011</td>\n",
       "      <td>274.690002</td>\n",
       "      <td>171.889999</td>\n",
       "      <td>353.100006</td>\n",
       "      <td>223.880005</td>\n",
       "      <td>171.949997</td>\n",
       "      <td>353.540009</td>\n",
       "      <td>224.690002</td>\n",
       "      <td>184395900</td>\n",
       "      <td>50199700</td>\n",
       "      <td>219433400</td>\n",
       "    </tr>\n",
       "    <tr>\n",
       "      <th>2025-04-10</th>\n",
       "      <td>190.419998</td>\n",
       "      <td>381.350006</td>\n",
       "      <td>252.399994</td>\n",
       "      <td>194.779999</td>\n",
       "      <td>383.899994</td>\n",
       "      <td>262.489990</td>\n",
       "      <td>183.000000</td>\n",
       "      <td>367.799988</td>\n",
       "      <td>239.330002</td>\n",
       "      <td>189.070007</td>\n",
       "      <td>382.059998</td>\n",
       "      <td>260.000000</td>\n",
       "      <td>121880000</td>\n",
       "      <td>38024400</td>\n",
       "      <td>181722600</td>\n",
       "    </tr>\n",
       "    <tr>\n",
       "      <th>2025-04-11</th>\n",
       "      <td>198.149994</td>\n",
       "      <td>388.450012</td>\n",
       "      <td>252.309998</td>\n",
       "      <td>199.539993</td>\n",
       "      <td>390.049988</td>\n",
       "      <td>257.739990</td>\n",
       "      <td>186.059998</td>\n",
       "      <td>378.890015</td>\n",
       "      <td>241.360001</td>\n",
       "      <td>186.100006</td>\n",
       "      <td>380.640015</td>\n",
       "      <td>251.839996</td>\n",
       "      <td>87300000</td>\n",
       "      <td>23828700</td>\n",
       "      <td>128656900</td>\n",
       "    </tr>\n",
       "    <tr>\n",
       "      <th>2025-04-14</th>\n",
       "      <td>202.520004</td>\n",
       "      <td>387.809998</td>\n",
       "      <td>252.350006</td>\n",
       "      <td>212.940002</td>\n",
       "      <td>394.640015</td>\n",
       "      <td>261.799988</td>\n",
       "      <td>201.162094</td>\n",
       "      <td>384.209991</td>\n",
       "      <td>245.929993</td>\n",
       "      <td>211.440002</td>\n",
       "      <td>393.220001</td>\n",
       "      <td>258.325012</td>\n",
       "      <td>100650083</td>\n",
       "      <td>18941747</td>\n",
       "      <td>99522520</td>\n",
       "    </tr>\n",
       "  </tbody>\n",
       "</table>\n",
       "</div>"
      ],
      "text/plain": [
       "Price            Close                                High              \\\n",
       "Ticker            AAPL        MSFT        TSLA        AAPL        MSFT   \n",
       "Date                                                                     \n",
       "2025-04-08  172.419998  354.559998  221.860001  190.339996  373.649994   \n",
       "2025-04-09  198.850006  390.489990  272.200012  200.610001  393.230011   \n",
       "2025-04-10  190.419998  381.350006  252.399994  194.779999  383.899994   \n",
       "2025-04-11  198.149994  388.450012  252.309998  199.539993  390.049988   \n",
       "2025-04-14  202.520004  387.809998  252.350006  212.940002  394.640015   \n",
       "\n",
       "Price                          Low                                Open  \\\n",
       "Ticker            TSLA        AAPL        MSFT        TSLA        AAPL   \n",
       "Date                                                                     \n",
       "2025-04-08  250.440002  169.210007  350.250000  217.800003  186.699997   \n",
       "2025-04-09  274.690002  171.889999  353.100006  223.880005  171.949997   \n",
       "2025-04-10  262.489990  183.000000  367.799988  239.330002  189.070007   \n",
       "2025-04-11  257.739990  186.059998  378.890015  241.360001  186.100006   \n",
       "2025-04-14  261.799988  201.162094  384.209991  245.929993  211.440002   \n",
       "\n",
       "Price                                  Volume                       \n",
       "Ticker            MSFT        TSLA       AAPL      MSFT       TSLA  \n",
       "Date                                                                \n",
       "2025-04-08  368.260010  245.000000  120859500  35868900  171603500  \n",
       "2025-04-09  353.540009  224.690002  184395900  50199700  219433400  \n",
       "2025-04-10  382.059998  260.000000  121880000  38024400  181722600  \n",
       "2025-04-11  380.640015  251.839996   87300000  23828700  128656900  \n",
       "2025-04-14  393.220001  258.325012  100650083  18941747   99522520  "
      ]
     },
     "execution_count": 114,
     "metadata": {},
     "output_type": "execute_result"
    }
   ],
   "source": [
    "data.tail()"
   ]
  },
  {
   "cell_type": "code",
   "execution_count": 115,
   "metadata": {},
   "outputs": [
    {
     "data": {
      "application/vnd.microsoft.datawrangler.viewer.v0+json": {
       "columns": [
        {
         "name": "index",
         "rawType": "int64",
         "type": "integer"
        },
        {
         "name": "Tickier",
         "rawType": "object",
         "type": "string"
        },
        {
         "name": "Quantity",
         "rawType": "int64",
         "type": "integer"
        },
        {
         "name": "Cost",
         "rawType": "float64",
         "type": "float"
        },
        {
         "name": "Current Price",
         "rawType": "float64",
         "type": "float"
        }
       ],
       "conversionMethod": "pd.DataFrame",
       "ref": "19f22134-ea62-4e39-90bc-66ecf65463db",
       "rows": [
        [
         "0",
         "AAPL",
         "7",
         "999.0",
         "202.52000427246094"
        ],
        [
         "1",
         "MSFT",
         "8",
         "2241.6",
         "387.80999755859375"
        ],
        [
         "2",
         "TSLA",
         "5",
         "983.75",
         "252.35000610351562"
        ]
       ],
       "shape": {
        "columns": 4,
        "rows": 3
       }
      },
      "text/html": [
       "<div>\n",
       "<style scoped>\n",
       "    .dataframe tbody tr th:only-of-type {\n",
       "        vertical-align: middle;\n",
       "    }\n",
       "\n",
       "    .dataframe tbody tr th {\n",
       "        vertical-align: top;\n",
       "    }\n",
       "\n",
       "    .dataframe thead th {\n",
       "        text-align: right;\n",
       "    }\n",
       "</style>\n",
       "<table border=\"1\" class=\"dataframe\">\n",
       "  <thead>\n",
       "    <tr style=\"text-align: right;\">\n",
       "      <th></th>\n",
       "      <th>Tickier</th>\n",
       "      <th>Quantity</th>\n",
       "      <th>Cost</th>\n",
       "      <th>Current Price</th>\n",
       "    </tr>\n",
       "  </thead>\n",
       "  <tbody>\n",
       "    <tr>\n",
       "      <th>0</th>\n",
       "      <td>AAPL</td>\n",
       "      <td>7</td>\n",
       "      <td>999.00</td>\n",
       "      <td>202.520004</td>\n",
       "    </tr>\n",
       "    <tr>\n",
       "      <th>1</th>\n",
       "      <td>MSFT</td>\n",
       "      <td>8</td>\n",
       "      <td>2241.60</td>\n",
       "      <td>387.809998</td>\n",
       "    </tr>\n",
       "    <tr>\n",
       "      <th>2</th>\n",
       "      <td>TSLA</td>\n",
       "      <td>5</td>\n",
       "      <td>983.75</td>\n",
       "      <td>252.350006</td>\n",
       "    </tr>\n",
       "  </tbody>\n",
       "</table>\n",
       "</div>"
      ],
      "text/plain": [
       "  Tickier  Quantity     Cost  Current Price\n",
       "0    AAPL         7   999.00     202.520004\n",
       "1    MSFT         8  2241.60     387.809998\n",
       "2    TSLA         5   983.75     252.350006"
      ]
     },
     "execution_count": 115,
     "metadata": {},
     "output_type": "execute_result"
    }
   ],
   "source": [
    "latest_prices = data[\"Close\"].iloc[-1]\n",
    "holdings[\"Current Price\"] = holdings[\"Tickier\"].map(latest_prices)\n",
    "\n",
    "holdings.head()\n"
   ]
  },
  {
   "cell_type": "code",
   "execution_count": 116,
   "metadata": {},
   "outputs": [],
   "source": [
    "holdings[\"Current Value\"] = holdings[\"Current Price\"]*holdings[\"Quantity\"]"
   ]
  },
  {
   "cell_type": "code",
   "execution_count": 117,
   "metadata": {},
   "outputs": [
    {
     "data": {
      "application/vnd.microsoft.datawrangler.viewer.v0+json": {
       "columns": [
        {
         "name": "index",
         "rawType": "int64",
         "type": "integer"
        },
        {
         "name": "Tickier",
         "rawType": "object",
         "type": "string"
        },
        {
         "name": "Quantity",
         "rawType": "int64",
         "type": "integer"
        },
        {
         "name": "Cost",
         "rawType": "float64",
         "type": "float"
        },
        {
         "name": "Current Price",
         "rawType": "float64",
         "type": "float"
        },
        {
         "name": "Current Value",
         "rawType": "float64",
         "type": "float"
        }
       ],
       "conversionMethod": "pd.DataFrame",
       "ref": "b63f22ec-2961-4506-b975-b35b5736c0c1",
       "rows": [
        [
         "0",
         "AAPL",
         "7",
         "999.0",
         "202.52000427246094",
         "1417.6400299072266"
        ],
        [
         "1",
         "MSFT",
         "8",
         "2241.6",
         "387.80999755859375",
         "3102.47998046875"
        ],
        [
         "2",
         "TSLA",
         "5",
         "983.75",
         "252.35000610351562",
         "1261.7500305175781"
        ]
       ],
       "shape": {
        "columns": 5,
        "rows": 3
       }
      },
      "text/html": [
       "<div>\n",
       "<style scoped>\n",
       "    .dataframe tbody tr th:only-of-type {\n",
       "        vertical-align: middle;\n",
       "    }\n",
       "\n",
       "    .dataframe tbody tr th {\n",
       "        vertical-align: top;\n",
       "    }\n",
       "\n",
       "    .dataframe thead th {\n",
       "        text-align: right;\n",
       "    }\n",
       "</style>\n",
       "<table border=\"1\" class=\"dataframe\">\n",
       "  <thead>\n",
       "    <tr style=\"text-align: right;\">\n",
       "      <th></th>\n",
       "      <th>Tickier</th>\n",
       "      <th>Quantity</th>\n",
       "      <th>Cost</th>\n",
       "      <th>Current Price</th>\n",
       "      <th>Current Value</th>\n",
       "    </tr>\n",
       "  </thead>\n",
       "  <tbody>\n",
       "    <tr>\n",
       "      <th>0</th>\n",
       "      <td>AAPL</td>\n",
       "      <td>7</td>\n",
       "      <td>999.00</td>\n",
       "      <td>202.520004</td>\n",
       "      <td>1417.640030</td>\n",
       "    </tr>\n",
       "    <tr>\n",
       "      <th>1</th>\n",
       "      <td>MSFT</td>\n",
       "      <td>8</td>\n",
       "      <td>2241.60</td>\n",
       "      <td>387.809998</td>\n",
       "      <td>3102.479980</td>\n",
       "    </tr>\n",
       "    <tr>\n",
       "      <th>2</th>\n",
       "      <td>TSLA</td>\n",
       "      <td>5</td>\n",
       "      <td>983.75</td>\n",
       "      <td>252.350006</td>\n",
       "      <td>1261.750031</td>\n",
       "    </tr>\n",
       "  </tbody>\n",
       "</table>\n",
       "</div>"
      ],
      "text/plain": [
       "  Tickier  Quantity     Cost  Current Price  Current Value\n",
       "0    AAPL         7   999.00     202.520004    1417.640030\n",
       "1    MSFT         8  2241.60     387.809998    3102.479980\n",
       "2    TSLA         5   983.75     252.350006    1261.750031"
      ]
     },
     "execution_count": 117,
     "metadata": {},
     "output_type": "execute_result"
    }
   ],
   "source": [
    "holdings.head()"
   ]
  },
  {
   "cell_type": "code",
   "execution_count": 118,
   "metadata": {},
   "outputs": [
    {
     "data": {
      "application/vnd.microsoft.datawrangler.viewer.v0+json": {
       "columns": [
        {
         "name": "index",
         "rawType": "int64",
         "type": "integer"
        },
        {
         "name": "date",
         "rawType": "datetime64[ns]",
         "type": "datetime"
        },
        {
         "name": "ticker",
         "rawType": "object",
         "type": "string"
        },
        {
         "name": "quantity",
         "rawType": "int64",
         "type": "integer"
        },
        {
         "name": "price",
         "rawType": "float64",
         "type": "float"
        },
        {
         "name": "signed_value",
         "rawType": "float64",
         "type": "float"
        }
       ],
       "conversionMethod": "pd.DataFrame",
       "ref": "0ca9b57c-ec1e-4366-9d24-2eb15315769a",
       "rows": [
        [
         "0",
         "2023-01-10 00:00:00",
         "AAPL",
         "10",
         "145.3",
         "1453.0"
        ],
        [
         "1",
         "2023-02-15 00:00:00",
         "TSLA",
         "5",
         "196.75",
         "983.75"
        ],
        [
         "2",
         "2023-03-01 00:00:00",
         "AAPL",
         "-5",
         "155.0",
         "-775.0"
        ],
        [
         "3",
         "2023-04-22 00:00:00",
         "MSFT",
         "8",
         "280.2",
         "2241.6"
        ],
        [
         "4",
         "2023-05-12 00:00:00",
         "AAPL",
         "2",
         "160.5",
         "321.0"
        ]
       ],
       "shape": {
        "columns": 5,
        "rows": 5
       }
      },
      "text/html": [
       "<div>\n",
       "<style scoped>\n",
       "    .dataframe tbody tr th:only-of-type {\n",
       "        vertical-align: middle;\n",
       "    }\n",
       "\n",
       "    .dataframe tbody tr th {\n",
       "        vertical-align: top;\n",
       "    }\n",
       "\n",
       "    .dataframe thead th {\n",
       "        text-align: right;\n",
       "    }\n",
       "</style>\n",
       "<table border=\"1\" class=\"dataframe\">\n",
       "  <thead>\n",
       "    <tr style=\"text-align: right;\">\n",
       "      <th></th>\n",
       "      <th>date</th>\n",
       "      <th>ticker</th>\n",
       "      <th>quantity</th>\n",
       "      <th>price</th>\n",
       "      <th>signed_value</th>\n",
       "    </tr>\n",
       "  </thead>\n",
       "  <tbody>\n",
       "    <tr>\n",
       "      <th>0</th>\n",
       "      <td>2023-01-10</td>\n",
       "      <td>AAPL</td>\n",
       "      <td>10</td>\n",
       "      <td>145.30</td>\n",
       "      <td>1453.00</td>\n",
       "    </tr>\n",
       "    <tr>\n",
       "      <th>1</th>\n",
       "      <td>2023-02-15</td>\n",
       "      <td>TSLA</td>\n",
       "      <td>5</td>\n",
       "      <td>196.75</td>\n",
       "      <td>983.75</td>\n",
       "    </tr>\n",
       "    <tr>\n",
       "      <th>2</th>\n",
       "      <td>2023-03-01</td>\n",
       "      <td>AAPL</td>\n",
       "      <td>-5</td>\n",
       "      <td>155.00</td>\n",
       "      <td>-775.00</td>\n",
       "    </tr>\n",
       "    <tr>\n",
       "      <th>3</th>\n",
       "      <td>2023-04-22</td>\n",
       "      <td>MSFT</td>\n",
       "      <td>8</td>\n",
       "      <td>280.20</td>\n",
       "      <td>2241.60</td>\n",
       "    </tr>\n",
       "    <tr>\n",
       "      <th>4</th>\n",
       "      <td>2023-05-12</td>\n",
       "      <td>AAPL</td>\n",
       "      <td>2</td>\n",
       "      <td>160.50</td>\n",
       "      <td>321.00</td>\n",
       "    </tr>\n",
       "  </tbody>\n",
       "</table>\n",
       "</div>"
      ],
      "text/plain": [
       "        date ticker  quantity   price  signed_value\n",
       "0 2023-01-10   AAPL        10  145.30       1453.00\n",
       "1 2023-02-15   TSLA         5  196.75        983.75\n",
       "2 2023-03-01   AAPL        -5  155.00       -775.00\n",
       "3 2023-04-22   MSFT         8  280.20       2241.60\n",
       "4 2023-05-12   AAPL         2  160.50        321.00"
      ]
     },
     "execution_count": 118,
     "metadata": {},
     "output_type": "execute_result"
    }
   ],
   "source": [
    "df.head()"
   ]
  },
  {
   "cell_type": "code",
   "execution_count": 119,
   "metadata": {},
   "outputs": [],
   "source": [
    "holdings[\"Profit/Loss\"] = holdings[\"Current Value\"] - holdings[\"Cost\"]\n"
   ]
  },
  {
   "cell_type": "code",
   "execution_count": 120,
   "metadata": {},
   "outputs": [
    {
     "data": {
      "application/vnd.microsoft.datawrangler.viewer.v0+json": {
       "columns": [
        {
         "name": "index",
         "rawType": "int64",
         "type": "integer"
        },
        {
         "name": "Tickier",
         "rawType": "object",
         "type": "string"
        },
        {
         "name": "Quantity",
         "rawType": "int64",
         "type": "integer"
        },
        {
         "name": "Cost",
         "rawType": "float64",
         "type": "float"
        },
        {
         "name": "Current Price",
         "rawType": "float64",
         "type": "float"
        },
        {
         "name": "Current Value",
         "rawType": "float64",
         "type": "float"
        },
        {
         "name": "Profit/Loss",
         "rawType": "float64",
         "type": "float"
        }
       ],
       "conversionMethod": "pd.DataFrame",
       "ref": "6ee5b329-0d71-458d-8c26-8a64057e37a2",
       "rows": [
        [
         "0",
         "AAPL",
         "7",
         "999.0",
         "202.52000427246094",
         "1417.6400299072266",
         "418.64002990722656"
        ],
        [
         "1",
         "MSFT",
         "8",
         "2241.6",
         "387.80999755859375",
         "3102.47998046875",
         "860.8799804687501"
        ],
        [
         "2",
         "TSLA",
         "5",
         "983.75",
         "252.35000610351562",
         "1261.7500305175781",
         "278.0000305175781"
        ]
       ],
       "shape": {
        "columns": 6,
        "rows": 3
       }
      },
      "text/html": [
       "<div>\n",
       "<style scoped>\n",
       "    .dataframe tbody tr th:only-of-type {\n",
       "        vertical-align: middle;\n",
       "    }\n",
       "\n",
       "    .dataframe tbody tr th {\n",
       "        vertical-align: top;\n",
       "    }\n",
       "\n",
       "    .dataframe thead th {\n",
       "        text-align: right;\n",
       "    }\n",
       "</style>\n",
       "<table border=\"1\" class=\"dataframe\">\n",
       "  <thead>\n",
       "    <tr style=\"text-align: right;\">\n",
       "      <th></th>\n",
       "      <th>Tickier</th>\n",
       "      <th>Quantity</th>\n",
       "      <th>Cost</th>\n",
       "      <th>Current Price</th>\n",
       "      <th>Current Value</th>\n",
       "      <th>Profit/Loss</th>\n",
       "    </tr>\n",
       "  </thead>\n",
       "  <tbody>\n",
       "    <tr>\n",
       "      <th>0</th>\n",
       "      <td>AAPL</td>\n",
       "      <td>7</td>\n",
       "      <td>999.00</td>\n",
       "      <td>202.520004</td>\n",
       "      <td>1417.640030</td>\n",
       "      <td>418.640030</td>\n",
       "    </tr>\n",
       "    <tr>\n",
       "      <th>1</th>\n",
       "      <td>MSFT</td>\n",
       "      <td>8</td>\n",
       "      <td>2241.60</td>\n",
       "      <td>387.809998</td>\n",
       "      <td>3102.479980</td>\n",
       "      <td>860.879980</td>\n",
       "    </tr>\n",
       "    <tr>\n",
       "      <th>2</th>\n",
       "      <td>TSLA</td>\n",
       "      <td>5</td>\n",
       "      <td>983.75</td>\n",
       "      <td>252.350006</td>\n",
       "      <td>1261.750031</td>\n",
       "      <td>278.000031</td>\n",
       "    </tr>\n",
       "  </tbody>\n",
       "</table>\n",
       "</div>"
      ],
      "text/plain": [
       "  Tickier  Quantity     Cost  Current Price  Current Value  Profit/Loss\n",
       "0    AAPL         7   999.00     202.520004    1417.640030   418.640030\n",
       "1    MSFT         8  2241.60     387.809998    3102.479980   860.879980\n",
       "2    TSLA         5   983.75     252.350006    1261.750031   278.000031"
      ]
     },
     "execution_count": 120,
     "metadata": {},
     "output_type": "execute_result"
    }
   ],
   "source": [
    "holdings.head()"
   ]
  },
  {
   "cell_type": "code",
   "execution_count": 121,
   "metadata": {},
   "outputs": [],
   "source": [
    "df[\"date\"] = pd.to_datetime(df[\"date\"])"
   ]
  },
  {
   "cell_type": "code",
   "execution_count": 122,
   "metadata": {},
   "outputs": [],
   "source": [
    "history = df.pivot_table(index=\"date\",columns=\"ticker\",values=\"quantity\",aggfunc=\"sum\")"
   ]
  },
  {
   "cell_type": "code",
   "execution_count": 123,
   "metadata": {},
   "outputs": [],
   "source": [
    "all_days = pd.date_range(start=history.index.min(),end=pd.Timestamp.today().normalize())\n",
    "\n",
    "history = history.reindex(all_days).fillna(0).cumsum()"
   ]
  },
  {
   "cell_type": "code",
   "execution_count": 124,
   "metadata": {},
   "outputs": [
    {
     "data": {
      "application/vnd.microsoft.datawrangler.viewer.v0+json": {
       "columns": [
        {
         "name": "index",
         "rawType": "datetime64[ns]",
         "type": "datetime"
        },
        {
         "name": "AAPL",
         "rawType": "float64",
         "type": "float"
        },
        {
         "name": "MSFT",
         "rawType": "float64",
         "type": "float"
        },
        {
         "name": "TSLA",
         "rawType": "float64",
         "type": "float"
        }
       ],
       "conversionMethod": "pd.DataFrame",
       "ref": "92bf13a0-7cdb-493a-ac3e-eae82a9d462b",
       "rows": [
        [
         "2023-01-10 00:00:00",
         "10.0",
         "0.0",
         "0.0"
        ],
        [
         "2023-01-11 00:00:00",
         "10.0",
         "0.0",
         "0.0"
        ],
        [
         "2023-01-12 00:00:00",
         "10.0",
         "0.0",
         "0.0"
        ],
        [
         "2023-01-13 00:00:00",
         "10.0",
         "0.0",
         "0.0"
        ],
        [
         "2023-01-14 00:00:00",
         "10.0",
         "0.0",
         "0.0"
        ],
        [
         "2023-01-15 00:00:00",
         "10.0",
         "0.0",
         "0.0"
        ],
        [
         "2023-01-16 00:00:00",
         "10.0",
         "0.0",
         "0.0"
        ],
        [
         "2023-01-17 00:00:00",
         "10.0",
         "0.0",
         "0.0"
        ],
        [
         "2023-01-18 00:00:00",
         "10.0",
         "0.0",
         "0.0"
        ],
        [
         "2023-01-19 00:00:00",
         "10.0",
         "0.0",
         "0.0"
        ],
        [
         "2023-01-20 00:00:00",
         "10.0",
         "0.0",
         "0.0"
        ],
        [
         "2023-01-21 00:00:00",
         "10.0",
         "0.0",
         "0.0"
        ],
        [
         "2023-01-22 00:00:00",
         "10.0",
         "0.0",
         "0.0"
        ],
        [
         "2023-01-23 00:00:00",
         "10.0",
         "0.0",
         "0.0"
        ],
        [
         "2023-01-24 00:00:00",
         "10.0",
         "0.0",
         "0.0"
        ],
        [
         "2023-01-25 00:00:00",
         "10.0",
         "0.0",
         "0.0"
        ],
        [
         "2023-01-26 00:00:00",
         "10.0",
         "0.0",
         "0.0"
        ],
        [
         "2023-01-27 00:00:00",
         "10.0",
         "0.0",
         "0.0"
        ],
        [
         "2023-01-28 00:00:00",
         "10.0",
         "0.0",
         "0.0"
        ],
        [
         "2023-01-29 00:00:00",
         "10.0",
         "0.0",
         "0.0"
        ],
        [
         "2023-01-30 00:00:00",
         "10.0",
         "0.0",
         "0.0"
        ],
        [
         "2023-01-31 00:00:00",
         "10.0",
         "0.0",
         "0.0"
        ],
        [
         "2023-02-01 00:00:00",
         "10.0",
         "0.0",
         "0.0"
        ],
        [
         "2023-02-02 00:00:00",
         "10.0",
         "0.0",
         "0.0"
        ],
        [
         "2023-02-03 00:00:00",
         "10.0",
         "0.0",
         "0.0"
        ],
        [
         "2023-02-04 00:00:00",
         "10.0",
         "0.0",
         "0.0"
        ],
        [
         "2023-02-05 00:00:00",
         "10.0",
         "0.0",
         "0.0"
        ],
        [
         "2023-02-06 00:00:00",
         "10.0",
         "0.0",
         "0.0"
        ],
        [
         "2023-02-07 00:00:00",
         "10.0",
         "0.0",
         "0.0"
        ],
        [
         "2023-02-08 00:00:00",
         "10.0",
         "0.0",
         "0.0"
        ],
        [
         "2023-02-09 00:00:00",
         "10.0",
         "0.0",
         "0.0"
        ],
        [
         "2023-02-10 00:00:00",
         "10.0",
         "0.0",
         "0.0"
        ],
        [
         "2023-02-11 00:00:00",
         "10.0",
         "0.0",
         "0.0"
        ],
        [
         "2023-02-12 00:00:00",
         "10.0",
         "0.0",
         "0.0"
        ],
        [
         "2023-02-13 00:00:00",
         "10.0",
         "0.0",
         "0.0"
        ],
        [
         "2023-02-14 00:00:00",
         "10.0",
         "0.0",
         "0.0"
        ],
        [
         "2023-02-15 00:00:00",
         "10.0",
         "0.0",
         "5.0"
        ],
        [
         "2023-02-16 00:00:00",
         "10.0",
         "0.0",
         "5.0"
        ],
        [
         "2023-02-17 00:00:00",
         "10.0",
         "0.0",
         "5.0"
        ],
        [
         "2023-02-18 00:00:00",
         "10.0",
         "0.0",
         "5.0"
        ],
        [
         "2023-02-19 00:00:00",
         "10.0",
         "0.0",
         "5.0"
        ],
        [
         "2023-02-20 00:00:00",
         "10.0",
         "0.0",
         "5.0"
        ],
        [
         "2023-02-21 00:00:00",
         "10.0",
         "0.0",
         "5.0"
        ],
        [
         "2023-02-22 00:00:00",
         "10.0",
         "0.0",
         "5.0"
        ],
        [
         "2023-02-23 00:00:00",
         "10.0",
         "0.0",
         "5.0"
        ],
        [
         "2023-02-24 00:00:00",
         "10.0",
         "0.0",
         "5.0"
        ],
        [
         "2023-02-25 00:00:00",
         "10.0",
         "0.0",
         "5.0"
        ],
        [
         "2023-02-26 00:00:00",
         "10.0",
         "0.0",
         "5.0"
        ],
        [
         "2023-02-27 00:00:00",
         "10.0",
         "0.0",
         "5.0"
        ],
        [
         "2023-02-28 00:00:00",
         "10.0",
         "0.0",
         "5.0"
        ]
       ],
       "shape": {
        "columns": 3,
        "rows": 827
       }
      },
      "text/html": [
       "<div>\n",
       "<style scoped>\n",
       "    .dataframe tbody tr th:only-of-type {\n",
       "        vertical-align: middle;\n",
       "    }\n",
       "\n",
       "    .dataframe tbody tr th {\n",
       "        vertical-align: top;\n",
       "    }\n",
       "\n",
       "    .dataframe thead th {\n",
       "        text-align: right;\n",
       "    }\n",
       "</style>\n",
       "<table border=\"1\" class=\"dataframe\">\n",
       "  <thead>\n",
       "    <tr style=\"text-align: right;\">\n",
       "      <th>ticker</th>\n",
       "      <th>AAPL</th>\n",
       "      <th>MSFT</th>\n",
       "      <th>TSLA</th>\n",
       "    </tr>\n",
       "  </thead>\n",
       "  <tbody>\n",
       "    <tr>\n",
       "      <th>2023-01-10</th>\n",
       "      <td>10.0</td>\n",
       "      <td>0.0</td>\n",
       "      <td>0.0</td>\n",
       "    </tr>\n",
       "    <tr>\n",
       "      <th>2023-01-11</th>\n",
       "      <td>10.0</td>\n",
       "      <td>0.0</td>\n",
       "      <td>0.0</td>\n",
       "    </tr>\n",
       "    <tr>\n",
       "      <th>2023-01-12</th>\n",
       "      <td>10.0</td>\n",
       "      <td>0.0</td>\n",
       "      <td>0.0</td>\n",
       "    </tr>\n",
       "    <tr>\n",
       "      <th>2023-01-13</th>\n",
       "      <td>10.0</td>\n",
       "      <td>0.0</td>\n",
       "      <td>0.0</td>\n",
       "    </tr>\n",
       "    <tr>\n",
       "      <th>2023-01-14</th>\n",
       "      <td>10.0</td>\n",
       "      <td>0.0</td>\n",
       "      <td>0.0</td>\n",
       "    </tr>\n",
       "    <tr>\n",
       "      <th>...</th>\n",
       "      <td>...</td>\n",
       "      <td>...</td>\n",
       "      <td>...</td>\n",
       "    </tr>\n",
       "    <tr>\n",
       "      <th>2025-04-11</th>\n",
       "      <td>7.0</td>\n",
       "      <td>8.0</td>\n",
       "      <td>5.0</td>\n",
       "    </tr>\n",
       "    <tr>\n",
       "      <th>2025-04-12</th>\n",
       "      <td>7.0</td>\n",
       "      <td>8.0</td>\n",
       "      <td>5.0</td>\n",
       "    </tr>\n",
       "    <tr>\n",
       "      <th>2025-04-13</th>\n",
       "      <td>7.0</td>\n",
       "      <td>8.0</td>\n",
       "      <td>5.0</td>\n",
       "    </tr>\n",
       "    <tr>\n",
       "      <th>2025-04-14</th>\n",
       "      <td>7.0</td>\n",
       "      <td>8.0</td>\n",
       "      <td>5.0</td>\n",
       "    </tr>\n",
       "    <tr>\n",
       "      <th>2025-04-15</th>\n",
       "      <td>7.0</td>\n",
       "      <td>8.0</td>\n",
       "      <td>5.0</td>\n",
       "    </tr>\n",
       "  </tbody>\n",
       "</table>\n",
       "<p>827 rows × 3 columns</p>\n",
       "</div>"
      ],
      "text/plain": [
       "ticker      AAPL  MSFT  TSLA\n",
       "2023-01-10  10.0   0.0   0.0\n",
       "2023-01-11  10.0   0.0   0.0\n",
       "2023-01-12  10.0   0.0   0.0\n",
       "2023-01-13  10.0   0.0   0.0\n",
       "2023-01-14  10.0   0.0   0.0\n",
       "...          ...   ...   ...\n",
       "2025-04-11   7.0   8.0   5.0\n",
       "2025-04-12   7.0   8.0   5.0\n",
       "2025-04-13   7.0   8.0   5.0\n",
       "2025-04-14   7.0   8.0   5.0\n",
       "2025-04-15   7.0   8.0   5.0\n",
       "\n",
       "[827 rows x 3 columns]"
      ]
     },
     "execution_count": 124,
     "metadata": {},
     "output_type": "execute_result"
    }
   ],
   "source": [
    "history"
   ]
  },
  {
   "cell_type": "code",
   "execution_count": 125,
   "metadata": {},
   "outputs": [],
   "source": [
    "daily_value = data[\"Close\"]*history"
   ]
  },
  {
   "cell_type": "code",
   "execution_count": 126,
   "metadata": {},
   "outputs": [
    {
     "data": {
      "application/vnd.microsoft.datawrangler.viewer.v0+json": {
       "columns": [
        {
         "name": "index",
         "rawType": "datetime64[ns]",
         "type": "datetime"
        },
        {
         "name": "AAPL",
         "rawType": "float64",
         "type": "float"
        },
        {
         "name": "MSFT",
         "rawType": "float64",
         "type": "float"
        },
        {
         "name": "TSLA",
         "rawType": "float64",
         "type": "float"
        }
       ],
       "conversionMethod": "pd.DataFrame",
       "ref": "54ee0b62-3f3f-4ec7-9097-3e5b03b389ff",
       "rows": [
        [
         "2023-01-10 00:00:00",
         "10.0",
         "0.0",
         "0.0"
        ],
        [
         "2023-01-11 00:00:00",
         "10.0",
         "0.0",
         "0.0"
        ],
        [
         "2023-01-12 00:00:00",
         "10.0",
         "0.0",
         "0.0"
        ],
        [
         "2023-01-13 00:00:00",
         "10.0",
         "0.0",
         "0.0"
        ],
        [
         "2023-01-14 00:00:00",
         "10.0",
         "0.0",
         "0.0"
        ],
        [
         "2023-01-15 00:00:00",
         "10.0",
         "0.0",
         "0.0"
        ],
        [
         "2023-01-16 00:00:00",
         "10.0",
         "0.0",
         "0.0"
        ],
        [
         "2023-01-17 00:00:00",
         "10.0",
         "0.0",
         "0.0"
        ],
        [
         "2023-01-18 00:00:00",
         "10.0",
         "0.0",
         "0.0"
        ],
        [
         "2023-01-19 00:00:00",
         "10.0",
         "0.0",
         "0.0"
        ],
        [
         "2023-01-20 00:00:00",
         "10.0",
         "0.0",
         "0.0"
        ],
        [
         "2023-01-21 00:00:00",
         "10.0",
         "0.0",
         "0.0"
        ],
        [
         "2023-01-22 00:00:00",
         "10.0",
         "0.0",
         "0.0"
        ],
        [
         "2023-01-23 00:00:00",
         "10.0",
         "0.0",
         "0.0"
        ],
        [
         "2023-01-24 00:00:00",
         "10.0",
         "0.0",
         "0.0"
        ],
        [
         "2023-01-25 00:00:00",
         "10.0",
         "0.0",
         "0.0"
        ],
        [
         "2023-01-26 00:00:00",
         "10.0",
         "0.0",
         "0.0"
        ],
        [
         "2023-01-27 00:00:00",
         "10.0",
         "0.0",
         "0.0"
        ],
        [
         "2023-01-28 00:00:00",
         "10.0",
         "0.0",
         "0.0"
        ],
        [
         "2023-01-29 00:00:00",
         "10.0",
         "0.0",
         "0.0"
        ],
        [
         "2023-01-30 00:00:00",
         "10.0",
         "0.0",
         "0.0"
        ],
        [
         "2023-01-31 00:00:00",
         "10.0",
         "0.0",
         "0.0"
        ],
        [
         "2023-02-01 00:00:00",
         "10.0",
         "0.0",
         "0.0"
        ],
        [
         "2023-02-02 00:00:00",
         "10.0",
         "0.0",
         "0.0"
        ],
        [
         "2023-02-03 00:00:00",
         "10.0",
         "0.0",
         "0.0"
        ],
        [
         "2023-02-04 00:00:00",
         "10.0",
         "0.0",
         "0.0"
        ],
        [
         "2023-02-05 00:00:00",
         "10.0",
         "0.0",
         "0.0"
        ],
        [
         "2023-02-06 00:00:00",
         "10.0",
         "0.0",
         "0.0"
        ],
        [
         "2023-02-07 00:00:00",
         "10.0",
         "0.0",
         "0.0"
        ],
        [
         "2023-02-08 00:00:00",
         "10.0",
         "0.0",
         "0.0"
        ],
        [
         "2023-02-09 00:00:00",
         "10.0",
         "0.0",
         "0.0"
        ],
        [
         "2023-02-10 00:00:00",
         "10.0",
         "0.0",
         "0.0"
        ],
        [
         "2023-02-11 00:00:00",
         "10.0",
         "0.0",
         "0.0"
        ],
        [
         "2023-02-12 00:00:00",
         "10.0",
         "0.0",
         "0.0"
        ],
        [
         "2023-02-13 00:00:00",
         "10.0",
         "0.0",
         "0.0"
        ],
        [
         "2023-02-14 00:00:00",
         "10.0",
         "0.0",
         "0.0"
        ],
        [
         "2023-02-15 00:00:00",
         "10.0",
         "0.0",
         "5.0"
        ],
        [
         "2023-02-16 00:00:00",
         "10.0",
         "0.0",
         "5.0"
        ],
        [
         "2023-02-17 00:00:00",
         "10.0",
         "0.0",
         "5.0"
        ],
        [
         "2023-02-18 00:00:00",
         "10.0",
         "0.0",
         "5.0"
        ],
        [
         "2023-02-19 00:00:00",
         "10.0",
         "0.0",
         "5.0"
        ],
        [
         "2023-02-20 00:00:00",
         "10.0",
         "0.0",
         "5.0"
        ],
        [
         "2023-02-21 00:00:00",
         "10.0",
         "0.0",
         "5.0"
        ],
        [
         "2023-02-22 00:00:00",
         "10.0",
         "0.0",
         "5.0"
        ],
        [
         "2023-02-23 00:00:00",
         "10.0",
         "0.0",
         "5.0"
        ],
        [
         "2023-02-24 00:00:00",
         "10.0",
         "0.0",
         "5.0"
        ],
        [
         "2023-02-25 00:00:00",
         "10.0",
         "0.0",
         "5.0"
        ],
        [
         "2023-02-26 00:00:00",
         "10.0",
         "0.0",
         "5.0"
        ],
        [
         "2023-02-27 00:00:00",
         "10.0",
         "0.0",
         "5.0"
        ],
        [
         "2023-02-28 00:00:00",
         "10.0",
         "0.0",
         "5.0"
        ]
       ],
       "shape": {
        "columns": 3,
        "rows": 827
       }
      },
      "text/html": [
       "<div>\n",
       "<style scoped>\n",
       "    .dataframe tbody tr th:only-of-type {\n",
       "        vertical-align: middle;\n",
       "    }\n",
       "\n",
       "    .dataframe tbody tr th {\n",
       "        vertical-align: top;\n",
       "    }\n",
       "\n",
       "    .dataframe thead th {\n",
       "        text-align: right;\n",
       "    }\n",
       "</style>\n",
       "<table border=\"1\" class=\"dataframe\">\n",
       "  <thead>\n",
       "    <tr style=\"text-align: right;\">\n",
       "      <th>ticker</th>\n",
       "      <th>AAPL</th>\n",
       "      <th>MSFT</th>\n",
       "      <th>TSLA</th>\n",
       "    </tr>\n",
       "  </thead>\n",
       "  <tbody>\n",
       "    <tr>\n",
       "      <th>2023-01-10</th>\n",
       "      <td>10.0</td>\n",
       "      <td>0.0</td>\n",
       "      <td>0.0</td>\n",
       "    </tr>\n",
       "    <tr>\n",
       "      <th>2023-01-11</th>\n",
       "      <td>10.0</td>\n",
       "      <td>0.0</td>\n",
       "      <td>0.0</td>\n",
       "    </tr>\n",
       "    <tr>\n",
       "      <th>2023-01-12</th>\n",
       "      <td>10.0</td>\n",
       "      <td>0.0</td>\n",
       "      <td>0.0</td>\n",
       "    </tr>\n",
       "    <tr>\n",
       "      <th>2023-01-13</th>\n",
       "      <td>10.0</td>\n",
       "      <td>0.0</td>\n",
       "      <td>0.0</td>\n",
       "    </tr>\n",
       "    <tr>\n",
       "      <th>2023-01-14</th>\n",
       "      <td>10.0</td>\n",
       "      <td>0.0</td>\n",
       "      <td>0.0</td>\n",
       "    </tr>\n",
       "    <tr>\n",
       "      <th>...</th>\n",
       "      <td>...</td>\n",
       "      <td>...</td>\n",
       "      <td>...</td>\n",
       "    </tr>\n",
       "    <tr>\n",
       "      <th>2025-04-11</th>\n",
       "      <td>7.0</td>\n",
       "      <td>8.0</td>\n",
       "      <td>5.0</td>\n",
       "    </tr>\n",
       "    <tr>\n",
       "      <th>2025-04-12</th>\n",
       "      <td>7.0</td>\n",
       "      <td>8.0</td>\n",
       "      <td>5.0</td>\n",
       "    </tr>\n",
       "    <tr>\n",
       "      <th>2025-04-13</th>\n",
       "      <td>7.0</td>\n",
       "      <td>8.0</td>\n",
       "      <td>5.0</td>\n",
       "    </tr>\n",
       "    <tr>\n",
       "      <th>2025-04-14</th>\n",
       "      <td>7.0</td>\n",
       "      <td>8.0</td>\n",
       "      <td>5.0</td>\n",
       "    </tr>\n",
       "    <tr>\n",
       "      <th>2025-04-15</th>\n",
       "      <td>7.0</td>\n",
       "      <td>8.0</td>\n",
       "      <td>5.0</td>\n",
       "    </tr>\n",
       "  </tbody>\n",
       "</table>\n",
       "<p>827 rows × 3 columns</p>\n",
       "</div>"
      ],
      "text/plain": [
       "ticker      AAPL  MSFT  TSLA\n",
       "2023-01-10  10.0   0.0   0.0\n",
       "2023-01-11  10.0   0.0   0.0\n",
       "2023-01-12  10.0   0.0   0.0\n",
       "2023-01-13  10.0   0.0   0.0\n",
       "2023-01-14  10.0   0.0   0.0\n",
       "...          ...   ...   ...\n",
       "2025-04-11   7.0   8.0   5.0\n",
       "2025-04-12   7.0   8.0   5.0\n",
       "2025-04-13   7.0   8.0   5.0\n",
       "2025-04-14   7.0   8.0   5.0\n",
       "2025-04-15   7.0   8.0   5.0\n",
       "\n",
       "[827 rows x 3 columns]"
      ]
     },
     "execution_count": 126,
     "metadata": {},
     "output_type": "execute_result"
    }
   ],
   "source": [
    "history"
   ]
  },
  {
   "cell_type": "code",
   "execution_count": 134,
   "metadata": {},
   "outputs": [
    {
     "data": {
      "application/vnd.microsoft.datawrangler.viewer.v0+json": {
       "columns": [
        {
         "name": "Date",
         "rawType": "datetime64[ns]",
         "type": "datetime"
        },
        {
         "name": "AAPL",
         "rawType": "float64",
         "type": "float"
        },
        {
         "name": "MSFT",
         "rawType": "float64",
         "type": "float"
        },
        {
         "name": "TSLA",
         "rawType": "float64",
         "type": "float"
        }
       ],
       "conversionMethod": "pd.DataFrame",
       "ref": "9debde5d-ddef-42a5-a5c7-d38e9704390c",
       "rows": [
        [
         "2023-01-10 00:00:00",
         "129.2274627685547",
         "224.70440673828125",
         "118.8499984741211"
        ],
        [
         "2023-01-11 00:00:00",
         "131.95578002929688",
         "231.49903869628906",
         "123.22000122070312"
        ],
        [
         "2023-01-12 00:00:00",
         "131.87667846679688",
         "234.18942260742188",
         "123.55999755859375"
        ],
        [
         "2023-01-13 00:00:00",
         "133.21115112304688",
         "234.8963623046875",
         "122.4000015258789"
        ],
        [
         "2023-01-17 00:00:00",
         "134.37759399414062",
         "235.99610900878906",
         "131.49000549316406"
        ],
        [
         "2023-01-18 00:00:00",
         "133.6559600830078",
         "231.538330078125",
         "128.77999877929688"
        ],
        [
         "2023-01-19 00:00:00",
         "133.71530151367188",
         "227.72860717773438",
         "127.16999816894531"
        ],
        [
         "2023-01-20 00:00:00",
         "136.28543090820312",
         "235.86843872070312",
         "133.4199981689453"
        ],
        [
         "2023-01-23 00:00:00",
         "139.48818969726562",
         "238.18568420410156",
         "143.75"
        ],
        [
         "2023-01-24 00:00:00",
         "140.89186096191406",
         "237.65545654296875",
         "143.88999938964844"
        ],
        [
         "2023-01-25 00:00:00",
         "140.2295684814453",
         "236.25137329101562",
         "144.42999267578125"
        ],
        [
         "2023-01-26 00:00:00",
         "142.30543518066406",
         "243.50750732421875",
         "160.27000427246094"
        ],
        [
         "2023-01-27 00:00:00",
         "144.2527618408203",
         "243.6645965576172",
         "177.89999389648438"
        ],
        [
         "2023-01-30 00:00:00",
         "141.3564453125",
         "238.31332397460938",
         "166.66000366210938"
        ],
        [
         "2023-01-31 00:00:00",
         "142.63160705566406",
         "243.32093811035156",
         "173.22000122070312"
        ],
        [
         "2023-02-01 00:00:00",
         "143.75851440429688",
         "248.17144775390625",
         "181.41000366210938"
        ],
        [
         "2023-02-02 00:00:00",
         "149.08657836914062",
         "259.8067626953125",
         "188.27000427246094"
        ],
        [
         "2023-02-03 00:00:00",
         "152.72427368164062",
         "253.67002868652344",
         "189.97999572753906"
        ],
        [
         "2023-02-06 00:00:00",
         "149.98609924316406",
         "252.11863708496094",
         "194.75999450683594"
        ],
        [
         "2023-02-07 00:00:00",
         "152.87255859375",
         "262.71319580078125",
         "196.80999755859375"
        ],
        [
         "2023-02-08 00:00:00",
         "150.17391967773438",
         "261.8981628417969",
         "201.2899932861328"
        ],
        [
         "2023-02-09 00:00:00",
         "149.13601684570312",
         "258.84454345703125",
         "207.32000732421875"
        ],
        [
         "2023-02-10 00:00:00",
         "149.50228881835938",
         "258.3339538574219",
         "196.88999938964844"
        ],
        [
         "2023-02-13 00:00:00",
         "152.31396484375",
         "266.40509033203125",
         "194.63999938964844"
        ],
        [
         "2023-02-14 00:00:00",
         "151.6704559326172",
         "267.23968505859375",
         "209.25"
        ],
        [
         "2023-02-15 00:00:00",
         "153.7791748046875",
         "265.1036682128906",
         "214.24000549316406"
        ],
        [
         "2023-02-16 00:00:00",
         "152.1753387451172",
         "258.0458679199219",
         "202.0399932861328"
        ],
        [
         "2023-02-17 00:00:00",
         "151.02694702148438",
         "254.01988220214844",
         "208.30999755859375"
        ],
        [
         "2023-02-21 00:00:00",
         "146.99755859375",
         "248.71432495117188",
         "197.3699951171875"
        ],
        [
         "2023-02-22 00:00:00",
         "147.4232940673828",
         "247.5724639892578",
         "200.86000061035156"
        ],
        [
         "2023-02-23 00:00:00",
         "147.90838623046875",
         "250.7814178466797",
         "202.07000732421875"
        ],
        [
         "2023-02-24 00:00:00",
         "145.24525451660156",
         "245.3183135986328",
         "196.8800048828125"
        ],
        [
         "2023-02-27 00:00:00",
         "146.44313049316406",
         "246.24362182617188",
         "207.6300048828125"
        ],
        [
         "2023-02-28 00:00:00",
         "145.93824768066406",
         "245.5151824951172",
         "205.7100067138672"
        ],
        [
         "2023-03-01 00:00:00",
         "143.8592071533203",
         "242.41448974609375",
         "202.77000427246094"
        ],
        [
         "2023-03-02 00:00:00",
         "144.45323181152344",
         "247.17872619628906",
         "190.89999389648438"
        ],
        [
         "2023-03-03 00:00:00",
         "149.52212524414062",
         "251.2932891845703",
         "197.7899932861328"
        ],
        [
         "2023-03-06 00:00:00",
         "152.2941436767578",
         "252.84854125976562",
         "193.80999755859375"
        ],
        [
         "2023-03-07 00:00:00",
         "150.08642578125",
         "250.17112731933594",
         "187.7100067138672"
        ],
        [
         "2023-03-08 00:00:00",
         "151.34375",
         "249.72817993164062",
         "182.0"
        ],
        [
         "2023-03-09 00:00:00",
         "149.0865020751953",
         "248.3697967529297",
         "172.9199981689453"
        ],
        [
         "2023-03-10 00:00:00",
         "147.01736450195312",
         "244.69818115234375",
         "173.44000244140625"
        ],
        [
         "2023-03-13 00:00:00",
         "148.96771240234375",
         "249.94473266601562",
         "174.47999572753906"
        ],
        [
         "2023-03-14 00:00:00",
         "151.06654357910156",
         "256.70721435546875",
         "183.25999450683594"
        ],
        [
         "2023-03-15 00:00:00",
         "151.4625244140625",
         "261.28436279296875",
         "180.4499969482422"
        ],
        [
         "2023-03-16 00:00:00",
         "154.29400634765625",
         "271.8759460449219",
         "184.1300048828125"
        ],
        [
         "2023-03-17 00:00:00",
         "153.45249938964844",
         "275.05535888671875",
         "180.1300048828125"
        ],
        [
         "2023-03-20 00:00:00",
         "155.8284912109375",
         "267.9681091308594",
         "183.25"
        ],
        [
         "2023-03-21 00:00:00",
         "157.6897430419922",
         "269.4938049316406",
         "197.5800018310547"
        ],
        [
         "2023-03-22 00:00:00",
         "156.2542266845703",
         "268.0271301269531",
         "191.14999389648438"
        ]
       ],
       "shape": {
        "columns": 3,
        "rows": 567
       }
      },
      "text/html": [
       "<div>\n",
       "<style scoped>\n",
       "    .dataframe tbody tr th:only-of-type {\n",
       "        vertical-align: middle;\n",
       "    }\n",
       "\n",
       "    .dataframe tbody tr th {\n",
       "        vertical-align: top;\n",
       "    }\n",
       "\n",
       "    .dataframe thead th {\n",
       "        text-align: right;\n",
       "    }\n",
       "</style>\n",
       "<table border=\"1\" class=\"dataframe\">\n",
       "  <thead>\n",
       "    <tr style=\"text-align: right;\">\n",
       "      <th>Ticker</th>\n",
       "      <th>AAPL</th>\n",
       "      <th>MSFT</th>\n",
       "      <th>TSLA</th>\n",
       "    </tr>\n",
       "    <tr>\n",
       "      <th>Date</th>\n",
       "      <th></th>\n",
       "      <th></th>\n",
       "      <th></th>\n",
       "    </tr>\n",
       "  </thead>\n",
       "  <tbody>\n",
       "    <tr>\n",
       "      <th>2023-01-10</th>\n",
       "      <td>129.227463</td>\n",
       "      <td>224.704407</td>\n",
       "      <td>118.849998</td>\n",
       "    </tr>\n",
       "    <tr>\n",
       "      <th>2023-01-11</th>\n",
       "      <td>131.955780</td>\n",
       "      <td>231.499039</td>\n",
       "      <td>123.220001</td>\n",
       "    </tr>\n",
       "    <tr>\n",
       "      <th>2023-01-12</th>\n",
       "      <td>131.876678</td>\n",
       "      <td>234.189423</td>\n",
       "      <td>123.559998</td>\n",
       "    </tr>\n",
       "    <tr>\n",
       "      <th>2023-01-13</th>\n",
       "      <td>133.211151</td>\n",
       "      <td>234.896362</td>\n",
       "      <td>122.400002</td>\n",
       "    </tr>\n",
       "    <tr>\n",
       "      <th>2023-01-17</th>\n",
       "      <td>134.377594</td>\n",
       "      <td>235.996109</td>\n",
       "      <td>131.490005</td>\n",
       "    </tr>\n",
       "    <tr>\n",
       "      <th>...</th>\n",
       "      <td>...</td>\n",
       "      <td>...</td>\n",
       "      <td>...</td>\n",
       "    </tr>\n",
       "    <tr>\n",
       "      <th>2025-04-08</th>\n",
       "      <td>172.419998</td>\n",
       "      <td>354.559998</td>\n",
       "      <td>221.860001</td>\n",
       "    </tr>\n",
       "    <tr>\n",
       "      <th>2025-04-09</th>\n",
       "      <td>198.850006</td>\n",
       "      <td>390.489990</td>\n",
       "      <td>272.200012</td>\n",
       "    </tr>\n",
       "    <tr>\n",
       "      <th>2025-04-10</th>\n",
       "      <td>190.419998</td>\n",
       "      <td>381.350006</td>\n",
       "      <td>252.399994</td>\n",
       "    </tr>\n",
       "    <tr>\n",
       "      <th>2025-04-11</th>\n",
       "      <td>198.149994</td>\n",
       "      <td>388.450012</td>\n",
       "      <td>252.309998</td>\n",
       "    </tr>\n",
       "    <tr>\n",
       "      <th>2025-04-14</th>\n",
       "      <td>202.520004</td>\n",
       "      <td>387.809998</td>\n",
       "      <td>252.350006</td>\n",
       "    </tr>\n",
       "  </tbody>\n",
       "</table>\n",
       "<p>567 rows × 3 columns</p>\n",
       "</div>"
      ],
      "text/plain": [
       "Ticker            AAPL        MSFT        TSLA\n",
       "Date                                          \n",
       "2023-01-10  129.227463  224.704407  118.849998\n",
       "2023-01-11  131.955780  231.499039  123.220001\n",
       "2023-01-12  131.876678  234.189423  123.559998\n",
       "2023-01-13  133.211151  234.896362  122.400002\n",
       "2023-01-17  134.377594  235.996109  131.490005\n",
       "...                ...         ...         ...\n",
       "2025-04-08  172.419998  354.559998  221.860001\n",
       "2025-04-09  198.850006  390.489990  272.200012\n",
       "2025-04-10  190.419998  381.350006  252.399994\n",
       "2025-04-11  198.149994  388.450012  252.309998\n",
       "2025-04-14  202.520004  387.809998  252.350006\n",
       "\n",
       "[567 rows x 3 columns]"
      ]
     },
     "execution_count": 134,
     "metadata": {},
     "output_type": "execute_result"
    }
   ],
   "source": [
    "data[\"Close\"]"
   ]
  },
  {
   "cell_type": "code",
   "execution_count": 131,
   "metadata": {},
   "outputs": [
    {
     "data": {
      "application/vnd.microsoft.datawrangler.viewer.v0+json": {
       "columns": [
        {
         "name": "index",
         "rawType": "datetime64[ns]",
         "type": "datetime"
        },
        {
         "name": "AAPL",
         "rawType": "float64",
         "type": "float"
        },
        {
         "name": "MSFT",
         "rawType": "float64",
         "type": "float"
        },
        {
         "name": "TSLA",
         "rawType": "float64",
         "type": "float"
        }
       ],
       "conversionMethod": "pd.DataFrame",
       "ref": "e580d31a-f43d-4dd9-923d-9f6ada3d1f3a",
       "rows": [
        [
         "2023-01-10 00:00:00",
         "1292.2746276855469",
         "0.0",
         "0.0"
        ],
        [
         "2023-01-11 00:00:00",
         "1319.5578002929688",
         "0.0",
         "0.0"
        ],
        [
         "2023-01-12 00:00:00",
         "1318.7667846679688",
         "0.0",
         "0.0"
        ],
        [
         "2023-01-13 00:00:00",
         "1332.1115112304688",
         "0.0",
         "0.0"
        ],
        [
         "2023-01-14 00:00:00",
         null,
         null,
         null
        ],
        [
         "2023-01-15 00:00:00",
         null,
         null,
         null
        ],
        [
         "2023-01-16 00:00:00",
         null,
         null,
         null
        ],
        [
         "2023-01-17 00:00:00",
         "1343.7759399414062",
         "0.0",
         "0.0"
        ],
        [
         "2023-01-18 00:00:00",
         "1336.5596008300781",
         "0.0",
         "0.0"
        ],
        [
         "2023-01-19 00:00:00",
         "1337.1530151367188",
         "0.0",
         "0.0"
        ],
        [
         "2023-01-20 00:00:00",
         "1362.8543090820312",
         "0.0",
         "0.0"
        ],
        [
         "2023-01-21 00:00:00",
         null,
         null,
         null
        ],
        [
         "2023-01-22 00:00:00",
         null,
         null,
         null
        ],
        [
         "2023-01-23 00:00:00",
         "1394.8818969726562",
         "0.0",
         "0.0"
        ],
        [
         "2023-01-24 00:00:00",
         "1408.9186096191406",
         "0.0",
         "0.0"
        ],
        [
         "2023-01-25 00:00:00",
         "1402.2956848144531",
         "0.0",
         "0.0"
        ],
        [
         "2023-01-26 00:00:00",
         "1423.0543518066406",
         "0.0",
         "0.0"
        ],
        [
         "2023-01-27 00:00:00",
         "1442.5276184082031",
         "0.0",
         "0.0"
        ],
        [
         "2023-01-28 00:00:00",
         null,
         null,
         null
        ],
        [
         "2023-01-29 00:00:00",
         null,
         null,
         null
        ],
        [
         "2023-01-30 00:00:00",
         "1413.564453125",
         "0.0",
         "0.0"
        ],
        [
         "2023-01-31 00:00:00",
         "1426.3160705566406",
         "0.0",
         "0.0"
        ],
        [
         "2023-02-01 00:00:00",
         "1437.5851440429688",
         "0.0",
         "0.0"
        ],
        [
         "2023-02-02 00:00:00",
         "1490.8657836914062",
         "0.0",
         "0.0"
        ],
        [
         "2023-02-03 00:00:00",
         "1527.2427368164062",
         "0.0",
         "0.0"
        ],
        [
         "2023-02-04 00:00:00",
         null,
         null,
         null
        ],
        [
         "2023-02-05 00:00:00",
         null,
         null,
         null
        ],
        [
         "2023-02-06 00:00:00",
         "1499.8609924316406",
         "0.0",
         "0.0"
        ],
        [
         "2023-02-07 00:00:00",
         "1528.7255859375",
         "0.0",
         "0.0"
        ],
        [
         "2023-02-08 00:00:00",
         "1501.7391967773438",
         "0.0",
         "0.0"
        ],
        [
         "2023-02-09 00:00:00",
         "1491.3601684570312",
         "0.0",
         "0.0"
        ],
        [
         "2023-02-10 00:00:00",
         "1495.0228881835938",
         "0.0",
         "0.0"
        ],
        [
         "2023-02-11 00:00:00",
         null,
         null,
         null
        ],
        [
         "2023-02-12 00:00:00",
         null,
         null,
         null
        ],
        [
         "2023-02-13 00:00:00",
         "1523.1396484375",
         "0.0",
         "0.0"
        ],
        [
         "2023-02-14 00:00:00",
         "1516.7045593261719",
         "0.0",
         "0.0"
        ],
        [
         "2023-02-15 00:00:00",
         "1537.791748046875",
         "0.0",
         "1071.2000274658203"
        ],
        [
         "2023-02-16 00:00:00",
         "1521.7533874511719",
         "0.0",
         "1010.1999664306641"
        ],
        [
         "2023-02-17 00:00:00",
         "1510.2694702148438",
         "0.0",
         "1041.5499877929688"
        ],
        [
         "2023-02-18 00:00:00",
         null,
         null,
         null
        ],
        [
         "2023-02-19 00:00:00",
         null,
         null,
         null
        ],
        [
         "2023-02-20 00:00:00",
         null,
         null,
         null
        ],
        [
         "2023-02-21 00:00:00",
         "1469.9755859375",
         "0.0",
         "986.8499755859375"
        ],
        [
         "2023-02-22 00:00:00",
         "1474.2329406738281",
         "0.0",
         "1004.3000030517578"
        ],
        [
         "2023-02-23 00:00:00",
         "1479.0838623046875",
         "0.0",
         "1010.3500366210938"
        ],
        [
         "2023-02-24 00:00:00",
         "1452.4525451660156",
         "0.0",
         "984.4000244140625"
        ],
        [
         "2023-02-25 00:00:00",
         null,
         null,
         null
        ],
        [
         "2023-02-26 00:00:00",
         null,
         null,
         null
        ],
        [
         "2023-02-27 00:00:00",
         "1464.4313049316406",
         "0.0",
         "1038.1500244140625"
        ],
        [
         "2023-02-28 00:00:00",
         "1459.3824768066406",
         "0.0",
         "1028.550033569336"
        ]
       ],
       "shape": {
        "columns": 3,
        "rows": 827
       }
      },
      "text/html": [
       "<div>\n",
       "<style scoped>\n",
       "    .dataframe tbody tr th:only-of-type {\n",
       "        vertical-align: middle;\n",
       "    }\n",
       "\n",
       "    .dataframe tbody tr th {\n",
       "        vertical-align: top;\n",
       "    }\n",
       "\n",
       "    .dataframe thead th {\n",
       "        text-align: right;\n",
       "    }\n",
       "</style>\n",
       "<table border=\"1\" class=\"dataframe\">\n",
       "  <thead>\n",
       "    <tr style=\"text-align: right;\">\n",
       "      <th>ticker</th>\n",
       "      <th>AAPL</th>\n",
       "      <th>MSFT</th>\n",
       "      <th>TSLA</th>\n",
       "    </tr>\n",
       "  </thead>\n",
       "  <tbody>\n",
       "    <tr>\n",
       "      <th>2023-01-10</th>\n",
       "      <td>1292.274628</td>\n",
       "      <td>0.000000</td>\n",
       "      <td>0.000000</td>\n",
       "    </tr>\n",
       "    <tr>\n",
       "      <th>2023-01-11</th>\n",
       "      <td>1319.557800</td>\n",
       "      <td>0.000000</td>\n",
       "      <td>0.000000</td>\n",
       "    </tr>\n",
       "    <tr>\n",
       "      <th>2023-01-12</th>\n",
       "      <td>1318.766785</td>\n",
       "      <td>0.000000</td>\n",
       "      <td>0.000000</td>\n",
       "    </tr>\n",
       "    <tr>\n",
       "      <th>2023-01-13</th>\n",
       "      <td>1332.111511</td>\n",
       "      <td>0.000000</td>\n",
       "      <td>0.000000</td>\n",
       "    </tr>\n",
       "    <tr>\n",
       "      <th>2023-01-14</th>\n",
       "      <td>NaN</td>\n",
       "      <td>NaN</td>\n",
       "      <td>NaN</td>\n",
       "    </tr>\n",
       "    <tr>\n",
       "      <th>...</th>\n",
       "      <td>...</td>\n",
       "      <td>...</td>\n",
       "      <td>...</td>\n",
       "    </tr>\n",
       "    <tr>\n",
       "      <th>2025-04-11</th>\n",
       "      <td>1387.049957</td>\n",
       "      <td>3107.600098</td>\n",
       "      <td>1261.549988</td>\n",
       "    </tr>\n",
       "    <tr>\n",
       "      <th>2025-04-12</th>\n",
       "      <td>NaN</td>\n",
       "      <td>NaN</td>\n",
       "      <td>NaN</td>\n",
       "    </tr>\n",
       "    <tr>\n",
       "      <th>2025-04-13</th>\n",
       "      <td>NaN</td>\n",
       "      <td>NaN</td>\n",
       "      <td>NaN</td>\n",
       "    </tr>\n",
       "    <tr>\n",
       "      <th>2025-04-14</th>\n",
       "      <td>1417.640030</td>\n",
       "      <td>3102.479980</td>\n",
       "      <td>1261.750031</td>\n",
       "    </tr>\n",
       "    <tr>\n",
       "      <th>2025-04-15</th>\n",
       "      <td>NaN</td>\n",
       "      <td>NaN</td>\n",
       "      <td>NaN</td>\n",
       "    </tr>\n",
       "  </tbody>\n",
       "</table>\n",
       "<p>827 rows × 3 columns</p>\n",
       "</div>"
      ],
      "text/plain": [
       "ticker             AAPL         MSFT         TSLA\n",
       "2023-01-10  1292.274628     0.000000     0.000000\n",
       "2023-01-11  1319.557800     0.000000     0.000000\n",
       "2023-01-12  1318.766785     0.000000     0.000000\n",
       "2023-01-13  1332.111511     0.000000     0.000000\n",
       "2023-01-14          NaN          NaN          NaN\n",
       "...                 ...          ...          ...\n",
       "2025-04-11  1387.049957  3107.600098  1261.549988\n",
       "2025-04-12          NaN          NaN          NaN\n",
       "2025-04-13          NaN          NaN          NaN\n",
       "2025-04-14  1417.640030  3102.479980  1261.750031\n",
       "2025-04-15          NaN          NaN          NaN\n",
       "\n",
       "[827 rows x 3 columns]"
      ]
     },
     "execution_count": 131,
     "metadata": {},
     "output_type": "execute_result"
    }
   ],
   "source": [
    "daily_value = history * data[\"Close\"]\n",
    "daily_value"
   ]
  },
  {
   "cell_type": "code",
   "execution_count": 135,
   "metadata": {},
   "outputs": [
    {
     "name": "stderr",
     "output_type": "stream",
     "text": [
      "/var/folders/01/63vbx23n4j1f9ykpncsfr4mm0000gn/T/ipykernel_4646/4182746832.py:1: FutureWarning: DataFrame.fillna with 'method' is deprecated and will raise in a future version. Use obj.ffill() or obj.bfill() instead.\n",
      "  daily_value = daily_value.fillna(method=\"bfill\")\n"
     ]
    }
   ],
   "source": [
    "daily_value = daily_value.fillna(method=\"bfill\")"
   ]
  },
  {
   "cell_type": "code",
   "execution_count": 138,
   "metadata": {},
   "outputs": [],
   "source": [
    "daily_value[\"Total\"] = daily_value.sum(axis=1)"
   ]
  },
  {
   "cell_type": "code",
   "execution_count": 139,
   "metadata": {},
   "outputs": [
    {
     "data": {
      "application/vnd.microsoft.datawrangler.viewer.v0+json": {
       "columns": [
        {
         "name": "index",
         "rawType": "datetime64[ns]",
         "type": "datetime"
        },
        {
         "name": "AAPL",
         "rawType": "float64",
         "type": "float"
        },
        {
         "name": "MSFT",
         "rawType": "float64",
         "type": "float"
        },
        {
         "name": "TSLA",
         "rawType": "float64",
         "type": "float"
        },
        {
         "name": "Total",
         "rawType": "float64",
         "type": "float"
        }
       ],
       "conversionMethod": "pd.DataFrame",
       "ref": "92c14c36-86cf-404e-b66f-f9a59d1bf029",
       "rows": [
        [
         "2023-01-10 00:00:00",
         "1292.2746276855469",
         "0.0",
         "0.0",
         "1292.2746276855469"
        ],
        [
         "2023-01-11 00:00:00",
         "1319.5578002929688",
         "0.0",
         "0.0",
         "1319.5578002929688"
        ],
        [
         "2023-01-12 00:00:00",
         "1318.7667846679688",
         "0.0",
         "0.0",
         "1318.7667846679688"
        ],
        [
         "2023-01-13 00:00:00",
         "1332.1115112304688",
         "0.0",
         "0.0",
         "1332.1115112304688"
        ],
        [
         "2023-01-14 00:00:00",
         "1343.7759399414062",
         "0.0",
         "0.0",
         "1343.7759399414062"
        ],
        [
         "2023-01-15 00:00:00",
         "1343.7759399414062",
         "0.0",
         "0.0",
         "1343.7759399414062"
        ],
        [
         "2023-01-16 00:00:00",
         "1343.7759399414062",
         "0.0",
         "0.0",
         "1343.7759399414062"
        ],
        [
         "2023-01-17 00:00:00",
         "1343.7759399414062",
         "0.0",
         "0.0",
         "1343.7759399414062"
        ],
        [
         "2023-01-18 00:00:00",
         "1336.5596008300781",
         "0.0",
         "0.0",
         "1336.5596008300781"
        ],
        [
         "2023-01-19 00:00:00",
         "1337.1530151367188",
         "0.0",
         "0.0",
         "1337.1530151367188"
        ],
        [
         "2023-01-20 00:00:00",
         "1362.8543090820312",
         "0.0",
         "0.0",
         "1362.8543090820312"
        ],
        [
         "2023-01-21 00:00:00",
         "1394.8818969726562",
         "0.0",
         "0.0",
         "1394.8818969726562"
        ],
        [
         "2023-01-22 00:00:00",
         "1394.8818969726562",
         "0.0",
         "0.0",
         "1394.8818969726562"
        ],
        [
         "2023-01-23 00:00:00",
         "1394.8818969726562",
         "0.0",
         "0.0",
         "1394.8818969726562"
        ],
        [
         "2023-01-24 00:00:00",
         "1408.9186096191406",
         "0.0",
         "0.0",
         "1408.9186096191406"
        ],
        [
         "2023-01-25 00:00:00",
         "1402.2956848144531",
         "0.0",
         "0.0",
         "1402.2956848144531"
        ],
        [
         "2023-01-26 00:00:00",
         "1423.0543518066406",
         "0.0",
         "0.0",
         "1423.0543518066406"
        ],
        [
         "2023-01-27 00:00:00",
         "1442.5276184082031",
         "0.0",
         "0.0",
         "1442.5276184082031"
        ],
        [
         "2023-01-28 00:00:00",
         "1413.564453125",
         "0.0",
         "0.0",
         "1413.564453125"
        ],
        [
         "2023-01-29 00:00:00",
         "1413.564453125",
         "0.0",
         "0.0",
         "1413.564453125"
        ],
        [
         "2023-01-30 00:00:00",
         "1413.564453125",
         "0.0",
         "0.0",
         "1413.564453125"
        ],
        [
         "2023-01-31 00:00:00",
         "1426.3160705566406",
         "0.0",
         "0.0",
         "1426.3160705566406"
        ],
        [
         "2023-02-01 00:00:00",
         "1437.5851440429688",
         "0.0",
         "0.0",
         "1437.5851440429688"
        ],
        [
         "2023-02-02 00:00:00",
         "1490.8657836914062",
         "0.0",
         "0.0",
         "1490.8657836914062"
        ],
        [
         "2023-02-03 00:00:00",
         "1527.2427368164062",
         "0.0",
         "0.0",
         "1527.2427368164062"
        ],
        [
         "2023-02-04 00:00:00",
         "1499.8609924316406",
         "0.0",
         "0.0",
         "1499.8609924316406"
        ],
        [
         "2023-02-05 00:00:00",
         "1499.8609924316406",
         "0.0",
         "0.0",
         "1499.8609924316406"
        ],
        [
         "2023-02-06 00:00:00",
         "1499.8609924316406",
         "0.0",
         "0.0",
         "1499.8609924316406"
        ],
        [
         "2023-02-07 00:00:00",
         "1528.7255859375",
         "0.0",
         "0.0",
         "1528.7255859375"
        ],
        [
         "2023-02-08 00:00:00",
         "1501.7391967773438",
         "0.0",
         "0.0",
         "1501.7391967773438"
        ],
        [
         "2023-02-09 00:00:00",
         "1491.3601684570312",
         "0.0",
         "0.0",
         "1491.3601684570312"
        ],
        [
         "2023-02-10 00:00:00",
         "1495.0228881835938",
         "0.0",
         "0.0",
         "1495.0228881835938"
        ],
        [
         "2023-02-11 00:00:00",
         "1523.1396484375",
         "0.0",
         "0.0",
         "1523.1396484375"
        ],
        [
         "2023-02-12 00:00:00",
         "1523.1396484375",
         "0.0",
         "0.0",
         "1523.1396484375"
        ],
        [
         "2023-02-13 00:00:00",
         "1523.1396484375",
         "0.0",
         "0.0",
         "1523.1396484375"
        ],
        [
         "2023-02-14 00:00:00",
         "1516.7045593261719",
         "0.0",
         "0.0",
         "1516.7045593261719"
        ],
        [
         "2023-02-15 00:00:00",
         "1537.791748046875",
         "0.0",
         "1071.2000274658203",
         "2608.9917755126953"
        ],
        [
         "2023-02-16 00:00:00",
         "1521.7533874511719",
         "0.0",
         "1010.1999664306641",
         "2531.953353881836"
        ],
        [
         "2023-02-17 00:00:00",
         "1510.2694702148438",
         "0.0",
         "1041.5499877929688",
         "2551.8194580078125"
        ],
        [
         "2023-02-18 00:00:00",
         "1469.9755859375",
         "0.0",
         "986.8499755859375",
         "2456.8255615234375"
        ],
        [
         "2023-02-19 00:00:00",
         "1469.9755859375",
         "0.0",
         "986.8499755859375",
         "2456.8255615234375"
        ],
        [
         "2023-02-20 00:00:00",
         "1469.9755859375",
         "0.0",
         "986.8499755859375",
         "2456.8255615234375"
        ],
        [
         "2023-02-21 00:00:00",
         "1469.9755859375",
         "0.0",
         "986.8499755859375",
         "2456.8255615234375"
        ],
        [
         "2023-02-22 00:00:00",
         "1474.2329406738281",
         "0.0",
         "1004.3000030517578",
         "2478.532943725586"
        ],
        [
         "2023-02-23 00:00:00",
         "1479.0838623046875",
         "0.0",
         "1010.3500366210938",
         "2489.4338989257812"
        ],
        [
         "2023-02-24 00:00:00",
         "1452.4525451660156",
         "0.0",
         "984.4000244140625",
         "2436.852569580078"
        ],
        [
         "2023-02-25 00:00:00",
         "1464.4313049316406",
         "0.0",
         "1038.1500244140625",
         "2502.581329345703"
        ],
        [
         "2023-02-26 00:00:00",
         "1464.4313049316406",
         "0.0",
         "1038.1500244140625",
         "2502.581329345703"
        ],
        [
         "2023-02-27 00:00:00",
         "1464.4313049316406",
         "0.0",
         "1038.1500244140625",
         "2502.581329345703"
        ],
        [
         "2023-02-28 00:00:00",
         "1459.3824768066406",
         "0.0",
         "1028.550033569336",
         "2487.9325103759766"
        ]
       ],
       "shape": {
        "columns": 4,
        "rows": 827
       }
      },
      "text/html": [
       "<div>\n",
       "<style scoped>\n",
       "    .dataframe tbody tr th:only-of-type {\n",
       "        vertical-align: middle;\n",
       "    }\n",
       "\n",
       "    .dataframe tbody tr th {\n",
       "        vertical-align: top;\n",
       "    }\n",
       "\n",
       "    .dataframe thead th {\n",
       "        text-align: right;\n",
       "    }\n",
       "</style>\n",
       "<table border=\"1\" class=\"dataframe\">\n",
       "  <thead>\n",
       "    <tr style=\"text-align: right;\">\n",
       "      <th>ticker</th>\n",
       "      <th>AAPL</th>\n",
       "      <th>MSFT</th>\n",
       "      <th>TSLA</th>\n",
       "      <th>Total</th>\n",
       "    </tr>\n",
       "  </thead>\n",
       "  <tbody>\n",
       "    <tr>\n",
       "      <th>2023-01-10</th>\n",
       "      <td>1292.274628</td>\n",
       "      <td>0.000000</td>\n",
       "      <td>0.000000</td>\n",
       "      <td>1292.274628</td>\n",
       "    </tr>\n",
       "    <tr>\n",
       "      <th>2023-01-11</th>\n",
       "      <td>1319.557800</td>\n",
       "      <td>0.000000</td>\n",
       "      <td>0.000000</td>\n",
       "      <td>1319.557800</td>\n",
       "    </tr>\n",
       "    <tr>\n",
       "      <th>2023-01-12</th>\n",
       "      <td>1318.766785</td>\n",
       "      <td>0.000000</td>\n",
       "      <td>0.000000</td>\n",
       "      <td>1318.766785</td>\n",
       "    </tr>\n",
       "    <tr>\n",
       "      <th>2023-01-13</th>\n",
       "      <td>1332.111511</td>\n",
       "      <td>0.000000</td>\n",
       "      <td>0.000000</td>\n",
       "      <td>1332.111511</td>\n",
       "    </tr>\n",
       "    <tr>\n",
       "      <th>2023-01-14</th>\n",
       "      <td>1343.775940</td>\n",
       "      <td>0.000000</td>\n",
       "      <td>0.000000</td>\n",
       "      <td>1343.775940</td>\n",
       "    </tr>\n",
       "    <tr>\n",
       "      <th>...</th>\n",
       "      <td>...</td>\n",
       "      <td>...</td>\n",
       "      <td>...</td>\n",
       "      <td>...</td>\n",
       "    </tr>\n",
       "    <tr>\n",
       "      <th>2025-04-11</th>\n",
       "      <td>1387.049957</td>\n",
       "      <td>3107.600098</td>\n",
       "      <td>1261.549988</td>\n",
       "      <td>5756.200043</td>\n",
       "    </tr>\n",
       "    <tr>\n",
       "      <th>2025-04-12</th>\n",
       "      <td>1417.640030</td>\n",
       "      <td>3102.479980</td>\n",
       "      <td>1261.750031</td>\n",
       "      <td>5781.870041</td>\n",
       "    </tr>\n",
       "    <tr>\n",
       "      <th>2025-04-13</th>\n",
       "      <td>1417.640030</td>\n",
       "      <td>3102.479980</td>\n",
       "      <td>1261.750031</td>\n",
       "      <td>5781.870041</td>\n",
       "    </tr>\n",
       "    <tr>\n",
       "      <th>2025-04-14</th>\n",
       "      <td>1417.640030</td>\n",
       "      <td>3102.479980</td>\n",
       "      <td>1261.750031</td>\n",
       "      <td>5781.870041</td>\n",
       "    </tr>\n",
       "    <tr>\n",
       "      <th>2025-04-15</th>\n",
       "      <td>NaN</td>\n",
       "      <td>NaN</td>\n",
       "      <td>NaN</td>\n",
       "      <td>0.000000</td>\n",
       "    </tr>\n",
       "  </tbody>\n",
       "</table>\n",
       "<p>827 rows × 4 columns</p>\n",
       "</div>"
      ],
      "text/plain": [
       "ticker             AAPL         MSFT         TSLA        Total\n",
       "2023-01-10  1292.274628     0.000000     0.000000  1292.274628\n",
       "2023-01-11  1319.557800     0.000000     0.000000  1319.557800\n",
       "2023-01-12  1318.766785     0.000000     0.000000  1318.766785\n",
       "2023-01-13  1332.111511     0.000000     0.000000  1332.111511\n",
       "2023-01-14  1343.775940     0.000000     0.000000  1343.775940\n",
       "...                 ...          ...          ...          ...\n",
       "2025-04-11  1387.049957  3107.600098  1261.549988  5756.200043\n",
       "2025-04-12  1417.640030  3102.479980  1261.750031  5781.870041\n",
       "2025-04-13  1417.640030  3102.479980  1261.750031  5781.870041\n",
       "2025-04-14  1417.640030  3102.479980  1261.750031  5781.870041\n",
       "2025-04-15          NaN          NaN          NaN     0.000000\n",
       "\n",
       "[827 rows x 4 columns]"
      ]
     },
     "execution_count": 139,
     "metadata": {},
     "output_type": "execute_result"
    }
   ],
   "source": [
    "daily_value"
   ]
  },
  {
   "cell_type": "code",
   "execution_count": 55,
   "metadata": {},
   "outputs": [
    {
     "data": {
      "text/plain": [
       "<Axes: >"
      ]
     },
     "execution_count": 55,
     "metadata": {},
     "output_type": "execute_result"
    },
    {
     "data": {
      "image/png": "[encoded data removed]",
      "text/plain": [
       "<Figure size 640x480 with 1 Axes>"
      ]
     },
     "metadata": {},
     "output_type": "display_data"
    }
   ],
   "source": [
    "daily_value[\"Total\"].plot()"
   ]
  },
  {
   "cell_type": "code",
   "execution_count": 140,
   "metadata": {},
   "outputs": [
    {
     "data": {
      "application/vnd.microsoft.datawrangler.viewer.v0+json": {
       "columns": [
        {
         "name": "Date",
         "rawType": "datetime64[ns]",
         "type": "datetime"
        },
        {
         "name": "('Close', 'AAPL')",
         "rawType": "float64",
         "type": "float"
        },
        {
         "name": "('Close', 'MSFT')",
         "rawType": "float64",
         "type": "float"
        },
        {
         "name": "('Close', 'TSLA')",
         "rawType": "float64",
         "type": "float"
        },
        {
         "name": "('High', 'AAPL')",
         "rawType": "float64",
         "type": "float"
        },
        {
         "name": "('High', 'MSFT')",
         "rawType": "float64",
         "type": "float"
        },
        {
         "name": "('High', 'TSLA')",
         "rawType": "float64",
         "type": "float"
        },
        {
         "name": "('Low', 'AAPL')",
         "rawType": "float64",
         "type": "float"
        },
        {
         "name": "('Low', 'MSFT')",
         "rawType": "float64",
         "type": "float"
        },
        {
         "name": "('Low', 'TSLA')",
         "rawType": "float64",
         "type": "float"
        },
        {
         "name": "('Open', 'AAPL')",
         "rawType": "float64",
         "type": "float"
        },
        {
         "name": "('Open', 'MSFT')",
         "rawType": "float64",
         "type": "float"
        },
        {
         "name": "('Open', 'TSLA')",
         "rawType": "float64",
         "type": "float"
        },
        {
         "name": "('Volume', 'AAPL')",
         "rawType": "int64",
         "type": "integer"
        },
        {
         "name": "('Volume', 'MSFT')",
         "rawType": "int64",
         "type": "integer"
        },
        {
         "name": "('Volume', 'TSLA')",
         "rawType": "int64",
         "type": "integer"
        }
       ],
       "conversionMethod": "pd.DataFrame",
       "ref": "fb3f0b13-4deb-462b-98d8-76d32ce0f7f8",
       "rows": [
        [
         "2023-01-10 00:00:00",
         "129.2274627685547",
         "224.70440673828125",
         "118.8499984741211",
         "129.7513700565325",
         "227.11983564696362",
         "122.76000213623047",
         "126.64745995571087",
         "223.21193722037137",
         "114.91999816894531",
         "128.76286346285156",
         "223.63414061358225",
         "121.06999969482422",
         "63896200",
         "27033900",
         "167642500"
        ],
        [
         "2023-01-11 00:00:00",
         "131.95578002929688",
         "231.49903869628906",
         "123.22000122070312",
         "131.97553930551643",
         "231.67577081089505",
         "125.94999694824219",
         "128.9606055895864",
         "226.92345084138603",
         "120.51000213623047",
         "129.7415193359335",
         "227.100182955992",
         "122.08999633789062",
         "69458900",
         "28669300",
         "183810800"
        ],
        [
         "2023-01-12 00:00:00",
         "131.87667846679688",
         "234.18942260742188",
         "123.55999755859375",
         "132.71690008626126",
         "235.55424237172366",
         "124.12999725341797",
         "129.92931912019301",
         "229.3290940932467",
         "117.0",
         "132.34127780837738",
         "230.99829585800464",
         "122.55999755859375",
         "71379600",
         "27269500",
         "169400900"
        ],
        [
         "2023-01-13 00:00:00",
         "133.21115112304688",
         "234.8963623046875",
         "122.4000015258789",
         "133.36931580754018",
         "235.0338256158968",
         "122.62999725341797",
         "130.14678954891528",
         "230.6644400284827",
         "115.5999984741211",
         "130.51253218381837",
         "232.7067627824332",
         "116.55000305175781",
         "57809700",
         "21333300",
         "180714100"
        ],
        [
         "2023-01-17 00:00:00",
         "134.37759399414062",
         "235.99610900878906",
         "131.49000549316406",
         "135.7120688975574",
         "236.54596231241507",
         "131.6999969482422",
         "132.5883994032112",
         "232.79515373322812",
         "125.0199966430664",
         "133.28035102906594",
         "233.65921748599973",
         "125.69999694824219",
         "63646600",
         "29831300",
         "186477000"
        ],
        [
         "2023-01-18 00:00:00",
         "133.6559600830078",
         "231.538330078125",
         "128.77999877929688",
         "137.01687588765424",
         "237.98932257293077",
         "136.67999267578125",
         "133.4780210835041",
         "231.25358998270823",
         "127.01000213623047",
         "135.24745602728467",
         "237.1939980149143",
         "136.55999755859375",
         "69672800",
         "30028700",
         "195680300"
        ],
        [
         "2023-01-19 00:00:00",
         "133.71530151367188",
         "227.72860717773438",
         "127.16999816894531",
         "134.68403382720132",
         "231.25358612173252",
         "129.99000549316406",
         "132.23254150823482",
         "226.50125078588513",
         "124.30999755859375",
         "132.53897616267878",
         "229.5451006306224",
         "127.26000213623047",
         "58280400",
         "28623000",
         "170291900"
        ],
        [
         "2023-01-20 00:00:00",
         "136.28543090820312",
         "235.86843872070312",
         "133.4199981689453",
         "136.43371598175548",
         "236.37902316517145",
         "133.50999450683594",
         "132.6773870363522",
         "230.26186823597817",
         "127.3499984741211",
         "133.72520185575365",
         "230.60553401218095",
         "128.67999267578125",
         "80223600",
         "35389800",
         "138858100"
        ],
        [
         "2023-01-23 00:00:00",
         "139.48818969726562",
         "238.18568420410156",
         "143.75",
         "141.67279627654958",
         "240.728762962326",
         "145.3800048828125",
         "136.3150763566329",
         "235.30875313249115",
         "134.27000427246094",
         "136.5325490508029",
         "236.73249848259866",
         "135.8699951171875",
         "81760300",
         "31934000",
         "203119200"
        ],
        [
         "2023-01-24 00:00:00",
         "140.89186096191406",
         "237.65545654296875",
         "143.88999938964844",
         "141.514625019409",
         "239.53086062869244",
         "146.5",
         "138.6874952095744",
         "236.08444941515683",
         "141.10000610351562",
         "138.69737484670043",
         "238.1071302689207",
         "143.0",
         "66435100",
         "40234400",
         "158699100"
        ],
        [
         "2023-01-25 00:00:00",
         "140.2295684814453",
         "236.25137329101562",
         "144.42999267578125",
         "140.79300948686725",
         "238.8926465935646",
         "146.41000366210938",
         "137.21461987031523",
         "226.71726242697446",
         "138.07000732421875",
         "139.2707157250627",
         "230.23241286471827",
         "141.91000366210938",
         "65799300",
         "66526600",
         "192734300"
        ],
        [
         "2023-01-26 00:00:00",
         "142.30543518066406",
         "243.50750732421875",
         "160.27000427246094",
         "142.59209549504305",
         "243.81188931119357",
         "161.4199981689453",
         "140.26909865118563",
         "237.61619666314894",
         "154.75999450683594",
         "141.52450641893512",
         "239.236301101992",
         "159.97000122070312",
         "54105100",
         "33454500",
         "234815100"
        ],
        [
         "2023-01-27 00:00:00",
         "144.2527618408203",
         "243.6645965576172",
         "177.89999389648438",
         "145.5378234459024",
         "245.30434278619185",
         "180.67999267578125",
         "141.43552706245464",
         "242.35868764883875",
         "161.1699981689453",
         "141.51460940098116",
         "244.47956294350342",
         "162.42999267578125",
         "70555800",
         "26498900",
         "306590600"
        ],
        [
         "2023-01-30 00:00:00",
         "141.3564453125",
         "238.31332397460938",
         "166.66000366210938",
         "143.87714018615392",
         "241.1509711328646",
         "179.77000427246094",
         "141.208175354279",
         "237.81255301690885",
         "166.5",
         "143.29392490593287",
         "240.08070505569438",
         "178.0500030517578",
         "64015300",
         "25867400",
         "230878800"
        ],
        [
         "2023-01-31 00:00:00",
         "142.63160705566406",
         "243.32093811035156",
         "173.22000122070312",
         "142.68103540109175",
         "243.45840142159702",
         "174.3000030517578",
         "140.64471427014323",
         "238.5489760451487",
         "162.77999877929688",
         "141.05988522159177",
         "239.03991858279355",
         "164.57000732421875",
         "65874500",
         "26541100",
         "196813500"
        ],
        [
         "2023-02-01 00:00:00",
         "143.75851440429688",
         "248.17144775390625",
         "181.41000366210938",
         "144.92496009089808",
         "250.55742124700228",
         "183.80999755859375",
         "139.69576656602072",
         "241.02332574913956",
         "169.92999267578125",
         "142.31530314667881",
         "243.507493740727",
         "173.88999938964844",
         "77663600",
         "31259900",
         "213806300"
        ],
        [
         "2023-02-02 00:00:00",
         "149.08657836914062",
         "259.8067626953125",
         "188.27000427246094",
         "149.44242627870938",
         "259.89512874467925",
         "196.75",
         "146.46702672863907",
         "252.58990234951898",
         "182.61000061035156",
         "147.18863235095503",
         "254.13146890622428",
         "187.3300018310547",
         "118339000",
         "39940400",
         "217448300"
        ],
        [
         "2023-02-03 00:00:00",
         "152.72427368164062",
         "253.67002868652344",
         "189.97999572753906",
         "155.571177590554",
         "259.414062675439",
         "199.0",
         "146.13093629775682",
         "252.44267227712933",
         "183.69000244140625",
         "146.32863460622823",
         "254.8384743854471",
         "183.9499969482422",
         "154357300",
         "29077300",
         "232662000"
        ],
        [
         "2023-02-06 00:00:00",
         "149.98609924316406",
         "252.11863708496094",
         "194.75999450683594",
         "151.34036351523568",
         "253.6209201533979",
         "198.1699981689453",
         "149.0470210083263",
         "250.16469524140578",
         "189.9199981689453",
         "150.8164562342184",
         "252.77651331449187",
         "193.00999450683594",
         "69858300",
         "22518000",
         "186188100"
        ],
        [
         "2023-02-07 00:00:00",
         "152.87255859375",
         "262.71319580078125",
         "196.80999755859375",
         "153.4458943027817",
         "263.90126847590375",
         "197.5",
         "148.9086520667493",
         "255.36868388280342",
         "189.5500030517578",
         "148.9086520667493",
         "255.81054419875986",
         "196.42999267578125",
         "83322600",
         "50841400",
         "186010300"
        ],
        [
         "2023-02-08 00:00:00",
         "150.17391967773438",
         "261.8981628417969",
         "201.2899932861328",
         "152.80335083301824",
         "271.74646691485435",
         "203.0",
         "149.43253973358082",
         "261.3875635306335",
         "194.30999755859375",
         "152.11139923515765",
         "268.2509591657665",
         "196.10000610351562",
         "64120100",
         "54686000",
         "180673600"
        ],
        [
         "2023-02-09 00:00:00",
         "149.13601684570312",
         "258.84454345703125",
         "207.32000732421875",
         "152.55625702775345",
         "269.0168886035488",
         "214.0",
         "148.69119180013038",
         "258.039390489122",
         "204.77000427246094",
         "152.01257526831264",
         "268.84012651357125",
         "207.77999877929688",
         "56007100",
         "42375100",
         "215431400"
        ],
        [
         "2023-02-10 00:00:00",
         "149.50228881835938",
         "258.3339538574219",
         "196.88999938964844",
         "149.82899586326752",
         "259.30601043512377",
         "206.1999969482422",
         "147.73016708482578",
         "255.93815201976537",
         "192.88999938964844",
         "147.96777632833437",
         "256.7923871898371",
         "202.22999572753906",
         "57450700",
         "25818500",
         "204754100"
        ],
        [
         "2023-02-13 00:00:00",
         "152.31396484375",
         "266.40509033203125",
         "194.63999938964844",
         "152.71985991539307",
         "269.6256724767286",
         "196.3000030517578",
         "149.41321016170093",
         "262.3106160068339",
         "187.61000061035156",
         "149.44290943263957",
         "262.79176011403075",
         "194.4199981689453",
         "62199000",
         "44630900",
         "172475500"
        ],
        [
         "2023-02-14 00:00:00",
         "151.6704559326172",
         "267.23968505859375",
         "209.25",
         "152.23477233256068",
         "269.9889513959728",
         "209.82000732421875",
         "149.3538219997299",
         "264.40202269183845",
         "189.44000244140625",
         "150.60123678518164",
         "267.7306276163226",
         "191.94000244140625",
         "61707600",
         "37047900",
         "216455700"
        ],
        [
         "2023-02-15 00:00:00",
         "153.7791748046875",
         "265.1036682128906",
         "214.24000549316406",
         "153.94747569846558",
         "266.4915975640465",
         "214.66000366210938",
         "151.3536388197947",
         "262.0128120607115",
         "206.11000061035156",
         "151.58133825179516",
         "264.11932371191284",
         "211.75999450683594",
         "65573800",
         "28922400",
         "181006400"
        ],
        [
         "2023-02-16 00:00:00",
         "152.1753387451172",
         "258.0458679199219",
         "202.0399932861328",
         "154.76917536637725",
         "262.5640049267377",
         "217.64999389648438",
         "151.81893244470842",
         "257.79978182996587",
         "201.83999633789062",
         "151.97732349543472",
         "259.88658706642394",
         "210.77999877929688",
         "68167900",
         "29603600",
         "229586500"
        ],
        [
         "2023-02-17 00:00:00",
         "151.02694702148438",
         "254.01988220214844",
         "208.30999755859375",
         "151.47245120963535",
         "256.0180998866635",
         "208.44000244140625",
         "149.34392280711089",
         "251.9921353908594",
         "197.5",
         "150.8289468385779",
         "255.3290769153362",
         "199.99000549316406",
         "59144100",
         "30000100",
         "213738500"
        ],
        [
         "2023-02-21 00:00:00",
         "146.99755859375",
         "248.71432495117188",
         "197.3699951171875",
         "149.7894107206676",
         "251.49018367236226",
         "209.7100067138672",
         "146.92826533516197",
         "247.65123108049718",
         "197.22000122070312",
         "148.70038717333577",
         "250.49598610687391",
         "204.99000549316406",
         "58867200",
         "28397400",
         "180018600"
        ],
        [
         "2023-02-22 00:00:00",
         "147.4232940673828",
         "247.5724639892578",
         "200.86000061035156",
         "148.45290411559392",
         "250.35816054888014",
         "201.99000549316406",
         "145.69076597475495",
         "246.42078280013976",
         "191.77999877929688",
         "147.38368496565576",
         "250.11207443958386",
         "197.92999267578125",
         "51011300",
         "22491100",
         "191828500"
        ],
        [
         "2023-02-23 00:00:00",
         "147.90838623046875",
         "250.7814178466797",
         "202.07000732421875",
         "148.83900369928494",
         "252.81900287001184",
         "205.13999938964844",
         "145.76996312428713",
         "246.55857211355595",
         "196.3300018310547",
         "148.59149969615066",
         "251.55904328555934",
         "203.91000366210938",
         "48394200",
         "29219100",
         "146360000"
        ],
        [
         "2023-02-24 00:00:00",
         "145.24525451660156",
         "245.3183135986328",
         "196.8800048828125",
         "145.72045796846467",
         "247.0704454363902",
         "197.6699981689453",
         "144.26513323484133",
         "244.21585267237742",
         "192.8000030517578",
         "145.64125487541327",
         "246.0467338648536",
         "196.3300018310547",
         "55469600",
         "24990900",
         "142228100"
        ],
        [
         "2023-02-27 00:00:00",
         "146.44313049316406",
         "246.24362182617188",
         "207.6300048828125",
         "147.68065020234755",
         "248.86198178076083",
         "209.4199981689453",
         "145.97782187399574",
         "245.48567236144245",
         "201.25999450683594",
         "146.23523564162863",
         "248.50761716269687",
         "202.02999877929688",
         "44998500",
         "21190000",
         "161028300"
        ],
        [
         "2023-02-28 00:00:00",
         "145.93824768066406",
         "245.5151824951172",
         "205.7100067138672",
         "147.59157242356576",
         "247.5527826462789",
         "211.22999572753906",
         "145.36403664496177",
         "244.83598244472995",
         "203.75",
         "145.58184135182967",
         "245.17067096137697",
         "210.58999633789062",
         "50547000",
         "22491000",
         "153144900"
        ],
        [
         "2023-03-01 00:00:00",
         "143.8592071533203",
         "242.41448974609375",
         "202.77000427246094",
         "145.76003585720164",
         "247.00152304863036",
         "207.1999969482422",
         "143.5621993638043",
         "241.94199363895714",
         "198.52000427246094",
         "145.36403554214274",
         "246.8341863098164",
         "206.2100067138672",
         "55479000",
         "27565300",
         "156852800"
        ],
        [
         "2023-03-02 00:00:00",
         "144.45323181152344",
         "247.17872619628906",
         "190.89999389648438",
         "145.24524759786468",
         "247.46417946735576",
         "193.75",
         "142.46329007120497",
         "241.76483192375827",
         "186.00999450683594",
         "142.93850860687647",
         "242.69011807533903",
         "186.74000549316406",
         "52238100",
         "24808200",
         "181500700"
        ],
        [
         "2023-03-03 00:00:00",
         "149.52212524414062",
         "251.2932891845703",
         "197.7899932861328",
         "149.60132834219667",
         "251.61812465694902",
         "200.47999572753906",
         "145.85906882111533",
         "247.4543518199206",
         "192.8800048828125",
         "146.56197176838737",
         "248.24183038751409",
         "194.8000030517578",
         "70732300",
         "30760100",
         "154193300"
        ],
        [
         "2023-03-06 00:00:00",
         "152.2941436767578",
         "252.84854125976562",
         "193.80999755859375",
         "154.7394840935164",
         "256.0476605602481",
         "198.60000610351562",
         "151.92784263752011",
         "251.97247534442963",
         "192.3000030517578",
         "152.2545345821982",
         "252.41542732051573",
         "198.5399932861328",
         "87558000",
         "24109800",
         "128100100"
        ],
        [
         "2023-03-07 00:00:00",
         "150.08642578125",
         "250.17112731933594",
         "187.7100067138672",
         "152.49215731620518",
         "253.65571496313456",
         "194.1999969482422",
         "149.62111707090608",
         "249.4230309703386",
         "186.10000610351562",
         "152.16545023619062",
         "252.287461805782",
         "191.3800048828125",
         "56182000",
         "21473200",
         "148125800"
        ],
        [
         "2023-03-08 00:00:00",
         "151.34375",
         "249.72817993164062",
         "182.0",
         "151.93776567756532",
         "250.55502565152239",
         "186.5",
         "150.31413994619248",
         "246.88342511783708",
         "180.0",
         "151.2843514535327",
         "250.06285343446362",
         "185.0399932861328",
         "47204800",
         "17340200",
         "151897800"
        ],
        [
         "2023-03-09 00:00:00",
         "149.0865020751953",
         "248.3697967529297",
         "172.9199981689453",
         "152.99706215582498",
         "255.49644089849014",
         "185.17999267578125",
         "148.73009571987657",
         "247.6413764588662",
         "172.50999450683594",
         "152.02685072996366",
         "251.8150022990688",
         "180.25",
         "53833600",
         "26653400",
         "170023800"
        ],
        [
         "2023-03-10 00:00:00",
         "147.01736450195312",
         "244.69818115234375",
         "173.44000244140625",
         "149.43300577006005",
         "248.83242480341704",
         "178.2899932861328",
         "146.13625093512175",
         "243.72368976781968",
         "168.44000244140625",
         "148.7102983763868",
         "247.14920421929136",
         "175.1300048828125",
         "68572400",
         "28333900",
         "191488900"
        ],
        [
         "2023-03-13 00:00:00",
         "148.96771240234375",
         "249.94473266601562",
         "174.47999572753906",
         "151.61105337476013",
         "253.87227229864152",
         "177.35000610351562",
         "146.2253637849075",
         "241.8829494842542",
         "163.91000366210938",
         "146.33426615185107",
         "243.52680285893817",
         "167.4600067138672",
         "84457100",
         "33339700",
         "167790300"
        ],
        [
         "2023-03-14 00:00:00",
         "151.06654357910156",
         "256.70721435546875",
         "183.25999450683594",
         "151.86845415267095",
         "256.9828296179448",
         "183.8000030517578",
         "148.60141331315802",
         "251.85438808848426",
         "177.13999938964844",
         "149.76962498664284",
         "252.7304541056199",
         "177.30999755859375",
         "73695900",
         "33620300",
         "143717900"
        ],
        [
         "2023-03-15 00:00:00",
         "151.4625244140625",
         "261.28436279296875",
         "180.4499969482422",
         "151.71992308668965",
         "262.30808931293495",
         "182.33999633789062",
         "148.42316862217967",
         "255.15188676906854",
         "176.02999877929688",
         "149.6804929323757",
         "255.90985113280536",
         "180.8000030517578",
         "77167900",
         "46028000",
         "145995600"
        ],
        [
         "2023-03-16 00:00:00",
         "154.29400634765625",
         "271.8759460449219",
         "184.1300048828125",
         "154.8979167381579",
         "272.23029562382413",
         "185.80999755859375",
         "150.12603215969472",
         "259.1582026765928",
         "178.83999633789062",
         "150.64084473187137",
         "261.05798023414945",
         "180.3699951171875",
         "76161100",
         "54768800",
         "121136800"
        ],
        [
         "2023-03-17 00:00:00",
         "153.45249938964844",
         "275.05535888671875",
         "180.1300048828125",
         "155.17513288563387",
         "278.89429618396935",
         "186.22000122070312",
         "152.73968657106462",
         "271.9940621060292",
         "177.3300018310547",
         "154.5217186175242",
         "273.9036927174477",
         "184.52000427246094",
         "98944600",
         "69527400",
         "133197100"
        ],
        [
         "2023-03-20 00:00:00",
         "155.8284912109375",
         "267.9681091308594",
         "183.25",
         "156.24431116818113",
         "273.13591766100586",
         "186.44000244140625",
         "152.61093964757077",
         "265.6253644574901",
         "176.35000610351562",
         "153.52176753764005",
         "272.6437454200395",
         "178.0800018310547",
         "73641400",
         "43466600",
         "129684400"
        ],
        [
         "2023-03-21 00:00:00",
         "157.6897430419922",
         "269.4938049316406",
         "197.5800018310547",
         "157.80854012474336",
         "270.6947062847507",
         "198.0",
         "154.97709383642948",
         "265.30048823245505",
         "188.0399932861328",
         "155.7493201936468",
         "270.57658976474096",
         "188.27999877929688",
         "73938300",
         "34558700",
         "153391400"
        ],
        [
         "2023-03-22 00:00:00",
         "156.2542266845703",
         "268.0271301269531",
         "191.14999389648438",
         "160.5211932163919",
         "276.6401431462095",
         "200.66000366210938",
         "156.23442213481738",
         "267.9188366282979",
         "190.9499969482422",
         "157.70955140928402",
         "269.1197379308607",
         "199.3000030517578",
         "75701800",
         "34873300",
         "150376400"
        ]
       ],
       "shape": {
        "columns": 15,
        "rows": 567
       }
      },
      "text/html": [
       "<div>\n",
       "<style scoped>\n",
       "    .dataframe tbody tr th:only-of-type {\n",
       "        vertical-align: middle;\n",
       "    }\n",
       "\n",
       "    .dataframe tbody tr th {\n",
       "        vertical-align: top;\n",
       "    }\n",
       "\n",
       "    .dataframe thead tr th {\n",
       "        text-align: left;\n",
       "    }\n",
       "\n",
       "    .dataframe thead tr:last-of-type th {\n",
       "        text-align: right;\n",
       "    }\n",
       "</style>\n",
       "<table border=\"1\" class=\"dataframe\">\n",
       "  <thead>\n",
       "    <tr>\n",
       "      <th>Price</th>\n",
       "      <th colspan=\"3\" halign=\"left\">Close</th>\n",
       "      <th colspan=\"3\" halign=\"left\">High</th>\n",
       "      <th colspan=\"3\" halign=\"left\">Low</th>\n",
       "      <th colspan=\"3\" halign=\"left\">Open</th>\n",
       "      <th colspan=\"3\" halign=\"left\">Volume</th>\n",
       "    </tr>\n",
       "    <tr>\n",
       "      <th>Ticker</th>\n",
       "      <th>AAPL</th>\n",
       "      <th>MSFT</th>\n",
       "      <th>TSLA</th>\n",
       "      <th>AAPL</th>\n",
       "      <th>MSFT</th>\n",
       "      <th>TSLA</th>\n",
       "      <th>AAPL</th>\n",
       "      <th>MSFT</th>\n",
       "      <th>TSLA</th>\n",
       "      <th>AAPL</th>\n",
       "      <th>MSFT</th>\n",
       "      <th>TSLA</th>\n",
       "      <th>AAPL</th>\n",
       "      <th>MSFT</th>\n",
       "      <th>TSLA</th>\n",
       "    </tr>\n",
       "    <tr>\n",
       "      <th>Date</th>\n",
       "      <th></th>\n",
       "      <th></th>\n",
       "      <th></th>\n",
       "      <th></th>\n",
       "      <th></th>\n",
       "      <th></th>\n",
       "      <th></th>\n",
       "      <th></th>\n",
       "      <th></th>\n",
       "      <th></th>\n",
       "      <th></th>\n",
       "      <th></th>\n",
       "      <th></th>\n",
       "      <th></th>\n",
       "      <th></th>\n",
       "    </tr>\n",
       "  </thead>\n",
       "  <tbody>\n",
       "    <tr>\n",
       "      <th>2023-01-10</th>\n",
       "      <td>129.227463</td>\n",
       "      <td>224.704407</td>\n",
       "      <td>118.849998</td>\n",
       "      <td>129.751370</td>\n",
       "      <td>227.119836</td>\n",
       "      <td>122.760002</td>\n",
       "      <td>126.647460</td>\n",
       "      <td>223.211937</td>\n",
       "      <td>114.919998</td>\n",
       "      <td>128.762863</td>\n",
       "      <td>223.634141</td>\n",
       "      <td>121.070000</td>\n",
       "      <td>63896200</td>\n",
       "      <td>27033900</td>\n",
       "      <td>167642500</td>\n",
       "    </tr>\n",
       "    <tr>\n",
       "      <th>2023-01-11</th>\n",
       "      <td>131.955780</td>\n",
       "      <td>231.499039</td>\n",
       "      <td>123.220001</td>\n",
       "      <td>131.975539</td>\n",
       "      <td>231.675771</td>\n",
       "      <td>125.949997</td>\n",
       "      <td>128.960606</td>\n",
       "      <td>226.923451</td>\n",
       "      <td>120.510002</td>\n",
       "      <td>129.741519</td>\n",
       "      <td>227.100183</td>\n",
       "      <td>122.089996</td>\n",
       "      <td>69458900</td>\n",
       "      <td>28669300</td>\n",
       "      <td>183810800</td>\n",
       "    </tr>\n",
       "    <tr>\n",
       "      <th>2023-01-12</th>\n",
       "      <td>131.876678</td>\n",
       "      <td>234.189423</td>\n",
       "      <td>123.559998</td>\n",
       "      <td>132.716900</td>\n",
       "      <td>235.554242</td>\n",
       "      <td>124.129997</td>\n",
       "      <td>129.929319</td>\n",
       "      <td>229.329094</td>\n",
       "      <td>117.000000</td>\n",
       "      <td>132.341278</td>\n",
       "      <td>230.998296</td>\n",
       "      <td>122.559998</td>\n",
       "      <td>71379600</td>\n",
       "      <td>27269500</td>\n",
       "      <td>169400900</td>\n",
       "    </tr>\n",
       "    <tr>\n",
       "      <th>2023-01-13</th>\n",
       "      <td>133.211151</td>\n",
       "      <td>234.896362</td>\n",
       "      <td>122.400002</td>\n",
       "      <td>133.369316</td>\n",
       "      <td>235.033826</td>\n",
       "      <td>122.629997</td>\n",
       "      <td>130.146790</td>\n",
       "      <td>230.664440</td>\n",
       "      <td>115.599998</td>\n",
       "      <td>130.512532</td>\n",
       "      <td>232.706763</td>\n",
       "      <td>116.550003</td>\n",
       "      <td>57809700</td>\n",
       "      <td>21333300</td>\n",
       "      <td>180714100</td>\n",
       "    </tr>\n",
       "    <tr>\n",
       "      <th>2023-01-17</th>\n",
       "      <td>134.377594</td>\n",
       "      <td>235.996109</td>\n",
       "      <td>131.490005</td>\n",
       "      <td>135.712069</td>\n",
       "      <td>236.545962</td>\n",
       "      <td>131.699997</td>\n",
       "      <td>132.588399</td>\n",
       "      <td>232.795154</td>\n",
       "      <td>125.019997</td>\n",
       "      <td>133.280351</td>\n",
       "      <td>233.659217</td>\n",
       "      <td>125.699997</td>\n",
       "      <td>63646600</td>\n",
       "      <td>29831300</td>\n",
       "      <td>186477000</td>\n",
       "    </tr>\n",
       "    <tr>\n",
       "      <th>...</th>\n",
       "      <td>...</td>\n",
       "      <td>...</td>\n",
       "      <td>...</td>\n",
       "      <td>...</td>\n",
       "      <td>...</td>\n",
       "      <td>...</td>\n",
       "      <td>...</td>\n",
       "      <td>...</td>\n",
       "      <td>...</td>\n",
       "      <td>...</td>\n",
       "      <td>...</td>\n",
       "      <td>...</td>\n",
       "      <td>...</td>\n",
       "      <td>...</td>\n",
       "      <td>...</td>\n",
       "    </tr>\n",
       "    <tr>\n",
       "      <th>2025-04-08</th>\n",
       "      <td>172.419998</td>\n",
       "      <td>354.559998</td>\n",
       "      <td>221.860001</td>\n",
       "      <td>190.339996</td>\n",
       "      <td>373.649994</td>\n",
       "      <td>250.440002</td>\n",
       "      <td>169.210007</td>\n",
       "      <td>350.250000</td>\n",
       "      <td>217.800003</td>\n",
       "      <td>186.699997</td>\n",
       "      <td>368.260010</td>\n",
       "      <td>245.000000</td>\n",
       "      <td>120859500</td>\n",
       "      <td>35868900</td>\n",
       "      <td>171603500</td>\n",
       "    </tr>\n",
       "    <tr>\n",
       "      <th>2025-04-09</th>\n",
       "      <td>198.850006</td>\n",
       "      <td>390.489990</td>\n",
       "      <td>272.200012</td>\n",
       "      <td>200.610001</td>\n",
       "      <td>393.230011</td>\n",
       "      <td>274.690002</td>\n",
       "      <td>171.889999</td>\n",
       "      <td>353.100006</td>\n",
       "      <td>223.880005</td>\n",
       "      <td>171.949997</td>\n",
       "      <td>353.540009</td>\n",
       "      <td>224.690002</td>\n",
       "      <td>184395900</td>\n",
       "      <td>50199700</td>\n",
       "      <td>219433400</td>\n",
       "    </tr>\n",
       "    <tr>\n",
       "      <th>2025-04-10</th>\n",
       "      <td>190.419998</td>\n",
       "      <td>381.350006</td>\n",
       "      <td>252.399994</td>\n",
       "      <td>194.779999</td>\n",
       "      <td>383.899994</td>\n",
       "      <td>262.489990</td>\n",
       "      <td>183.000000</td>\n",
       "      <td>367.799988</td>\n",
       "      <td>239.330002</td>\n",
       "      <td>189.070007</td>\n",
       "      <td>382.059998</td>\n",
       "      <td>260.000000</td>\n",
       "      <td>121880000</td>\n",
       "      <td>38024400</td>\n",
       "      <td>181722600</td>\n",
       "    </tr>\n",
       "    <tr>\n",
       "      <th>2025-04-11</th>\n",
       "      <td>198.149994</td>\n",
       "      <td>388.450012</td>\n",
       "      <td>252.309998</td>\n",
       "      <td>199.539993</td>\n",
       "      <td>390.049988</td>\n",
       "      <td>257.739990</td>\n",
       "      <td>186.059998</td>\n",
       "      <td>378.890015</td>\n",
       "      <td>241.360001</td>\n",
       "      <td>186.100006</td>\n",
       "      <td>380.640015</td>\n",
       "      <td>251.839996</td>\n",
       "      <td>87300000</td>\n",
       "      <td>23828700</td>\n",
       "      <td>128656900</td>\n",
       "    </tr>\n",
       "    <tr>\n",
       "      <th>2025-04-14</th>\n",
       "      <td>202.520004</td>\n",
       "      <td>387.809998</td>\n",
       "      <td>252.350006</td>\n",
       "      <td>212.940002</td>\n",
       "      <td>394.640015</td>\n",
       "      <td>261.799988</td>\n",
       "      <td>201.162094</td>\n",
       "      <td>384.209991</td>\n",
       "      <td>245.929993</td>\n",
       "      <td>211.440002</td>\n",
       "      <td>393.220001</td>\n",
       "      <td>258.325012</td>\n",
       "      <td>100650083</td>\n",
       "      <td>18941747</td>\n",
       "      <td>99522520</td>\n",
       "    </tr>\n",
       "  </tbody>\n",
       "</table>\n",
       "<p>567 rows × 15 columns</p>\n",
       "</div>"
      ],
      "text/plain": [
       "Price            Close                                High              \\\n",
       "Ticker            AAPL        MSFT        TSLA        AAPL        MSFT   \n",
       "Date                                                                     \n",
       "2023-01-10  129.227463  224.704407  118.849998  129.751370  227.119836   \n",
       "2023-01-11  131.955780  231.499039  123.220001  131.975539  231.675771   \n",
       "2023-01-12  131.876678  234.189423  123.559998  132.716900  235.554242   \n",
       "2023-01-13  133.211151  234.896362  122.400002  133.369316  235.033826   \n",
       "2023-01-17  134.377594  235.996109  131.490005  135.712069  236.545962   \n",
       "...                ...         ...         ...         ...         ...   \n",
       "2025-04-08  172.419998  354.559998  221.860001  190.339996  373.649994   \n",
       "2025-04-09  198.850006  390.489990  272.200012  200.610001  393.230011   \n",
       "2025-04-10  190.419998  381.350006  252.399994  194.779999  383.899994   \n",
       "2025-04-11  198.149994  388.450012  252.309998  199.539993  390.049988   \n",
       "2025-04-14  202.520004  387.809998  252.350006  212.940002  394.640015   \n",
       "\n",
       "Price                          Low                                Open  \\\n",
       "Ticker            TSLA        AAPL        MSFT        TSLA        AAPL   \n",
       "Date                                                                     \n",
       "2023-01-10  122.760002  126.647460  223.211937  114.919998  128.762863   \n",
       "2023-01-11  125.949997  128.960606  226.923451  120.510002  129.741519   \n",
       "2023-01-12  124.129997  129.929319  229.329094  117.000000  132.341278   \n",
       "2023-01-13  122.629997  130.146790  230.664440  115.599998  130.512532   \n",
       "2023-01-17  131.699997  132.588399  232.795154  125.019997  133.280351   \n",
       "...                ...         ...         ...         ...         ...   \n",
       "2025-04-08  250.440002  169.210007  350.250000  217.800003  186.699997   \n",
       "2025-04-09  274.690002  171.889999  353.100006  223.880005  171.949997   \n",
       "2025-04-10  262.489990  183.000000  367.799988  239.330002  189.070007   \n",
       "2025-04-11  257.739990  186.059998  378.890015  241.360001  186.100006   \n",
       "2025-04-14  261.799988  201.162094  384.209991  245.929993  211.440002   \n",
       "\n",
       "Price                                  Volume                       \n",
       "Ticker            MSFT        TSLA       AAPL      MSFT       TSLA  \n",
       "Date                                                                \n",
       "2023-01-10  223.634141  121.070000   63896200  27033900  167642500  \n",
       "2023-01-11  227.100183  122.089996   69458900  28669300  183810800  \n",
       "2023-01-12  230.998296  122.559998   71379600  27269500  169400900  \n",
       "2023-01-13  232.706763  116.550003   57809700  21333300  180714100  \n",
       "2023-01-17  233.659217  125.699997   63646600  29831300  186477000  \n",
       "...                ...         ...        ...       ...        ...  \n",
       "2025-04-08  368.260010  245.000000  120859500  35868900  171603500  \n",
       "2025-04-09  353.540009  224.690002  184395900  50199700  219433400  \n",
       "2025-04-10  382.059998  260.000000  121880000  38024400  181722600  \n",
       "2025-04-11  380.640015  251.839996   87300000  23828700  128656900  \n",
       "2025-04-14  393.220001  258.325012  100650083  18941747   99522520  \n",
       "\n",
       "[567 rows x 15 columns]"
      ]
     },
     "execution_count": 140,
     "metadata": {},
     "output_type": "execute_result"
    }
   ],
   "source": [
    "data"
   ]
  },
  {
   "cell_type": "code",
   "execution_count": null,
   "metadata": {},
   "outputs": [],
   "source": []
  }
 ],
 "metadata": {
  "kernelspec": {
   "display_name": "Python 3",
   "language": "python",
   "name": "python3"
  },
  "language_info": {
   "codemirror_mode": {
    "name": "ipython",
    "version": 3
   },
   "file_extension": ".py",
   "mimetype": "text/x-python",
   "name": "python",
   "nbconvert_exporter": "python",
   "pygments_lexer": "ipython3",
   "version": "3.12.0"
  }
 },
 "nbformat": 4,
 "nbformat_minor": 2
}
