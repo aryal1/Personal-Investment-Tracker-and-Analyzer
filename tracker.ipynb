{
 "cells": [
  {
   "cell_type": "code",
   "execution_count": 2,
   "metadata": {},
   "outputs": [
    {
     "name": "stdout",
     "output_type": "stream",
     "text": [
      "         date ticker action  quantity   price\n",
      "0  2023-01-10   AAPL    buy        10  145.30\n",
      "1  2023-02-15   TSLA    buy         5  196.75\n",
      "2  2023-03-01   AAPL   sell         5  155.00\n",
      "3  2023-04-22   MSFT    buy         8  280.20\n",
      "4  2023-05-12   AAPL    buy         2  160.50\n"
     ]
    }
   ],
   "source": [
    "import pandas as pd\n",
    "import numpy as np\n",
    "import yfinance as yf\n",
    "\n",
    "df = pd.read_csv(\"./data/sample_trades.csv\")\n",
    "print(df.head())\n"
   ]
  },
  {
   "cell_type": "code",
   "execution_count": 3,
   "metadata": {},
   "outputs": [],
   "source": [
    "\n",
    "\n",
    "df[\"quantity\"] = df.apply(\n",
    "    lambda row: -row[\"quantity\"] if row[\"action\"] == \"sell\" else row[\"quantity\"], axis=1\n",
    ")"
   ]
  },
  {
   "cell_type": "code",
   "execution_count": 4,
   "metadata": {},
   "outputs": [],
   "source": [
    "df =df.drop(columns=[\"action\"])"
   ]
  },
  {
   "cell_type": "code",
   "execution_count": 6,
   "metadata": {},
   "outputs": [
    {
     "data": {
      "application/vnd.microsoft.datawrangler.viewer.v0+json": {
       "columns": [
        {
         "name": "index",
         "rawType": "int64",
         "type": "integer"
        },
        {
         "name": "date",
         "rawType": "object",
         "type": "string"
        },
        {
         "name": "ticker",
         "rawType": "object",
         "type": "string"
        },
        {
         "name": "quantity",
         "rawType": "int64",
         "type": "integer"
        },
        {
         "name": "price",
         "rawType": "float64",
         "type": "float"
        },
        {
         "name": "signed_value",
         "rawType": "float64",
         "type": "float"
        }
       ],
       "conversionMethod": "pd.DataFrame",
       "ref": "be1b84ba-d5b1-4152-90dd-1962d80e33b3",
       "rows": [
        [
         "0",
         "2023-01-10",
         "AAPL",
         "10",
         "145.3",
         "1453.0"
        ],
        [
         "1",
         "2023-02-15",
         "TSLA",
         "5",
         "196.75",
         "983.75"
        ],
        [
         "2",
         "2023-03-01",
         "AAPL",
         "-5",
         "155.0",
         "-775.0"
        ],
        [
         "3",
         "2023-04-22",
         "MSFT",
         "8",
         "280.2",
         "2241.6"
        ],
        [
         "4",
         "2023-05-12",
         "AAPL",
         "2",
         "160.5",
         "321.0"
        ]
       ],
       "shape": {
        "columns": 5,
        "rows": 5
       }
      },
      "text/html": [
       "<div>\n",
       "<style scoped>\n",
       "    .dataframe tbody tr th:only-of-type {\n",
       "        vertical-align: middle;\n",
       "    }\n",
       "\n",
       "    .dataframe tbody tr th {\n",
       "        vertical-align: top;\n",
       "    }\n",
       "\n",
       "    .dataframe thead th {\n",
       "        text-align: right;\n",
       "    }\n",
       "</style>\n",
       "<table border=\"1\" class=\"dataframe\">\n",
       "  <thead>\n",
       "    <tr style=\"text-align: right;\">\n",
       "      <th></th>\n",
       "      <th>date</th>\n",
       "      <th>ticker</th>\n",
       "      <th>quantity</th>\n",
       "      <th>price</th>\n",
       "      <th>signed_value</th>\n",
       "    </tr>\n",
       "  </thead>\n",
       "  <tbody>\n",
       "    <tr>\n",
       "      <th>0</th>\n",
       "      <td>2023-01-10</td>\n",
       "      <td>AAPL</td>\n",
       "      <td>10</td>\n",
       "      <td>145.30</td>\n",
       "      <td>1453.00</td>\n",
       "    </tr>\n",
       "    <tr>\n",
       "      <th>1</th>\n",
       "      <td>2023-02-15</td>\n",
       "      <td>TSLA</td>\n",
       "      <td>5</td>\n",
       "      <td>196.75</td>\n",
       "      <td>983.75</td>\n",
       "    </tr>\n",
       "    <tr>\n",
       "      <th>2</th>\n",
       "      <td>2023-03-01</td>\n",
       "      <td>AAPL</td>\n",
       "      <td>-5</td>\n",
       "      <td>155.00</td>\n",
       "      <td>-775.00</td>\n",
       "    </tr>\n",
       "    <tr>\n",
       "      <th>3</th>\n",
       "      <td>2023-04-22</td>\n",
       "      <td>MSFT</td>\n",
       "      <td>8</td>\n",
       "      <td>280.20</td>\n",
       "      <td>2241.60</td>\n",
       "    </tr>\n",
       "    <tr>\n",
       "      <th>4</th>\n",
       "      <td>2023-05-12</td>\n",
       "      <td>AAPL</td>\n",
       "      <td>2</td>\n",
       "      <td>160.50</td>\n",
       "      <td>321.00</td>\n",
       "    </tr>\n",
       "  </tbody>\n",
       "</table>\n",
       "</div>"
      ],
      "text/plain": [
       "         date ticker  quantity   price  signed_value\n",
       "0  2023-01-10   AAPL        10  145.30       1453.00\n",
       "1  2023-02-15   TSLA         5  196.75        983.75\n",
       "2  2023-03-01   AAPL        -5  155.00       -775.00\n",
       "3  2023-04-22   MSFT         8  280.20       2241.60\n",
       "4  2023-05-12   AAPL         2  160.50        321.00"
      ]
     },
     "execution_count": 6,
     "metadata": {},
     "output_type": "execute_result"
    }
   ],
   "source": [
    "df['signed_value'] = df[\"quantity\"] * df[\"price\"]\n",
    "df.head()"
   ]
  },
  {
   "cell_type": "code",
   "execution_count": 7,
   "metadata": {},
   "outputs": [
    {
     "data": {
      "application/vnd.microsoft.datawrangler.viewer.v0+json": {
       "columns": [
        {
         "name": "index",
         "rawType": "int64",
         "type": "integer"
        },
        {
         "name": "Tickier",
         "rawType": "object",
         "type": "string"
        },
        {
         "name": "Quantity",
         "rawType": "int64",
         "type": "integer"
        },
        {
         "name": "Cost",
         "rawType": "float64",
         "type": "float"
        }
       ],
       "conversionMethod": "pd.DataFrame",
       "ref": "426a0657-ecf4-406b-99de-98801254ed91",
       "rows": [
        [
         "0",
         "AAPL",
         "7",
         "999.0"
        ],
        [
         "1",
         "MSFT",
         "8",
         "2241.6"
        ],
        [
         "2",
         "TSLA",
         "5",
         "983.75"
        ]
       ],
       "shape": {
        "columns": 3,
        "rows": 3
       }
      },
      "text/html": [
       "<div>\n",
       "<style scoped>\n",
       "    .dataframe tbody tr th:only-of-type {\n",
       "        vertical-align: middle;\n",
       "    }\n",
       "\n",
       "    .dataframe tbody tr th {\n",
       "        vertical-align: top;\n",
       "    }\n",
       "\n",
       "    .dataframe thead th {\n",
       "        text-align: right;\n",
       "    }\n",
       "</style>\n",
       "<table border=\"1\" class=\"dataframe\">\n",
       "  <thead>\n",
       "    <tr style=\"text-align: right;\">\n",
       "      <th></th>\n",
       "      <th>Tickier</th>\n",
       "      <th>Quantity</th>\n",
       "      <th>Cost</th>\n",
       "    </tr>\n",
       "  </thead>\n",
       "  <tbody>\n",
       "    <tr>\n",
       "      <th>0</th>\n",
       "      <td>AAPL</td>\n",
       "      <td>7</td>\n",
       "      <td>999.00</td>\n",
       "    </tr>\n",
       "    <tr>\n",
       "      <th>1</th>\n",
       "      <td>MSFT</td>\n",
       "      <td>8</td>\n",
       "      <td>2241.60</td>\n",
       "    </tr>\n",
       "    <tr>\n",
       "      <th>2</th>\n",
       "      <td>TSLA</td>\n",
       "      <td>5</td>\n",
       "      <td>983.75</td>\n",
       "    </tr>\n",
       "  </tbody>\n",
       "</table>\n",
       "</div>"
      ],
      "text/plain": [
       "  Tickier  Quantity     Cost\n",
       "0    AAPL         7   999.00\n",
       "1    MSFT         8  2241.60\n",
       "2    TSLA         5   983.75"
      ]
     },
     "execution_count": 7,
     "metadata": {},
     "output_type": "execute_result"
    }
   ],
   "source": [
    "tickers = df[\"ticker\"].unique().tolist()\n",
    "holdings = pd.DataFrame({\n",
    "    \"Tickier\" : df[\"ticker\"],\n",
    "    \"Quantity\" : df[\"quantity\"],\n",
    "    \"Cost\" : df[\"signed_value\"]\n",
    "}).groupby(\"Tickier\").sum().reset_index()\n",
    "\n",
    "holdings.head()\n",
    "\n"
   ]
  },
  {
   "cell_type": "code",
   "execution_count": 28,
   "metadata": {},
   "outputs": [
    {
     "name": "stderr",
     "output_type": "stream",
     "text": [
      "[*********************100%***********************]  3 of 3 completed\n"
     ]
    }
   ],
   "source": [
    "df[\"date\"] = pd.to_datetime(df[\"date\"])\n",
    "data = yf.download(tickers,start=df[\"date\"].min(),end=pd.Timestamp.today().normalize())\n"
   ]
  },
  {
   "cell_type": "code",
   "execution_count": 12,
   "metadata": {},
   "outputs": [
    {
     "data": {
      "application/vnd.microsoft.datawrangler.viewer.v0+json": {
       "columns": [
        {
         "name": "Date",
         "rawType": "datetime64[ns]",
         "type": "datetime"
        },
        {
         "name": "('Close', 'AAPL')",
         "rawType": "float64",
         "type": "float"
        },
        {
         "name": "('Close', 'MSFT')",
         "rawType": "float64",
         "type": "float"
        },
        {
         "name": "('Close', 'TSLA')",
         "rawType": "float64",
         "type": "float"
        },
        {
         "name": "('High', 'AAPL')",
         "rawType": "float64",
         "type": "float"
        },
        {
         "name": "('High', 'MSFT')",
         "rawType": "float64",
         "type": "float"
        },
        {
         "name": "('High', 'TSLA')",
         "rawType": "float64",
         "type": "float"
        },
        {
         "name": "('Low', 'AAPL')",
         "rawType": "float64",
         "type": "float"
        },
        {
         "name": "('Low', 'MSFT')",
         "rawType": "float64",
         "type": "float"
        },
        {
         "name": "('Low', 'TSLA')",
         "rawType": "float64",
         "type": "float"
        },
        {
         "name": "('Open', 'AAPL')",
         "rawType": "float64",
         "type": "float"
        },
        {
         "name": "('Open', 'MSFT')",
         "rawType": "float64",
         "type": "float"
        },
        {
         "name": "('Open', 'TSLA')",
         "rawType": "float64",
         "type": "float"
        },
        {
         "name": "('Volume', 'AAPL')",
         "rawType": "int64",
         "type": "integer"
        },
        {
         "name": "('Volume', 'MSFT')",
         "rawType": "float64",
         "type": "float"
        },
        {
         "name": "('Volume', 'TSLA')",
         "rawType": "float64",
         "type": "float"
        }
       ],
       "conversionMethod": "pd.DataFrame",
       "ref": "cdba35b0-f1bf-4eb9-bf49-fc2dcd700467",
       "rows": [
        [
         "2025-04-04 00:00:00",
         "188.3800048828125",
         "359.8399963378906",
         "239.42999267578125",
         "199.8800048828125",
         "374.5899963378906",
         "261.0",
         "187.33999633789062",
         "359.4800109863281",
         "236.0",
         "193.88999938964844",
         "364.1300048828125",
         "255.3800048828125",
         "125910900",
         "49209900.0",
         "181229400.0"
        ],
        [
         "2025-04-07 00:00:00",
         "181.4600067138672",
         "357.8599853515625",
         "233.2899932861328",
         "194.14999389648438",
         "371.0",
         "252.0",
         "174.6199951171875",
         "344.7900085449219",
         "214.25",
         "177.1999969482422",
         "350.8800048828125",
         "223.77999877929688",
         "160466300",
         "50425000.0",
         "183453800.0"
        ],
        [
         "2025-04-08 00:00:00",
         "172.4199981689453",
         "354.55999755859375",
         "221.86000061035156",
         "190.33999633789062",
         "373.6499938964844",
         "250.44000244140625",
         "169.2100067138672",
         "350.25",
         "217.8000030517578",
         "186.6999969482422",
         "368.260009765625",
         "245.0",
         "120859500",
         "35868900.0",
         "171603500.0"
        ],
        [
         "2025-04-09 00:00:00",
         "198.85000610351562",
         "390.489990234375",
         "272.20001220703125",
         "200.61000061035156",
         "393.2300109863281",
         "274.69000244140625",
         "171.88999938964844",
         "353.1000061035156",
         "223.8800048828125",
         "171.9499969482422",
         "353.5400085449219",
         "224.69000244140625",
         "184395900",
         "50199700.0",
         "219433400.0"
        ],
        [
         "2025-04-10 00:00:00",
         "190.4199981689453",
         "381.3500061035156",
         "252.39999389648438",
         "194.77999877929688",
         "383.8999938964844",
         "262.489990234375",
         "183.0",
         "367.79998779296875",
         "239.3300018310547",
         "189.07000732421875",
         "382.05999755859375",
         "260.0",
         "121685000",
         "37944100.0",
         "180875500.0"
        ]
       ],
       "shape": {
        "columns": 15,
        "rows": 5
       }
      },
      "text/html": [
       "<div>\n",
       "<style scoped>\n",
       "    .dataframe tbody tr th:only-of-type {\n",
       "        vertical-align: middle;\n",
       "    }\n",
       "\n",
       "    .dataframe tbody tr th {\n",
       "        vertical-align: top;\n",
       "    }\n",
       "\n",
       "    .dataframe thead tr th {\n",
       "        text-align: left;\n",
       "    }\n",
       "\n",
       "    .dataframe thead tr:last-of-type th {\n",
       "        text-align: right;\n",
       "    }\n",
       "</style>\n",
       "<table border=\"1\" class=\"dataframe\">\n",
       "  <thead>\n",
       "    <tr>\n",
       "      <th>Price</th>\n",
       "      <th colspan=\"3\" halign=\"left\">Close</th>\n",
       "      <th colspan=\"3\" halign=\"left\">High</th>\n",
       "      <th colspan=\"3\" halign=\"left\">Low</th>\n",
       "      <th colspan=\"3\" halign=\"left\">Open</th>\n",
       "      <th colspan=\"3\" halign=\"left\">Volume</th>\n",
       "    </tr>\n",
       "    <tr>\n",
       "      <th>Ticker</th>\n",
       "      <th>AAPL</th>\n",
       "      <th>MSFT</th>\n",
       "      <th>TSLA</th>\n",
       "      <th>AAPL</th>\n",
       "      <th>MSFT</th>\n",
       "      <th>TSLA</th>\n",
       "      <th>AAPL</th>\n",
       "      <th>MSFT</th>\n",
       "      <th>TSLA</th>\n",
       "      <th>AAPL</th>\n",
       "      <th>MSFT</th>\n",
       "      <th>TSLA</th>\n",
       "      <th>AAPL</th>\n",
       "      <th>MSFT</th>\n",
       "      <th>TSLA</th>\n",
       "    </tr>\n",
       "    <tr>\n",
       "      <th>Date</th>\n",
       "      <th></th>\n",
       "      <th></th>\n",
       "      <th></th>\n",
       "      <th></th>\n",
       "      <th></th>\n",
       "      <th></th>\n",
       "      <th></th>\n",
       "      <th></th>\n",
       "      <th></th>\n",
       "      <th></th>\n",
       "      <th></th>\n",
       "      <th></th>\n",
       "      <th></th>\n",
       "      <th></th>\n",
       "      <th></th>\n",
       "    </tr>\n",
       "  </thead>\n",
       "  <tbody>\n",
       "    <tr>\n",
       "      <th>2025-04-04</th>\n",
       "      <td>188.380005</td>\n",
       "      <td>359.839996</td>\n",
       "      <td>239.429993</td>\n",
       "      <td>199.880005</td>\n",
       "      <td>374.589996</td>\n",
       "      <td>261.000000</td>\n",
       "      <td>187.339996</td>\n",
       "      <td>359.480011</td>\n",
       "      <td>236.000000</td>\n",
       "      <td>193.889999</td>\n",
       "      <td>364.130005</td>\n",
       "      <td>255.380005</td>\n",
       "      <td>125910900</td>\n",
       "      <td>49209900.0</td>\n",
       "      <td>181229400.0</td>\n",
       "    </tr>\n",
       "    <tr>\n",
       "      <th>2025-04-07</th>\n",
       "      <td>181.460007</td>\n",
       "      <td>357.859985</td>\n",
       "      <td>233.289993</td>\n",
       "      <td>194.149994</td>\n",
       "      <td>371.000000</td>\n",
       "      <td>252.000000</td>\n",
       "      <td>174.619995</td>\n",
       "      <td>344.790009</td>\n",
       "      <td>214.250000</td>\n",
       "      <td>177.199997</td>\n",
       "      <td>350.880005</td>\n",
       "      <td>223.779999</td>\n",
       "      <td>160466300</td>\n",
       "      <td>50425000.0</td>\n",
       "      <td>183453800.0</td>\n",
       "    </tr>\n",
       "    <tr>\n",
       "      <th>2025-04-08</th>\n",
       "      <td>172.419998</td>\n",
       "      <td>354.559998</td>\n",
       "      <td>221.860001</td>\n",
       "      <td>190.339996</td>\n",
       "      <td>373.649994</td>\n",
       "      <td>250.440002</td>\n",
       "      <td>169.210007</td>\n",
       "      <td>350.250000</td>\n",
       "      <td>217.800003</td>\n",
       "      <td>186.699997</td>\n",
       "      <td>368.260010</td>\n",
       "      <td>245.000000</td>\n",
       "      <td>120859500</td>\n",
       "      <td>35868900.0</td>\n",
       "      <td>171603500.0</td>\n",
       "    </tr>\n",
       "    <tr>\n",
       "      <th>2025-04-09</th>\n",
       "      <td>198.850006</td>\n",
       "      <td>390.489990</td>\n",
       "      <td>272.200012</td>\n",
       "      <td>200.610001</td>\n",
       "      <td>393.230011</td>\n",
       "      <td>274.690002</td>\n",
       "      <td>171.889999</td>\n",
       "      <td>353.100006</td>\n",
       "      <td>223.880005</td>\n",
       "      <td>171.949997</td>\n",
       "      <td>353.540009</td>\n",
       "      <td>224.690002</td>\n",
       "      <td>184395900</td>\n",
       "      <td>50199700.0</td>\n",
       "      <td>219433400.0</td>\n",
       "    </tr>\n",
       "    <tr>\n",
       "      <th>2025-04-10</th>\n",
       "      <td>190.419998</td>\n",
       "      <td>381.350006</td>\n",
       "      <td>252.399994</td>\n",
       "      <td>194.779999</td>\n",
       "      <td>383.899994</td>\n",
       "      <td>262.489990</td>\n",
       "      <td>183.000000</td>\n",
       "      <td>367.799988</td>\n",
       "      <td>239.330002</td>\n",
       "      <td>189.070007</td>\n",
       "      <td>382.059998</td>\n",
       "      <td>260.000000</td>\n",
       "      <td>121685000</td>\n",
       "      <td>37944100.0</td>\n",
       "      <td>180875500.0</td>\n",
       "    </tr>\n",
       "  </tbody>\n",
       "</table>\n",
       "</div>"
      ],
      "text/plain": [
       "Price            Close                                High              \\\n",
       "Ticker            AAPL        MSFT        TSLA        AAPL        MSFT   \n",
       "Date                                                                     \n",
       "2025-04-04  188.380005  359.839996  239.429993  199.880005  374.589996   \n",
       "2025-04-07  181.460007  357.859985  233.289993  194.149994  371.000000   \n",
       "2025-04-08  172.419998  354.559998  221.860001  190.339996  373.649994   \n",
       "2025-04-09  198.850006  390.489990  272.200012  200.610001  393.230011   \n",
       "2025-04-10  190.419998  381.350006  252.399994  194.779999  383.899994   \n",
       "\n",
       "Price                          Low                                Open  \\\n",
       "Ticker            TSLA        AAPL        MSFT        TSLA        AAPL   \n",
       "Date                                                                     \n",
       "2025-04-04  261.000000  187.339996  359.480011  236.000000  193.889999   \n",
       "2025-04-07  252.000000  174.619995  344.790009  214.250000  177.199997   \n",
       "2025-04-08  250.440002  169.210007  350.250000  217.800003  186.699997   \n",
       "2025-04-09  274.690002  171.889999  353.100006  223.880005  171.949997   \n",
       "2025-04-10  262.489990  183.000000  367.799988  239.330002  189.070007   \n",
       "\n",
       "Price                                  Volume                           \n",
       "Ticker            MSFT        TSLA       AAPL        MSFT         TSLA  \n",
       "Date                                                                    \n",
       "2025-04-04  364.130005  255.380005  125910900  49209900.0  181229400.0  \n",
       "2025-04-07  350.880005  223.779999  160466300  50425000.0  183453800.0  \n",
       "2025-04-08  368.260010  245.000000  120859500  35868900.0  171603500.0  \n",
       "2025-04-09  353.540009  224.690002  184395900  50199700.0  219433400.0  \n",
       "2025-04-10  382.059998  260.000000  121685000  37944100.0  180875500.0  "
      ]
     },
     "execution_count": 12,
     "metadata": {},
     "output_type": "execute_result"
    }
   ],
   "source": [
    "data.tail()"
   ]
  },
  {
   "cell_type": "code",
   "execution_count": 13,
   "metadata": {},
   "outputs": [
    {
     "data": {
      "application/vnd.microsoft.datawrangler.viewer.v0+json": {
       "columns": [
        {
         "name": "index",
         "rawType": "int64",
         "type": "integer"
        },
        {
         "name": "Tickier",
         "rawType": "object",
         "type": "string"
        },
        {
         "name": "Quantity",
         "rawType": "int64",
         "type": "integer"
        },
        {
         "name": "Cost",
         "rawType": "float64",
         "type": "float"
        },
        {
         "name": "Current Price",
         "rawType": "float64",
         "type": "float"
        }
       ],
       "conversionMethod": "pd.DataFrame",
       "ref": "66f8988a-f96f-4301-a85a-eaf960dec156",
       "rows": [
        [
         "0",
         "AAPL",
         "7",
         "999.0",
         "190.4199981689453"
        ],
        [
         "1",
         "MSFT",
         "8",
         "2241.6",
         "381.3500061035156"
        ],
        [
         "2",
         "TSLA",
         "5",
         "983.75",
         "252.39999389648438"
        ]
       ],
       "shape": {
        "columns": 4,
        "rows": 3
       }
      },
      "text/html": [
       "<div>\n",
       "<style scoped>\n",
       "    .dataframe tbody tr th:only-of-type {\n",
       "        vertical-align: middle;\n",
       "    }\n",
       "\n",
       "    .dataframe tbody tr th {\n",
       "        vertical-align: top;\n",
       "    }\n",
       "\n",
       "    .dataframe thead th {\n",
       "        text-align: right;\n",
       "    }\n",
       "</style>\n",
       "<table border=\"1\" class=\"dataframe\">\n",
       "  <thead>\n",
       "    <tr style=\"text-align: right;\">\n",
       "      <th></th>\n",
       "      <th>Tickier</th>\n",
       "      <th>Quantity</th>\n",
       "      <th>Cost</th>\n",
       "      <th>Current Price</th>\n",
       "    </tr>\n",
       "  </thead>\n",
       "  <tbody>\n",
       "    <tr>\n",
       "      <th>0</th>\n",
       "      <td>AAPL</td>\n",
       "      <td>7</td>\n",
       "      <td>999.00</td>\n",
       "      <td>190.419998</td>\n",
       "    </tr>\n",
       "    <tr>\n",
       "      <th>1</th>\n",
       "      <td>MSFT</td>\n",
       "      <td>8</td>\n",
       "      <td>2241.60</td>\n",
       "      <td>381.350006</td>\n",
       "    </tr>\n",
       "    <tr>\n",
       "      <th>2</th>\n",
       "      <td>TSLA</td>\n",
       "      <td>5</td>\n",
       "      <td>983.75</td>\n",
       "      <td>252.399994</td>\n",
       "    </tr>\n",
       "  </tbody>\n",
       "</table>\n",
       "</div>"
      ],
      "text/plain": [
       "  Tickier  Quantity     Cost  Current Price\n",
       "0    AAPL         7   999.00     190.419998\n",
       "1    MSFT         8  2241.60     381.350006\n",
       "2    TSLA         5   983.75     252.399994"
      ]
     },
     "execution_count": 13,
     "metadata": {},
     "output_type": "execute_result"
    }
   ],
   "source": [
    "latest_prices = data[\"Close\"].iloc[-1]\n",
    "holdings[\"Current Price\"] = holdings[\"Tickier\"].map(latest_prices)\n",
    "\n",
    "holdings.head()\n"
   ]
  },
  {
   "cell_type": "code",
   "execution_count": 15,
   "metadata": {},
   "outputs": [],
   "source": [
    "holdings[\"Current Value\"] = holdings[\"Current Price\"]*holdings[\"Quantity\"]"
   ]
  },
  {
   "cell_type": "code",
   "execution_count": 148,
   "metadata": {},
   "outputs": [
    {
     "data": {
      "application/vnd.microsoft.datawrangler.viewer.v0+json": {
       "columns": [
        {
         "name": "index",
         "rawType": "int64",
         "type": "integer"
        },
        {
         "name": "Tickier",
         "rawType": "object",
         "type": "string"
        },
        {
         "name": "Quantity",
         "rawType": "int64",
         "type": "integer"
        },
        {
         "name": "Cost",
         "rawType": "float64",
         "type": "float"
        },
        {
         "name": "Current Price",
         "rawType": "float64",
         "type": "float"
        },
        {
         "name": "Current Value",
         "rawType": "float64",
         "type": "float"
        }
       ],
       "conversionMethod": "pd.DataFrame",
       "ref": "73a89748-99b1-44db-8737-358f5576fa8f",
       "rows": [
        [
         "0",
         "AAPL",
         "7",
         "999.0",
         "172.4199981689453",
         "1206.9399871826172"
        ],
        [
         "1",
         "MSFT",
         "8",
         "2241.6",
         "354.55999755859375",
         "2836.47998046875"
        ],
        [
         "2",
         "TSLA",
         "5",
         "983.75",
         "221.86000061035156",
         "1109.3000030517578"
        ]
       ],
       "shape": {
        "columns": 5,
        "rows": 3
       }
      },
      "text/html": [
       "<div>\n",
       "<style scoped>\n",
       "    .dataframe tbody tr th:only-of-type {\n",
       "        vertical-align: middle;\n",
       "    }\n",
       "\n",
       "    .dataframe tbody tr th {\n",
       "        vertical-align: top;\n",
       "    }\n",
       "\n",
       "    .dataframe thead th {\n",
       "        text-align: right;\n",
       "    }\n",
       "</style>\n",
       "<table border=\"1\" class=\"dataframe\">\n",
       "  <thead>\n",
       "    <tr style=\"text-align: right;\">\n",
       "      <th></th>\n",
       "      <th>Tickier</th>\n",
       "      <th>Quantity</th>\n",
       "      <th>Cost</th>\n",
       "      <th>Current Price</th>\n",
       "      <th>Current Value</th>\n",
       "    </tr>\n",
       "  </thead>\n",
       "  <tbody>\n",
       "    <tr>\n",
       "      <th>0</th>\n",
       "      <td>AAPL</td>\n",
       "      <td>7</td>\n",
       "      <td>999.00</td>\n",
       "      <td>172.419998</td>\n",
       "      <td>1206.939987</td>\n",
       "    </tr>\n",
       "    <tr>\n",
       "      <th>1</th>\n",
       "      <td>MSFT</td>\n",
       "      <td>8</td>\n",
       "      <td>2241.60</td>\n",
       "      <td>354.559998</td>\n",
       "      <td>2836.479980</td>\n",
       "    </tr>\n",
       "    <tr>\n",
       "      <th>2</th>\n",
       "      <td>TSLA</td>\n",
       "      <td>5</td>\n",
       "      <td>983.75</td>\n",
       "      <td>221.860001</td>\n",
       "      <td>1109.300003</td>\n",
       "    </tr>\n",
       "  </tbody>\n",
       "</table>\n",
       "</div>"
      ],
      "text/plain": [
       "  Tickier  Quantity     Cost  Current Price  Current Value\n",
       "0    AAPL         7   999.00     172.419998    1206.939987\n",
       "1    MSFT         8  2241.60     354.559998    2836.479980\n",
       "2    TSLA         5   983.75     221.860001    1109.300003"
      ]
     },
     "execution_count": 148,
     "metadata": {},
     "output_type": "execute_result"
    }
   ],
   "source": [
    "holdings.head()"
   ]
  },
  {
   "cell_type": "code",
   "execution_count": 16,
   "metadata": {},
   "outputs": [
    {
     "data": {
      "application/vnd.microsoft.datawrangler.viewer.v0+json": {
       "columns": [
        {
         "name": "index",
         "rawType": "int64",
         "type": "integer"
        },
        {
         "name": "date",
         "rawType": "object",
         "type": "string"
        },
        {
         "name": "ticker",
         "rawType": "object",
         "type": "string"
        },
        {
         "name": "quantity",
         "rawType": "int64",
         "type": "integer"
        },
        {
         "name": "price",
         "rawType": "float64",
         "type": "float"
        },
        {
         "name": "signed_value",
         "rawType": "float64",
         "type": "float"
        }
       ],
       "conversionMethod": "pd.DataFrame",
       "ref": "48f10bf0-cf6e-4346-937f-34efca44d3bc",
       "rows": [
        [
         "0",
         "2023-01-10",
         "AAPL",
         "10",
         "145.3",
         "1453.0"
        ],
        [
         "1",
         "2023-02-15",
         "TSLA",
         "5",
         "196.75",
         "983.75"
        ],
        [
         "2",
         "2023-03-01",
         "AAPL",
         "-5",
         "155.0",
         "-775.0"
        ],
        [
         "3",
         "2023-04-22",
         "MSFT",
         "8",
         "280.2",
         "2241.6"
        ],
        [
         "4",
         "2023-05-12",
         "AAPL",
         "2",
         "160.5",
         "321.0"
        ]
       ],
       "shape": {
        "columns": 5,
        "rows": 5
       }
      },
      "text/html": [
       "<div>\n",
       "<style scoped>\n",
       "    .dataframe tbody tr th:only-of-type {\n",
       "        vertical-align: middle;\n",
       "    }\n",
       "\n",
       "    .dataframe tbody tr th {\n",
       "        vertical-align: top;\n",
       "    }\n",
       "\n",
       "    .dataframe thead th {\n",
       "        text-align: right;\n",
       "    }\n",
       "</style>\n",
       "<table border=\"1\" class=\"dataframe\">\n",
       "  <thead>\n",
       "    <tr style=\"text-align: right;\">\n",
       "      <th></th>\n",
       "      <th>date</th>\n",
       "      <th>ticker</th>\n",
       "      <th>quantity</th>\n",
       "      <th>price</th>\n",
       "      <th>signed_value</th>\n",
       "    </tr>\n",
       "  </thead>\n",
       "  <tbody>\n",
       "    <tr>\n",
       "      <th>0</th>\n",
       "      <td>2023-01-10</td>\n",
       "      <td>AAPL</td>\n",
       "      <td>10</td>\n",
       "      <td>145.30</td>\n",
       "      <td>1453.00</td>\n",
       "    </tr>\n",
       "    <tr>\n",
       "      <th>1</th>\n",
       "      <td>2023-02-15</td>\n",
       "      <td>TSLA</td>\n",
       "      <td>5</td>\n",
       "      <td>196.75</td>\n",
       "      <td>983.75</td>\n",
       "    </tr>\n",
       "    <tr>\n",
       "      <th>2</th>\n",
       "      <td>2023-03-01</td>\n",
       "      <td>AAPL</td>\n",
       "      <td>-5</td>\n",
       "      <td>155.00</td>\n",
       "      <td>-775.00</td>\n",
       "    </tr>\n",
       "    <tr>\n",
       "      <th>3</th>\n",
       "      <td>2023-04-22</td>\n",
       "      <td>MSFT</td>\n",
       "      <td>8</td>\n",
       "      <td>280.20</td>\n",
       "      <td>2241.60</td>\n",
       "    </tr>\n",
       "    <tr>\n",
       "      <th>4</th>\n",
       "      <td>2023-05-12</td>\n",
       "      <td>AAPL</td>\n",
       "      <td>2</td>\n",
       "      <td>160.50</td>\n",
       "      <td>321.00</td>\n",
       "    </tr>\n",
       "  </tbody>\n",
       "</table>\n",
       "</div>"
      ],
      "text/plain": [
       "         date ticker  quantity   price  signed_value\n",
       "0  2023-01-10   AAPL        10  145.30       1453.00\n",
       "1  2023-02-15   TSLA         5  196.75        983.75\n",
       "2  2023-03-01   AAPL        -5  155.00       -775.00\n",
       "3  2023-04-22   MSFT         8  280.20       2241.60\n",
       "4  2023-05-12   AAPL         2  160.50        321.00"
      ]
     },
     "execution_count": 16,
     "metadata": {},
     "output_type": "execute_result"
    }
   ],
   "source": [
    "df.head()"
   ]
  },
  {
   "cell_type": "code",
   "execution_count": 17,
   "metadata": {},
   "outputs": [],
   "source": [
    "holdings[\"Profit/Loss\"] = holdings[\"Current Value\"] - holdings[\"Cost\"]\n"
   ]
  },
  {
   "cell_type": "code",
   "execution_count": 18,
   "metadata": {},
   "outputs": [
    {
     "data": {
      "application/vnd.microsoft.datawrangler.viewer.v0+json": {
       "columns": [
        {
         "name": "index",
         "rawType": "int64",
         "type": "integer"
        },
        {
         "name": "Tickier",
         "rawType": "object",
         "type": "string"
        },
        {
         "name": "Quantity",
         "rawType": "int64",
         "type": "integer"
        },
        {
         "name": "Cost",
         "rawType": "float64",
         "type": "float"
        },
        {
         "name": "Current Price",
         "rawType": "float64",
         "type": "float"
        },
        {
         "name": "Current Value",
         "rawType": "float64",
         "type": "float"
        },
        {
         "name": "Profit/Loss",
         "rawType": "float64",
         "type": "float"
        }
       ],
       "conversionMethod": "pd.DataFrame",
       "ref": "316f6369-376e-40e1-bdf2-d637f0c217d1",
       "rows": [
        [
         "0",
         "AAPL",
         "7",
         "999.0",
         "190.4199981689453",
         "1332.9399871826172",
         "333.9399871826172"
        ],
        [
         "1",
         "MSFT",
         "8",
         "2241.6",
         "381.3500061035156",
         "3050.800048828125",
         "809.2000488281251"
        ],
        [
         "2",
         "TSLA",
         "5",
         "983.75",
         "252.39999389648438",
         "1261.9999694824219",
         "278.2499694824219"
        ]
       ],
       "shape": {
        "columns": 6,
        "rows": 3
       }
      },
      "text/html": [
       "<div>\n",
       "<style scoped>\n",
       "    .dataframe tbody tr th:only-of-type {\n",
       "        vertical-align: middle;\n",
       "    }\n",
       "\n",
       "    .dataframe tbody tr th {\n",
       "        vertical-align: top;\n",
       "    }\n",
       "\n",
       "    .dataframe thead th {\n",
       "        text-align: right;\n",
       "    }\n",
       "</style>\n",
       "<table border=\"1\" class=\"dataframe\">\n",
       "  <thead>\n",
       "    <tr style=\"text-align: right;\">\n",
       "      <th></th>\n",
       "      <th>Tickier</th>\n",
       "      <th>Quantity</th>\n",
       "      <th>Cost</th>\n",
       "      <th>Current Price</th>\n",
       "      <th>Current Value</th>\n",
       "      <th>Profit/Loss</th>\n",
       "    </tr>\n",
       "  </thead>\n",
       "  <tbody>\n",
       "    <tr>\n",
       "      <th>0</th>\n",
       "      <td>AAPL</td>\n",
       "      <td>7</td>\n",
       "      <td>999.00</td>\n",
       "      <td>190.419998</td>\n",
       "      <td>1332.939987</td>\n",
       "      <td>333.939987</td>\n",
       "    </tr>\n",
       "    <tr>\n",
       "      <th>1</th>\n",
       "      <td>MSFT</td>\n",
       "      <td>8</td>\n",
       "      <td>2241.60</td>\n",
       "      <td>381.350006</td>\n",
       "      <td>3050.800049</td>\n",
       "      <td>809.200049</td>\n",
       "    </tr>\n",
       "    <tr>\n",
       "      <th>2</th>\n",
       "      <td>TSLA</td>\n",
       "      <td>5</td>\n",
       "      <td>983.75</td>\n",
       "      <td>252.399994</td>\n",
       "      <td>1261.999969</td>\n",
       "      <td>278.249969</td>\n",
       "    </tr>\n",
       "  </tbody>\n",
       "</table>\n",
       "</div>"
      ],
      "text/plain": [
       "  Tickier  Quantity     Cost  Current Price  Current Value  Profit/Loss\n",
       "0    AAPL         7   999.00     190.419998    1332.939987   333.939987\n",
       "1    MSFT         8  2241.60     381.350006    3050.800049   809.200049\n",
       "2    TSLA         5   983.75     252.399994    1261.999969   278.249969"
      ]
     },
     "execution_count": 18,
     "metadata": {},
     "output_type": "execute_result"
    }
   ],
   "source": [
    "holdings.head()"
   ]
  },
  {
   "cell_type": "code",
   "execution_count": 19,
   "metadata": {},
   "outputs": [],
   "source": [
    "df[\"date\"] = pd.to_datetime(df[\"date\"])"
   ]
  },
  {
   "cell_type": "code",
   "execution_count": 20,
   "metadata": {},
   "outputs": [],
   "source": [
    "history = df.pivot_table(index=\"date\",columns=\"ticker\",values=\"quantity\",aggfunc=\"sum\")"
   ]
  },
  {
   "cell_type": "code",
   "execution_count": 21,
   "metadata": {},
   "outputs": [],
   "source": [
    "all_days = pd.date_range(start=history.index.min(),end=pd.Timestamp.today().normalize())\n",
    "\n",
    "history = history.reindex(all_days).fillna(0).cumsum()"
   ]
  },
  {
   "cell_type": "code",
   "execution_count": 22,
   "metadata": {},
   "outputs": [
    {
     "data": {
      "application/vnd.microsoft.datawrangler.viewer.v0+json": {
       "columns": [
        {
         "name": "index",
         "rawType": "datetime64[ns]",
         "type": "datetime"
        },
        {
         "name": "AAPL",
         "rawType": "float64",
         "type": "float"
        },
        {
         "name": "MSFT",
         "rawType": "float64",
         "type": "float"
        },
        {
         "name": "TSLA",
         "rawType": "float64",
         "type": "float"
        }
       ],
       "conversionMethod": "pd.DataFrame",
       "ref": "c6f0ce2a-58ca-43f1-b5e4-4e8f0ac49193",
       "rows": [
        [
         "2023-01-10 00:00:00",
         "10.0",
         "0.0",
         "0.0"
        ],
        [
         "2023-01-11 00:00:00",
         "10.0",
         "0.0",
         "0.0"
        ],
        [
         "2023-01-12 00:00:00",
         "10.0",
         "0.0",
         "0.0"
        ],
        [
         "2023-01-13 00:00:00",
         "10.0",
         "0.0",
         "0.0"
        ],
        [
         "2023-01-14 00:00:00",
         "10.0",
         "0.0",
         "0.0"
        ],
        [
         "2023-01-15 00:00:00",
         "10.0",
         "0.0",
         "0.0"
        ],
        [
         "2023-01-16 00:00:00",
         "10.0",
         "0.0",
         "0.0"
        ],
        [
         "2023-01-17 00:00:00",
         "10.0",
         "0.0",
         "0.0"
        ],
        [
         "2023-01-18 00:00:00",
         "10.0",
         "0.0",
         "0.0"
        ],
        [
         "2023-01-19 00:00:00",
         "10.0",
         "0.0",
         "0.0"
        ],
        [
         "2023-01-20 00:00:00",
         "10.0",
         "0.0",
         "0.0"
        ],
        [
         "2023-01-21 00:00:00",
         "10.0",
         "0.0",
         "0.0"
        ],
        [
         "2023-01-22 00:00:00",
         "10.0",
         "0.0",
         "0.0"
        ],
        [
         "2023-01-23 00:00:00",
         "10.0",
         "0.0",
         "0.0"
        ],
        [
         "2023-01-24 00:00:00",
         "10.0",
         "0.0",
         "0.0"
        ],
        [
         "2023-01-25 00:00:00",
         "10.0",
         "0.0",
         "0.0"
        ],
        [
         "2023-01-26 00:00:00",
         "10.0",
         "0.0",
         "0.0"
        ],
        [
         "2023-01-27 00:00:00",
         "10.0",
         "0.0",
         "0.0"
        ],
        [
         "2023-01-28 00:00:00",
         "10.0",
         "0.0",
         "0.0"
        ],
        [
         "2023-01-29 00:00:00",
         "10.0",
         "0.0",
         "0.0"
        ],
        [
         "2023-01-30 00:00:00",
         "10.0",
         "0.0",
         "0.0"
        ],
        [
         "2023-01-31 00:00:00",
         "10.0",
         "0.0",
         "0.0"
        ],
        [
         "2023-02-01 00:00:00",
         "10.0",
         "0.0",
         "0.0"
        ],
        [
         "2023-02-02 00:00:00",
         "10.0",
         "0.0",
         "0.0"
        ],
        [
         "2023-02-03 00:00:00",
         "10.0",
         "0.0",
         "0.0"
        ],
        [
         "2023-02-04 00:00:00",
         "10.0",
         "0.0",
         "0.0"
        ],
        [
         "2023-02-05 00:00:00",
         "10.0",
         "0.0",
         "0.0"
        ],
        [
         "2023-02-06 00:00:00",
         "10.0",
         "0.0",
         "0.0"
        ],
        [
         "2023-02-07 00:00:00",
         "10.0",
         "0.0",
         "0.0"
        ],
        [
         "2023-02-08 00:00:00",
         "10.0",
         "0.0",
         "0.0"
        ],
        [
         "2023-02-09 00:00:00",
         "10.0",
         "0.0",
         "0.0"
        ],
        [
         "2023-02-10 00:00:00",
         "10.0",
         "0.0",
         "0.0"
        ],
        [
         "2023-02-11 00:00:00",
         "10.0",
         "0.0",
         "0.0"
        ],
        [
         "2023-02-12 00:00:00",
         "10.0",
         "0.0",
         "0.0"
        ],
        [
         "2023-02-13 00:00:00",
         "10.0",
         "0.0",
         "0.0"
        ],
        [
         "2023-02-14 00:00:00",
         "10.0",
         "0.0",
         "0.0"
        ],
        [
         "2023-02-15 00:00:00",
         "10.0",
         "0.0",
         "5.0"
        ],
        [
         "2023-02-16 00:00:00",
         "10.0",
         "0.0",
         "5.0"
        ],
        [
         "2023-02-17 00:00:00",
         "10.0",
         "0.0",
         "5.0"
        ],
        [
         "2023-02-18 00:00:00",
         "10.0",
         "0.0",
         "5.0"
        ],
        [
         "2023-02-19 00:00:00",
         "10.0",
         "0.0",
         "5.0"
        ],
        [
         "2023-02-20 00:00:00",
         "10.0",
         "0.0",
         "5.0"
        ],
        [
         "2023-02-21 00:00:00",
         "10.0",
         "0.0",
         "5.0"
        ],
        [
         "2023-02-22 00:00:00",
         "10.0",
         "0.0",
         "5.0"
        ],
        [
         "2023-02-23 00:00:00",
         "10.0",
         "0.0",
         "5.0"
        ],
        [
         "2023-02-24 00:00:00",
         "10.0",
         "0.0",
         "5.0"
        ],
        [
         "2023-02-25 00:00:00",
         "10.0",
         "0.0",
         "5.0"
        ],
        [
         "2023-02-26 00:00:00",
         "10.0",
         "0.0",
         "5.0"
        ],
        [
         "2023-02-27 00:00:00",
         "10.0",
         "0.0",
         "5.0"
        ],
        [
         "2023-02-28 00:00:00",
         "10.0",
         "0.0",
         "5.0"
        ]
       ],
       "shape": {
        "columns": 3,
        "rows": 823
       }
      },
      "text/html": [
       "<div>\n",
       "<style scoped>\n",
       "    .dataframe tbody tr th:only-of-type {\n",
       "        vertical-align: middle;\n",
       "    }\n",
       "\n",
       "    .dataframe tbody tr th {\n",
       "        vertical-align: top;\n",
       "    }\n",
       "\n",
       "    .dataframe thead th {\n",
       "        text-align: right;\n",
       "    }\n",
       "</style>\n",
       "<table border=\"1\" class=\"dataframe\">\n",
       "  <thead>\n",
       "    <tr style=\"text-align: right;\">\n",
       "      <th>ticker</th>\n",
       "      <th>AAPL</th>\n",
       "      <th>MSFT</th>\n",
       "      <th>TSLA</th>\n",
       "    </tr>\n",
       "  </thead>\n",
       "  <tbody>\n",
       "    <tr>\n",
       "      <th>2023-01-10</th>\n",
       "      <td>10.0</td>\n",
       "      <td>0.0</td>\n",
       "      <td>0.0</td>\n",
       "    </tr>\n",
       "    <tr>\n",
       "      <th>2023-01-11</th>\n",
       "      <td>10.0</td>\n",
       "      <td>0.0</td>\n",
       "      <td>0.0</td>\n",
       "    </tr>\n",
       "    <tr>\n",
       "      <th>2023-01-12</th>\n",
       "      <td>10.0</td>\n",
       "      <td>0.0</td>\n",
       "      <td>0.0</td>\n",
       "    </tr>\n",
       "    <tr>\n",
       "      <th>2023-01-13</th>\n",
       "      <td>10.0</td>\n",
       "      <td>0.0</td>\n",
       "      <td>0.0</td>\n",
       "    </tr>\n",
       "    <tr>\n",
       "      <th>2023-01-14</th>\n",
       "      <td>10.0</td>\n",
       "      <td>0.0</td>\n",
       "      <td>0.0</td>\n",
       "    </tr>\n",
       "    <tr>\n",
       "      <th>...</th>\n",
       "      <td>...</td>\n",
       "      <td>...</td>\n",
       "      <td>...</td>\n",
       "    </tr>\n",
       "    <tr>\n",
       "      <th>2025-04-07</th>\n",
       "      <td>7.0</td>\n",
       "      <td>8.0</td>\n",
       "      <td>5.0</td>\n",
       "    </tr>\n",
       "    <tr>\n",
       "      <th>2025-04-08</th>\n",
       "      <td>7.0</td>\n",
       "      <td>8.0</td>\n",
       "      <td>5.0</td>\n",
       "    </tr>\n",
       "    <tr>\n",
       "      <th>2025-04-09</th>\n",
       "      <td>7.0</td>\n",
       "      <td>8.0</td>\n",
       "      <td>5.0</td>\n",
       "    </tr>\n",
       "    <tr>\n",
       "      <th>2025-04-10</th>\n",
       "      <td>7.0</td>\n",
       "      <td>8.0</td>\n",
       "      <td>5.0</td>\n",
       "    </tr>\n",
       "    <tr>\n",
       "      <th>2025-04-11</th>\n",
       "      <td>7.0</td>\n",
       "      <td>8.0</td>\n",
       "      <td>5.0</td>\n",
       "    </tr>\n",
       "  </tbody>\n",
       "</table>\n",
       "<p>823 rows × 3 columns</p>\n",
       "</div>"
      ],
      "text/plain": [
       "ticker      AAPL  MSFT  TSLA\n",
       "2023-01-10  10.0   0.0   0.0\n",
       "2023-01-11  10.0   0.0   0.0\n",
       "2023-01-12  10.0   0.0   0.0\n",
       "2023-01-13  10.0   0.0   0.0\n",
       "2023-01-14  10.0   0.0   0.0\n",
       "...          ...   ...   ...\n",
       "2025-04-07   7.0   8.0   5.0\n",
       "2025-04-08   7.0   8.0   5.0\n",
       "2025-04-09   7.0   8.0   5.0\n",
       "2025-04-10   7.0   8.0   5.0\n",
       "2025-04-11   7.0   8.0   5.0\n",
       "\n",
       "[823 rows x 3 columns]"
      ]
     },
     "execution_count": 22,
     "metadata": {},
     "output_type": "execute_result"
    }
   ],
   "source": [
    "history"
   ]
  },
  {
   "cell_type": "code",
   "execution_count": 51,
   "metadata": {},
   "outputs": [],
   "source": [
    "daily_value = data[\"Close\"]*history"
   ]
  },
  {
   "cell_type": "code",
   "execution_count": 52,
   "metadata": {},
   "outputs": [
    {
     "name": "stderr",
     "output_type": "stream",
     "text": [
      "/var/folders/01/63vbx23n4j1f9ykpncsfr4mm0000gn/T/ipykernel_72262/1667764174.py:1: FutureWarning: DataFrame.fillna with 'method' is deprecated and will raise in a future version. Use obj.ffill() or obj.bfill() instead.\n",
      "  daily_value = daily_value.fillna(method=\"ffill\")\n"
     ]
    }
   ],
   "source": [
    "daily_value = daily_value.fillna(method=\"ffill\")"
   ]
  },
  {
   "cell_type": "code",
   "execution_count": 53,
   "metadata": {},
   "outputs": [],
   "source": [
    "daily_value[\"Total\"] = daily_value.sum(axis=1)"
   ]
  },
  {
   "cell_type": "code",
   "execution_count": 54,
   "metadata": {},
   "outputs": [
    {
     "data": {
      "application/vnd.microsoft.datawrangler.viewer.v0+json": {
       "columns": [
        {
         "name": "index",
         "rawType": "datetime64[ns]",
         "type": "datetime"
        },
        {
         "name": "AAPL",
         "rawType": "float64",
         "type": "float"
        },
        {
         "name": "MSFT",
         "rawType": "float64",
         "type": "float"
        },
        {
         "name": "TSLA",
         "rawType": "float64",
         "type": "float"
        },
        {
         "name": "Total",
         "rawType": "float64",
         "type": "float"
        }
       ],
       "conversionMethod": "pd.DataFrame",
       "ref": "6456d737-e959-4aad-937b-fc9213cdce3e",
       "rows": [
        [
         "2023-01-10 00:00:00",
         "1292.2746276855469",
         "0.0",
         "0.0",
         "1292.2746276855469"
        ],
        [
         "2023-01-11 00:00:00",
         "1319.5573425292969",
         "0.0",
         "0.0",
         "1319.5573425292969"
        ],
        [
         "2023-01-12 00:00:00",
         "1318.7666320800781",
         "0.0",
         "0.0",
         "1318.7666320800781"
        ],
        [
         "2023-01-13 00:00:00",
         "1332.11181640625",
         "0.0",
         "0.0",
         "1332.11181640625"
        ],
        [
         "2023-01-14 00:00:00",
         "1332.11181640625",
         "0.0",
         "0.0",
         "1332.11181640625"
        ],
        [
         "2023-01-15 00:00:00",
         "1332.11181640625",
         "0.0",
         "0.0",
         "1332.11181640625"
        ],
        [
         "2023-01-16 00:00:00",
         "1332.11181640625",
         "0.0",
         "0.0",
         "1332.11181640625"
        ],
        [
         "2023-01-17 00:00:00",
         "1343.7759399414062",
         "0.0",
         "0.0",
         "1343.7759399414062"
        ],
        [
         "2023-01-18 00:00:00",
         "1336.5599060058594",
         "0.0",
         "0.0",
         "1336.5599060058594"
        ],
        [
         "2023-01-19 00:00:00",
         "1337.1528625488281",
         "0.0",
         "0.0",
         "1337.1528625488281"
        ],
        [
         "2023-01-20 00:00:00",
         "1362.8543090820312",
         "0.0",
         "0.0",
         "1362.8543090820312"
        ],
        [
         "2023-01-21 00:00:00",
         "1362.8543090820312",
         "0.0",
         "0.0",
         "1362.8543090820312"
        ],
        [
         "2023-01-22 00:00:00",
         "1362.8543090820312",
         "0.0",
         "0.0",
         "1362.8543090820312"
        ],
        [
         "2023-01-23 00:00:00",
         "1394.8817443847656",
         "0.0",
         "0.0",
         "1394.8817443847656"
        ],
        [
         "2023-01-24 00:00:00",
         "1408.9186096191406",
         "0.0",
         "0.0",
         "1408.9186096191406"
        ],
        [
         "2023-01-25 00:00:00",
         "1402.2955322265625",
         "0.0",
         "0.0",
         "1402.2955322265625"
        ],
        [
         "2023-01-26 00:00:00",
         "1423.0545043945312",
         "0.0",
         "0.0",
         "1423.0545043945312"
        ],
        [
         "2023-01-27 00:00:00",
         "1442.5276184082031",
         "0.0",
         "0.0",
         "1442.5276184082031"
        ],
        [
         "2023-01-28 00:00:00",
         "1442.5276184082031",
         "0.0",
         "0.0",
         "1442.5276184082031"
        ],
        [
         "2023-01-29 00:00:00",
         "1442.5276184082031",
         "0.0",
         "0.0",
         "1442.5276184082031"
        ],
        [
         "2023-01-30 00:00:00",
         "1413.5643005371094",
         "0.0",
         "0.0",
         "1413.5643005371094"
        ],
        [
         "2023-01-31 00:00:00",
         "1426.3160705566406",
         "0.0",
         "0.0",
         "1426.3160705566406"
        ],
        [
         "2023-02-01 00:00:00",
         "1437.5849914550781",
         "0.0",
         "0.0",
         "1437.5849914550781"
        ],
        [
         "2023-02-02 00:00:00",
         "1490.8660888671875",
         "0.0",
         "0.0",
         "1490.8660888671875"
        ],
        [
         "2023-02-03 00:00:00",
         "1527.2430419921875",
         "0.0",
         "0.0",
         "1527.2430419921875"
        ],
        [
         "2023-02-04 00:00:00",
         "1527.2430419921875",
         "0.0",
         "0.0",
         "1527.2430419921875"
        ],
        [
         "2023-02-05 00:00:00",
         "1527.2430419921875",
         "0.0",
         "0.0",
         "1527.2430419921875"
        ],
        [
         "2023-02-06 00:00:00",
         "1499.8611450195312",
         "0.0",
         "0.0",
         "1499.8611450195312"
        ],
        [
         "2023-02-07 00:00:00",
         "1528.7254333496094",
         "0.0",
         "0.0",
         "1528.7254333496094"
        ],
        [
         "2023-02-08 00:00:00",
         "1501.7393493652344",
         "0.0",
         "0.0",
         "1501.7393493652344"
        ],
        [
         "2023-02-09 00:00:00",
         "1491.3600158691406",
         "0.0",
         "0.0",
         "1491.3600158691406"
        ],
        [
         "2023-02-10 00:00:00",
         "1495.0230407714844",
         "0.0",
         "0.0",
         "1495.0230407714844"
        ],
        [
         "2023-02-11 00:00:00",
         "1495.0230407714844",
         "0.0",
         "0.0",
         "1495.0230407714844"
        ],
        [
         "2023-02-12 00:00:00",
         "1495.0230407714844",
         "0.0",
         "0.0",
         "1495.0230407714844"
        ],
        [
         "2023-02-13 00:00:00",
         "1523.1396484375",
         "0.0",
         "0.0",
         "1523.1396484375"
        ],
        [
         "2023-02-14 00:00:00",
         "1516.7044067382812",
         "0.0",
         "0.0",
         "1516.7044067382812"
        ],
        [
         "2023-02-15 00:00:00",
         "1537.7915954589844",
         "0.0",
         "1071.2000274658203",
         "2608.9916229248047"
        ],
        [
         "2023-02-16 00:00:00",
         "1521.7535400390625",
         "0.0",
         "1010.1999664306641",
         "2531.9535064697266"
        ],
        [
         "2023-02-17 00:00:00",
         "1510.2691650390625",
         "0.0",
         "1041.5499877929688",
         "2551.8191528320312"
        ],
        [
         "2023-02-18 00:00:00",
         "1510.2691650390625",
         "0.0",
         "1041.5499877929688",
         "2551.8191528320312"
        ],
        [
         "2023-02-19 00:00:00",
         "1510.2691650390625",
         "0.0",
         "1041.5499877929688",
         "2551.8191528320312"
        ],
        [
         "2023-02-20 00:00:00",
         "1510.2691650390625",
         "0.0",
         "1041.5499877929688",
         "2551.8191528320312"
        ],
        [
         "2023-02-21 00:00:00",
         "1469.9757385253906",
         "0.0",
         "986.8499755859375",
         "2456.825714111328"
        ],
        [
         "2023-02-22 00:00:00",
         "1474.2326354980469",
         "0.0",
         "1004.3000030517578",
         "2478.5326385498047"
        ],
        [
         "2023-02-23 00:00:00",
         "1479.0837097167969",
         "0.0",
         "1010.3500366210938",
         "2489.4337463378906"
        ],
        [
         "2023-02-24 00:00:00",
         "1452.4525451660156",
         "0.0",
         "984.4000244140625",
         "2436.852569580078"
        ],
        [
         "2023-02-25 00:00:00",
         "1452.4525451660156",
         "0.0",
         "984.4000244140625",
         "2436.852569580078"
        ],
        [
         "2023-02-26 00:00:00",
         "1452.4525451660156",
         "0.0",
         "984.4000244140625",
         "2436.852569580078"
        ],
        [
         "2023-02-27 00:00:00",
         "1464.4316101074219",
         "0.0",
         "1038.1500244140625",
         "2502.5816345214844"
        ],
        [
         "2023-02-28 00:00:00",
         "1459.38232421875",
         "0.0",
         "1028.550033569336",
         "2487.932357788086"
        ]
       ],
       "shape": {
        "columns": 4,
        "rows": 823
       }
      },
      "text/html": [
       "<div>\n",
       "<style scoped>\n",
       "    .dataframe tbody tr th:only-of-type {\n",
       "        vertical-align: middle;\n",
       "    }\n",
       "\n",
       "    .dataframe tbody tr th {\n",
       "        vertical-align: top;\n",
       "    }\n",
       "\n",
       "    .dataframe thead th {\n",
       "        text-align: right;\n",
       "    }\n",
       "</style>\n",
       "<table border=\"1\" class=\"dataframe\">\n",
       "  <thead>\n",
       "    <tr style=\"text-align: right;\">\n",
       "      <th>Ticker</th>\n",
       "      <th>AAPL</th>\n",
       "      <th>MSFT</th>\n",
       "      <th>TSLA</th>\n",
       "      <th>Total</th>\n",
       "    </tr>\n",
       "  </thead>\n",
       "  <tbody>\n",
       "    <tr>\n",
       "      <th>2023-01-10</th>\n",
       "      <td>1292.274628</td>\n",
       "      <td>0.000000</td>\n",
       "      <td>0.000000</td>\n",
       "      <td>1292.274628</td>\n",
       "    </tr>\n",
       "    <tr>\n",
       "      <th>2023-01-11</th>\n",
       "      <td>1319.557343</td>\n",
       "      <td>0.000000</td>\n",
       "      <td>0.000000</td>\n",
       "      <td>1319.557343</td>\n",
       "    </tr>\n",
       "    <tr>\n",
       "      <th>2023-01-12</th>\n",
       "      <td>1318.766632</td>\n",
       "      <td>0.000000</td>\n",
       "      <td>0.000000</td>\n",
       "      <td>1318.766632</td>\n",
       "    </tr>\n",
       "    <tr>\n",
       "      <th>2023-01-13</th>\n",
       "      <td>1332.111816</td>\n",
       "      <td>0.000000</td>\n",
       "      <td>0.000000</td>\n",
       "      <td>1332.111816</td>\n",
       "    </tr>\n",
       "    <tr>\n",
       "      <th>2023-01-14</th>\n",
       "      <td>1332.111816</td>\n",
       "      <td>0.000000</td>\n",
       "      <td>0.000000</td>\n",
       "      <td>1332.111816</td>\n",
       "    </tr>\n",
       "    <tr>\n",
       "      <th>...</th>\n",
       "      <td>...</td>\n",
       "      <td>...</td>\n",
       "      <td>...</td>\n",
       "      <td>...</td>\n",
       "    </tr>\n",
       "    <tr>\n",
       "      <th>2025-04-07</th>\n",
       "      <td>1270.220047</td>\n",
       "      <td>2862.879883</td>\n",
       "      <td>1166.449966</td>\n",
       "      <td>5299.549896</td>\n",
       "    </tr>\n",
       "    <tr>\n",
       "      <th>2025-04-08</th>\n",
       "      <td>1206.939987</td>\n",
       "      <td>2836.479980</td>\n",
       "      <td>1109.300003</td>\n",
       "      <td>5152.719971</td>\n",
       "    </tr>\n",
       "    <tr>\n",
       "      <th>2025-04-09</th>\n",
       "      <td>1391.950043</td>\n",
       "      <td>3123.919922</td>\n",
       "      <td>1361.000061</td>\n",
       "      <td>5876.870026</td>\n",
       "    </tr>\n",
       "    <tr>\n",
       "      <th>2025-04-10</th>\n",
       "      <td>1332.939987</td>\n",
       "      <td>3050.800049</td>\n",
       "      <td>1261.999969</td>\n",
       "      <td>5645.740005</td>\n",
       "    </tr>\n",
       "    <tr>\n",
       "      <th>2025-04-11</th>\n",
       "      <td>1332.939987</td>\n",
       "      <td>3050.800049</td>\n",
       "      <td>1261.999969</td>\n",
       "      <td>5645.740005</td>\n",
       "    </tr>\n",
       "  </tbody>\n",
       "</table>\n",
       "<p>823 rows × 4 columns</p>\n",
       "</div>"
      ],
      "text/plain": [
       "Ticker             AAPL         MSFT         TSLA        Total\n",
       "2023-01-10  1292.274628     0.000000     0.000000  1292.274628\n",
       "2023-01-11  1319.557343     0.000000     0.000000  1319.557343\n",
       "2023-01-12  1318.766632     0.000000     0.000000  1318.766632\n",
       "2023-01-13  1332.111816     0.000000     0.000000  1332.111816\n",
       "2023-01-14  1332.111816     0.000000     0.000000  1332.111816\n",
       "...                 ...          ...          ...          ...\n",
       "2025-04-07  1270.220047  2862.879883  1166.449966  5299.549896\n",
       "2025-04-08  1206.939987  2836.479980  1109.300003  5152.719971\n",
       "2025-04-09  1391.950043  3123.919922  1361.000061  5876.870026\n",
       "2025-04-10  1332.939987  3050.800049  1261.999969  5645.740005\n",
       "2025-04-11  1332.939987  3050.800049  1261.999969  5645.740005\n",
       "\n",
       "[823 rows x 4 columns]"
      ]
     },
     "execution_count": 54,
     "metadata": {},
     "output_type": "execute_result"
    }
   ],
   "source": [
    "daily_value"
   ]
  },
  {
   "cell_type": "code",
   "execution_count": 55,
   "metadata": {},
   "outputs": [
    {
     "data": {
      "text/plain": [
       "<Axes: >"
      ]
     },
     "execution_count": 55,
     "metadata": {},
     "output_type": "execute_result"
    },
    {
     "data": {
      "image/png": "[encoded data removed]",
      "text/plain": [
       "<Figure size 640x480 with 1 Axes>"
      ]
     },
     "metadata": {},
     "output_type": "display_data"
    }
   ],
   "source": [
    "daily_value[\"Total\"].plot()"
   ]
  },
  {
   "cell_type": "code",
   "execution_count": null,
   "metadata": {},
   "outputs": [],
   "source": []
  }
 ],
 "metadata": {
  "kernelspec": {
   "display_name": "Python 3",
   "language": "python",
   "name": "python3"
  },
  "language_info": {
   "codemirror_mode": {
    "name": "ipython",
    "version": 3
   },
   "file_extension": ".py",
   "mimetype": "text/x-python",
   "name": "python",
   "nbconvert_exporter": "python",
   "pygments_lexer": "ipython3",
   "version": "3.12.0"
  }
 },
 "nbformat": 4,
 "nbformat_minor": 2
}
