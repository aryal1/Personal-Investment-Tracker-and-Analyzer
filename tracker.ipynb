{
 "cells": [
  {
   "cell_type": "code",
   "execution_count": 100,
   "metadata": {},
   "outputs": [
    {
     "name": "stdout",
     "output_type": "stream",
     "text": [
      "         date ticker action  quantity   price\n",
      "0  2023-01-10   AAPL    buy        10  145.30\n",
      "1  2023-02-15   TSLA    buy         5  196.75\n",
      "2  2023-03-01   AAPL   sell         5  155.00\n",
      "3  2023-04-22   MSFT    buy         8  280.20\n",
      "4  2023-05-12   AAPL    buy         2  160.50\n"
     ]
    }
   ],
   "source": [
    "import pandas as pd\n",
    "import numpy as np\n",
    "import yfinance as yf\n",
    "\n",
    "df = pd.read_csv(\"./data/sample_trades.csv\")\n",
    "print(df.head())\n"
   ]
  },
  {
   "cell_type": "code",
   "execution_count": 101,
   "metadata": {},
   "outputs": [],
   "source": [
    "\n",
    "\n",
    "df[\"quantity\"] = df.apply(\n",
    "    lambda row: -row[\"quantity\"] if row[\"action\"] == \"sell\" else row[\"quantity\"], axis=1\n",
    ")"
   ]
  },
  {
   "cell_type": "code",
   "execution_count": 102,
   "metadata": {},
   "outputs": [],
   "source": [
    "df =df.drop(columns=[\"action\"])"
   ]
  },
  {
   "cell_type": "code",
   "execution_count": 103,
   "metadata": {},
   "outputs": [
    {
     "data": {
      "application/vnd.microsoft.datawrangler.viewer.v0+json": {
       "columns": [
        {
         "name": "index",
         "rawType": "int64",
         "type": "integer"
        },
        {
         "name": "date",
         "rawType": "object",
         "type": "string"
        },
        {
         "name": "ticker",
         "rawType": "object",
         "type": "string"
        },
        {
         "name": "quantity",
         "rawType": "int64",
         "type": "integer"
        },
        {
         "name": "price",
         "rawType": "float64",
         "type": "float"
        },
        {
         "name": "signed_value",
         "rawType": "float64",
         "type": "float"
        }
       ],
       "conversionMethod": "pd.DataFrame",
       "ref": "894f83ec-8d10-46d6-8db5-3a4783954752",
       "rows": [
        [
         "0",
         "2023-01-10",
         "AAPL",
         "10",
         "145.3",
         "1453.0"
        ],
        [
         "1",
         "2023-02-15",
         "TSLA",
         "5",
         "196.75",
         "983.75"
        ],
        [
         "2",
         "2023-03-01",
         "AAPL",
         "-5",
         "155.0",
         "-775.0"
        ],
        [
         "3",
         "2023-04-22",
         "MSFT",
         "8",
         "280.2",
         "2241.6"
        ],
        [
         "4",
         "2023-05-12",
         "AAPL",
         "2",
         "160.5",
         "321.0"
        ]
       ],
       "shape": {
        "columns": 5,
        "rows": 5
       }
      },
      "text/html": [
       "<div>\n",
       "<style scoped>\n",
       "    .dataframe tbody tr th:only-of-type {\n",
       "        vertical-align: middle;\n",
       "    }\n",
       "\n",
       "    .dataframe tbody tr th {\n",
       "        vertical-align: top;\n",
       "    }\n",
       "\n",
       "    .dataframe thead th {\n",
       "        text-align: right;\n",
       "    }\n",
       "</style>\n",
       "<table border=\"1\" class=\"dataframe\">\n",
       "  <thead>\n",
       "    <tr style=\"text-align: right;\">\n",
       "      <th></th>\n",
       "      <th>date</th>\n",
       "      <th>ticker</th>\n",
       "      <th>quantity</th>\n",
       "      <th>price</th>\n",
       "      <th>signed_value</th>\n",
       "    </tr>\n",
       "  </thead>\n",
       "  <tbody>\n",
       "    <tr>\n",
       "      <th>0</th>\n",
       "      <td>2023-01-10</td>\n",
       "      <td>AAPL</td>\n",
       "      <td>10</td>\n",
       "      <td>145.30</td>\n",
       "      <td>1453.00</td>\n",
       "    </tr>\n",
       "    <tr>\n",
       "      <th>1</th>\n",
       "      <td>2023-02-15</td>\n",
       "      <td>TSLA</td>\n",
       "      <td>5</td>\n",
       "      <td>196.75</td>\n",
       "      <td>983.75</td>\n",
       "    </tr>\n",
       "    <tr>\n",
       "      <th>2</th>\n",
       "      <td>2023-03-01</td>\n",
       "      <td>AAPL</td>\n",
       "      <td>-5</td>\n",
       "      <td>155.00</td>\n",
       "      <td>-775.00</td>\n",
       "    </tr>\n",
       "    <tr>\n",
       "      <th>3</th>\n",
       "      <td>2023-04-22</td>\n",
       "      <td>MSFT</td>\n",
       "      <td>8</td>\n",
       "      <td>280.20</td>\n",
       "      <td>2241.60</td>\n",
       "    </tr>\n",
       "    <tr>\n",
       "      <th>4</th>\n",
       "      <td>2023-05-12</td>\n",
       "      <td>AAPL</td>\n",
       "      <td>2</td>\n",
       "      <td>160.50</td>\n",
       "      <td>321.00</td>\n",
       "    </tr>\n",
       "  </tbody>\n",
       "</table>\n",
       "</div>"
      ],
      "text/plain": [
       "         date ticker  quantity   price  signed_value\n",
       "0  2023-01-10   AAPL        10  145.30       1453.00\n",
       "1  2023-02-15   TSLA         5  196.75        983.75\n",
       "2  2023-03-01   AAPL        -5  155.00       -775.00\n",
       "3  2023-04-22   MSFT         8  280.20       2241.60\n",
       "4  2023-05-12   AAPL         2  160.50        321.00"
      ]
     },
     "execution_count": 103,
     "metadata": {},
     "output_type": "execute_result"
    }
   ],
   "source": [
    "df['signed_value'] = df[\"quantity\"] * df[\"price\"]\n",
    "df.head()"
   ]
  },
  {
   "cell_type": "code",
   "execution_count": 144,
   "metadata": {},
   "outputs": [
    {
     "data": {
      "application/vnd.microsoft.datawrangler.viewer.v0+json": {
       "columns": [
        {
         "name": "index",
         "rawType": "int64",
         "type": "integer"
        },
        {
         "name": "Tickier",
         "rawType": "object",
         "type": "string"
        },
        {
         "name": "Quantity",
         "rawType": "int64",
         "type": "integer"
        },
        {
         "name": "Cost",
         "rawType": "float64",
         "type": "float"
        }
       ],
       "conversionMethod": "pd.DataFrame",
       "ref": "d653db67-f2c8-441e-b6bd-8542ae6e2ff6",
       "rows": [
        [
         "0",
         "AAPL",
         "7",
         "999.0"
        ],
        [
         "1",
         "MSFT",
         "8",
         "2241.6"
        ],
        [
         "2",
         "TSLA",
         "5",
         "983.75"
        ]
       ],
       "shape": {
        "columns": 3,
        "rows": 3
       }
      },
      "text/html": [
       "<div>\n",
       "<style scoped>\n",
       "    .dataframe tbody tr th:only-of-type {\n",
       "        vertical-align: middle;\n",
       "    }\n",
       "\n",
       "    .dataframe tbody tr th {\n",
       "        vertical-align: top;\n",
       "    }\n",
       "\n",
       "    .dataframe thead th {\n",
       "        text-align: right;\n",
       "    }\n",
       "</style>\n",
       "<table border=\"1\" class=\"dataframe\">\n",
       "  <thead>\n",
       "    <tr style=\"text-align: right;\">\n",
       "      <th></th>\n",
       "      <th>Tickier</th>\n",
       "      <th>Quantity</th>\n",
       "      <th>Cost</th>\n",
       "    </tr>\n",
       "  </thead>\n",
       "  <tbody>\n",
       "    <tr>\n",
       "      <th>0</th>\n",
       "      <td>AAPL</td>\n",
       "      <td>7</td>\n",
       "      <td>999.00</td>\n",
       "    </tr>\n",
       "    <tr>\n",
       "      <th>1</th>\n",
       "      <td>MSFT</td>\n",
       "      <td>8</td>\n",
       "      <td>2241.60</td>\n",
       "    </tr>\n",
       "    <tr>\n",
       "      <th>2</th>\n",
       "      <td>TSLA</td>\n",
       "      <td>5</td>\n",
       "      <td>983.75</td>\n",
       "    </tr>\n",
       "  </tbody>\n",
       "</table>\n",
       "</div>"
      ],
      "text/plain": [
       "  Tickier  Quantity     Cost\n",
       "0    AAPL         7   999.00\n",
       "1    MSFT         8  2241.60\n",
       "2    TSLA         5   983.75"
      ]
     },
     "execution_count": 144,
     "metadata": {},
     "output_type": "execute_result"
    }
   ],
   "source": [
    "tickers = df[\"ticker\"].unique().tolist()\n",
    "holdings = pd.DataFrame({\n",
    "    \"Tickier\" : df[\"ticker\"],\n",
    "    \"Quantity\" : df[\"quantity\"],\n",
    "    \"Cost\" : df[\"signed_value\"]\n",
    "}).groupby(\"Tickier\").sum().reset_index()\n",
    "\n",
    "holdings.head()\n",
    "\n"
   ]
  },
  {
   "cell_type": "code",
   "execution_count": 145,
   "metadata": {},
   "outputs": [
    {
     "name": "stderr",
     "output_type": "stream",
     "text": [
      "[*********************100%***********************]  3 of 3 completed\n"
     ]
    }
   ],
   "source": [
    "data = yf.download(tickers,start=\"2023-01-01\",end=\"2025-04-09\")\n"
   ]
  },
  {
   "cell_type": "code",
   "execution_count": 118,
   "metadata": {},
   "outputs": [
    {
     "data": {
      "application/vnd.microsoft.datawrangler.viewer.v0+json": {
       "columns": [
        {
         "name": "Date",
         "rawType": "datetime64[ns]",
         "type": "datetime"
        },
        {
         "name": "('Close', 'AAPL')",
         "rawType": "float64",
         "type": "float"
        },
        {
         "name": "('Close', 'MSFT')",
         "rawType": "float64",
         "type": "float"
        },
        {
         "name": "('Close', 'TSLA')",
         "rawType": "float64",
         "type": "float"
        },
        {
         "name": "('High', 'AAPL')",
         "rawType": "float64",
         "type": "float"
        },
        {
         "name": "('High', 'MSFT')",
         "rawType": "float64",
         "type": "float"
        },
        {
         "name": "('High', 'TSLA')",
         "rawType": "float64",
         "type": "float"
        },
        {
         "name": "('Low', 'AAPL')",
         "rawType": "float64",
         "type": "float"
        },
        {
         "name": "('Low', 'MSFT')",
         "rawType": "float64",
         "type": "float"
        },
        {
         "name": "('Low', 'TSLA')",
         "rawType": "float64",
         "type": "float"
        },
        {
         "name": "('Open', 'AAPL')",
         "rawType": "float64",
         "type": "float"
        },
        {
         "name": "('Open', 'MSFT')",
         "rawType": "float64",
         "type": "float"
        },
        {
         "name": "('Open', 'TSLA')",
         "rawType": "float64",
         "type": "float"
        },
        {
         "name": "('Volume', 'AAPL')",
         "rawType": "int64",
         "type": "integer"
        },
        {
         "name": "('Volume', 'MSFT')",
         "rawType": "int64",
         "type": "integer"
        },
        {
         "name": "('Volume', 'TSLA')",
         "rawType": "int64",
         "type": "integer"
        }
       ],
       "conversionMethod": "pd.DataFrame",
       "ref": "41665fa2-301e-40c3-8496-a09a935acd30",
       "rows": [
        [
         "2025-04-02 00:00:00",
         "223.88999938964844",
         "382.1400146484375",
         "282.760009765625",
         "225.19000244140625",
         "385.0799865722656",
         "284.989990234375",
         "221.02000427246094",
         "376.6199951171875",
         "251.27000427246094",
         "221.32000732421875",
         "377.9700012207031",
         "254.60000610351562",
         "35905900",
         "16092600",
         "212787800"
        ],
        [
         "2025-04-03 00:00:00",
         "203.19000244140625",
         "373.1099853515625",
         "267.2799987792969",
         "207.49000549316406",
         "377.4800109863281",
         "276.29998779296875",
         "201.25",
         "369.3500061035156",
         "261.510009765625",
         "205.5399932861328",
         "374.7900085449219",
         "265.2900085449219",
         "103419000",
         "30198000",
         "136174300"
        ],
        [
         "2025-04-04 00:00:00",
         "188.3800048828125",
         "359.8399963378906",
         "239.42999267578125",
         "199.8800048828125",
         "374.5899963378906",
         "261.0",
         "187.33999633789062",
         "359.4800109863281",
         "236.0",
         "193.88999938964844",
         "364.1300048828125",
         "255.3800048828125",
         "125910900",
         "49209900",
         "181229400"
        ],
        [
         "2025-04-07 00:00:00",
         "181.4600067138672",
         "357.8599853515625",
         "233.2899932861328",
         "194.14999389648438",
         "371.0",
         "252.0",
         "174.6199951171875",
         "344.7900085449219",
         "214.25",
         "177.1999969482422",
         "350.8800048828125",
         "223.77999877929688",
         "160466300",
         "50425000",
         "183453800"
        ],
        [
         "2025-04-08 00:00:00",
         "172.4199981689453",
         "354.55999755859375",
         "221.86000061035156",
         "190.33999633789062",
         "373.6499938964844",
         "250.44000244140625",
         "169.2100067138672",
         "350.25",
         "217.8000030517578",
         "186.6999969482422",
         "368.260009765625",
         "245.0",
         "120363400",
         "35808800",
         "170068600"
        ]
       ],
       "shape": {
        "columns": 15,
        "rows": 5
       }
      },
      "text/html": [
       "<div>\n",
       "<style scoped>\n",
       "    .dataframe tbody tr th:only-of-type {\n",
       "        vertical-align: middle;\n",
       "    }\n",
       "\n",
       "    .dataframe tbody tr th {\n",
       "        vertical-align: top;\n",
       "    }\n",
       "\n",
       "    .dataframe thead tr th {\n",
       "        text-align: left;\n",
       "    }\n",
       "\n",
       "    .dataframe thead tr:last-of-type th {\n",
       "        text-align: right;\n",
       "    }\n",
       "</style>\n",
       "<table border=\"1\" class=\"dataframe\">\n",
       "  <thead>\n",
       "    <tr>\n",
       "      <th>Price</th>\n",
       "      <th colspan=\"3\" halign=\"left\">Close</th>\n",
       "      <th colspan=\"3\" halign=\"left\">High</th>\n",
       "      <th colspan=\"3\" halign=\"left\">Low</th>\n",
       "      <th colspan=\"3\" halign=\"left\">Open</th>\n",
       "      <th colspan=\"3\" halign=\"left\">Volume</th>\n",
       "    </tr>\n",
       "    <tr>\n",
       "      <th>Ticker</th>\n",
       "      <th>AAPL</th>\n",
       "      <th>MSFT</th>\n",
       "      <th>TSLA</th>\n",
       "      <th>AAPL</th>\n",
       "      <th>MSFT</th>\n",
       "      <th>TSLA</th>\n",
       "      <th>AAPL</th>\n",
       "      <th>MSFT</th>\n",
       "      <th>TSLA</th>\n",
       "      <th>AAPL</th>\n",
       "      <th>MSFT</th>\n",
       "      <th>TSLA</th>\n",
       "      <th>AAPL</th>\n",
       "      <th>MSFT</th>\n",
       "      <th>TSLA</th>\n",
       "    </tr>\n",
       "    <tr>\n",
       "      <th>Date</th>\n",
       "      <th></th>\n",
       "      <th></th>\n",
       "      <th></th>\n",
       "      <th></th>\n",
       "      <th></th>\n",
       "      <th></th>\n",
       "      <th></th>\n",
       "      <th></th>\n",
       "      <th></th>\n",
       "      <th></th>\n",
       "      <th></th>\n",
       "      <th></th>\n",
       "      <th></th>\n",
       "      <th></th>\n",
       "      <th></th>\n",
       "    </tr>\n",
       "  </thead>\n",
       "  <tbody>\n",
       "    <tr>\n",
       "      <th>2025-04-02</th>\n",
       "      <td>223.889999</td>\n",
       "      <td>382.140015</td>\n",
       "      <td>282.760010</td>\n",
       "      <td>225.190002</td>\n",
       "      <td>385.079987</td>\n",
       "      <td>284.989990</td>\n",
       "      <td>221.020004</td>\n",
       "      <td>376.619995</td>\n",
       "      <td>251.270004</td>\n",
       "      <td>221.320007</td>\n",
       "      <td>377.970001</td>\n",
       "      <td>254.600006</td>\n",
       "      <td>35905900</td>\n",
       "      <td>16092600</td>\n",
       "      <td>212787800</td>\n",
       "    </tr>\n",
       "    <tr>\n",
       "      <th>2025-04-03</th>\n",
       "      <td>203.190002</td>\n",
       "      <td>373.109985</td>\n",
       "      <td>267.279999</td>\n",
       "      <td>207.490005</td>\n",
       "      <td>377.480011</td>\n",
       "      <td>276.299988</td>\n",
       "      <td>201.250000</td>\n",
       "      <td>369.350006</td>\n",
       "      <td>261.510010</td>\n",
       "      <td>205.539993</td>\n",
       "      <td>374.790009</td>\n",
       "      <td>265.290009</td>\n",
       "      <td>103419000</td>\n",
       "      <td>30198000</td>\n",
       "      <td>136174300</td>\n",
       "    </tr>\n",
       "    <tr>\n",
       "      <th>2025-04-04</th>\n",
       "      <td>188.380005</td>\n",
       "      <td>359.839996</td>\n",
       "      <td>239.429993</td>\n",
       "      <td>199.880005</td>\n",
       "      <td>374.589996</td>\n",
       "      <td>261.000000</td>\n",
       "      <td>187.339996</td>\n",
       "      <td>359.480011</td>\n",
       "      <td>236.000000</td>\n",
       "      <td>193.889999</td>\n",
       "      <td>364.130005</td>\n",
       "      <td>255.380005</td>\n",
       "      <td>125910900</td>\n",
       "      <td>49209900</td>\n",
       "      <td>181229400</td>\n",
       "    </tr>\n",
       "    <tr>\n",
       "      <th>2025-04-07</th>\n",
       "      <td>181.460007</td>\n",
       "      <td>357.859985</td>\n",
       "      <td>233.289993</td>\n",
       "      <td>194.149994</td>\n",
       "      <td>371.000000</td>\n",
       "      <td>252.000000</td>\n",
       "      <td>174.619995</td>\n",
       "      <td>344.790009</td>\n",
       "      <td>214.250000</td>\n",
       "      <td>177.199997</td>\n",
       "      <td>350.880005</td>\n",
       "      <td>223.779999</td>\n",
       "      <td>160466300</td>\n",
       "      <td>50425000</td>\n",
       "      <td>183453800</td>\n",
       "    </tr>\n",
       "    <tr>\n",
       "      <th>2025-04-08</th>\n",
       "      <td>172.419998</td>\n",
       "      <td>354.559998</td>\n",
       "      <td>221.860001</td>\n",
       "      <td>190.339996</td>\n",
       "      <td>373.649994</td>\n",
       "      <td>250.440002</td>\n",
       "      <td>169.210007</td>\n",
       "      <td>350.250000</td>\n",
       "      <td>217.800003</td>\n",
       "      <td>186.699997</td>\n",
       "      <td>368.260010</td>\n",
       "      <td>245.000000</td>\n",
       "      <td>120363400</td>\n",
       "      <td>35808800</td>\n",
       "      <td>170068600</td>\n",
       "    </tr>\n",
       "  </tbody>\n",
       "</table>\n",
       "</div>"
      ],
      "text/plain": [
       "Price            Close                                High              \\\n",
       "Ticker            AAPL        MSFT        TSLA        AAPL        MSFT   \n",
       "Date                                                                     \n",
       "2025-04-02  223.889999  382.140015  282.760010  225.190002  385.079987   \n",
       "2025-04-03  203.190002  373.109985  267.279999  207.490005  377.480011   \n",
       "2025-04-04  188.380005  359.839996  239.429993  199.880005  374.589996   \n",
       "2025-04-07  181.460007  357.859985  233.289993  194.149994  371.000000   \n",
       "2025-04-08  172.419998  354.559998  221.860001  190.339996  373.649994   \n",
       "\n",
       "Price                          Low                                Open  \\\n",
       "Ticker            TSLA        AAPL        MSFT        TSLA        AAPL   \n",
       "Date                                                                     \n",
       "2025-04-02  284.989990  221.020004  376.619995  251.270004  221.320007   \n",
       "2025-04-03  276.299988  201.250000  369.350006  261.510010  205.539993   \n",
       "2025-04-04  261.000000  187.339996  359.480011  236.000000  193.889999   \n",
       "2025-04-07  252.000000  174.619995  344.790009  214.250000  177.199997   \n",
       "2025-04-08  250.440002  169.210007  350.250000  217.800003  186.699997   \n",
       "\n",
       "Price                                  Volume                       \n",
       "Ticker            MSFT        TSLA       AAPL      MSFT       TSLA  \n",
       "Date                                                                \n",
       "2025-04-02  377.970001  254.600006   35905900  16092600  212787800  \n",
       "2025-04-03  374.790009  265.290009  103419000  30198000  136174300  \n",
       "2025-04-04  364.130005  255.380005  125910900  49209900  181229400  \n",
       "2025-04-07  350.880005  223.779999  160466300  50425000  183453800  \n",
       "2025-04-08  368.260010  245.000000  120363400  35808800  170068600  "
      ]
     },
     "execution_count": 118,
     "metadata": {},
     "output_type": "execute_result"
    }
   ],
   "source": [
    "data.tail()"
   ]
  },
  {
   "cell_type": "code",
   "execution_count": 146,
   "metadata": {},
   "outputs": [
    {
     "data": {
      "application/vnd.microsoft.datawrangler.viewer.v0+json": {
       "columns": [
        {
         "name": "index",
         "rawType": "int64",
         "type": "integer"
        },
        {
         "name": "Tickier",
         "rawType": "object",
         "type": "string"
        },
        {
         "name": "Quantity",
         "rawType": "int64",
         "type": "integer"
        },
        {
         "name": "Cost",
         "rawType": "float64",
         "type": "float"
        },
        {
         "name": "Current Price",
         "rawType": "float64",
         "type": "float"
        }
       ],
       "conversionMethod": "pd.DataFrame",
       "ref": "5006f6be-1ff7-48d9-8406-ab5efc11eb01",
       "rows": [
        [
         "0",
         "AAPL",
         "7",
         "999.0",
         "172.4199981689453"
        ],
        [
         "1",
         "MSFT",
         "8",
         "2241.6",
         "354.55999755859375"
        ],
        [
         "2",
         "TSLA",
         "5",
         "983.75",
         "221.86000061035156"
        ]
       ],
       "shape": {
        "columns": 4,
        "rows": 3
       }
      },
      "text/html": [
       "<div>\n",
       "<style scoped>\n",
       "    .dataframe tbody tr th:only-of-type {\n",
       "        vertical-align: middle;\n",
       "    }\n",
       "\n",
       "    .dataframe tbody tr th {\n",
       "        vertical-align: top;\n",
       "    }\n",
       "\n",
       "    .dataframe thead th {\n",
       "        text-align: right;\n",
       "    }\n",
       "</style>\n",
       "<table border=\"1\" class=\"dataframe\">\n",
       "  <thead>\n",
       "    <tr style=\"text-align: right;\">\n",
       "      <th></th>\n",
       "      <th>Tickier</th>\n",
       "      <th>Quantity</th>\n",
       "      <th>Cost</th>\n",
       "      <th>Current Price</th>\n",
       "    </tr>\n",
       "  </thead>\n",
       "  <tbody>\n",
       "    <tr>\n",
       "      <th>0</th>\n",
       "      <td>AAPL</td>\n",
       "      <td>7</td>\n",
       "      <td>999.00</td>\n",
       "      <td>172.419998</td>\n",
       "    </tr>\n",
       "    <tr>\n",
       "      <th>1</th>\n",
       "      <td>MSFT</td>\n",
       "      <td>8</td>\n",
       "      <td>2241.60</td>\n",
       "      <td>354.559998</td>\n",
       "    </tr>\n",
       "    <tr>\n",
       "      <th>2</th>\n",
       "      <td>TSLA</td>\n",
       "      <td>5</td>\n",
       "      <td>983.75</td>\n",
       "      <td>221.860001</td>\n",
       "    </tr>\n",
       "  </tbody>\n",
       "</table>\n",
       "</div>"
      ],
      "text/plain": [
       "  Tickier  Quantity     Cost  Current Price\n",
       "0    AAPL         7   999.00     172.419998\n",
       "1    MSFT         8  2241.60     354.559998\n",
       "2    TSLA         5   983.75     221.860001"
      ]
     },
     "execution_count": 146,
     "metadata": {},
     "output_type": "execute_result"
    }
   ],
   "source": [
    "latest_prices = data[\"Close\"].iloc[-1]\n",
    "holdings[\"Current Price\"] = holdings[\"Tickier\"].map(latest_prices)\n",
    "\n",
    "holdings.head()\n"
   ]
  },
  {
   "cell_type": "code",
   "execution_count": 141,
   "metadata": {},
   "outputs": [
    {
     "ename": "KeyError",
     "evalue": "\"['Current Value'] not found in axis\"",
     "output_type": "error",
     "traceback": [
      "\u001b[31m---------------------------------------------------------------------------\u001b[39m",
      "\u001b[31mKeyError\u001b[39m                                  Traceback (most recent call last)",
      "\u001b[36mCell\u001b[39m\u001b[36m \u001b[39m\u001b[32mIn[141]\u001b[39m\u001b[32m, line 1\u001b[39m\n\u001b[32m----> \u001b[39m\u001b[32m1\u001b[39m holdings = \u001b[43mholdings\u001b[49m\u001b[43m.\u001b[49m\u001b[43mdrop\u001b[49m\u001b[43m(\u001b[49m\u001b[43mcolumns\u001b[49m\u001b[43m=\u001b[49m\u001b[43m[\u001b[49m\u001b[33;43m\"\u001b[39;49m\u001b[33;43mCurrent Value\u001b[39;49m\u001b[33;43m\"\u001b[39;49m\u001b[43m]\u001b[49m\u001b[43m)\u001b[49m\n",
      "\u001b[36mFile \u001b[39m\u001b[32m/Library/Frameworks/Python.framework/Versions/3.12/lib/python3.12/site-packages/pandas/core/frame.py:5581\u001b[39m, in \u001b[36mDataFrame.drop\u001b[39m\u001b[34m(self, labels, axis, index, columns, level, inplace, errors)\u001b[39m\n\u001b[32m   5433\u001b[39m \u001b[38;5;28;01mdef\u001b[39;00m\u001b[38;5;250m \u001b[39m\u001b[34mdrop\u001b[39m(\n\u001b[32m   5434\u001b[39m     \u001b[38;5;28mself\u001b[39m,\n\u001b[32m   5435\u001b[39m     labels: IndexLabel | \u001b[38;5;28;01mNone\u001b[39;00m = \u001b[38;5;28;01mNone\u001b[39;00m,\n\u001b[32m   (...)\u001b[39m\u001b[32m   5442\u001b[39m     errors: IgnoreRaise = \u001b[33m\"\u001b[39m\u001b[33mraise\u001b[39m\u001b[33m\"\u001b[39m,\n\u001b[32m   5443\u001b[39m ) -> DataFrame | \u001b[38;5;28;01mNone\u001b[39;00m:\n\u001b[32m   5444\u001b[39m \u001b[38;5;250m    \u001b[39m\u001b[33;03m\"\"\"\u001b[39;00m\n\u001b[32m   5445\u001b[39m \u001b[33;03m    Drop specified labels from rows or columns.\u001b[39;00m\n\u001b[32m   5446\u001b[39m \n\u001b[32m   (...)\u001b[39m\u001b[32m   5579\u001b[39m \u001b[33;03m            weight  1.0     0.8\u001b[39;00m\n\u001b[32m   5580\u001b[39m \u001b[33;03m    \"\"\"\u001b[39;00m\n\u001b[32m-> \u001b[39m\u001b[32m5581\u001b[39m     \u001b[38;5;28;01mreturn\u001b[39;00m \u001b[38;5;28;43msuper\u001b[39;49m\u001b[43m(\u001b[49m\u001b[43m)\u001b[49m\u001b[43m.\u001b[49m\u001b[43mdrop\u001b[49m\u001b[43m(\u001b[49m\n\u001b[32m   5582\u001b[39m \u001b[43m        \u001b[49m\u001b[43mlabels\u001b[49m\u001b[43m=\u001b[49m\u001b[43mlabels\u001b[49m\u001b[43m,\u001b[49m\n\u001b[32m   5583\u001b[39m \u001b[43m        \u001b[49m\u001b[43maxis\u001b[49m\u001b[43m=\u001b[49m\u001b[43maxis\u001b[49m\u001b[43m,\u001b[49m\n\u001b[32m   5584\u001b[39m \u001b[43m        \u001b[49m\u001b[43mindex\u001b[49m\u001b[43m=\u001b[49m\u001b[43mindex\u001b[49m\u001b[43m,\u001b[49m\n\u001b[32m   5585\u001b[39m \u001b[43m        \u001b[49m\u001b[43mcolumns\u001b[49m\u001b[43m=\u001b[49m\u001b[43mcolumns\u001b[49m\u001b[43m,\u001b[49m\n\u001b[32m   5586\u001b[39m \u001b[43m        \u001b[49m\u001b[43mlevel\u001b[49m\u001b[43m=\u001b[49m\u001b[43mlevel\u001b[49m\u001b[43m,\u001b[49m\n\u001b[32m   5587\u001b[39m \u001b[43m        \u001b[49m\u001b[43minplace\u001b[49m\u001b[43m=\u001b[49m\u001b[43minplace\u001b[49m\u001b[43m,\u001b[49m\n\u001b[32m   5588\u001b[39m \u001b[43m        \u001b[49m\u001b[43merrors\u001b[49m\u001b[43m=\u001b[49m\u001b[43merrors\u001b[49m\u001b[43m,\u001b[49m\n\u001b[32m   5589\u001b[39m \u001b[43m    \u001b[49m\u001b[43m)\u001b[49m\n",
      "\u001b[36mFile \u001b[39m\u001b[32m/Library/Frameworks/Python.framework/Versions/3.12/lib/python3.12/site-packages/pandas/core/generic.py:4788\u001b[39m, in \u001b[36mNDFrame.drop\u001b[39m\u001b[34m(self, labels, axis, index, columns, level, inplace, errors)\u001b[39m\n\u001b[32m   4786\u001b[39m \u001b[38;5;28;01mfor\u001b[39;00m axis, labels \u001b[38;5;129;01min\u001b[39;00m axes.items():\n\u001b[32m   4787\u001b[39m     \u001b[38;5;28;01mif\u001b[39;00m labels \u001b[38;5;129;01mis\u001b[39;00m \u001b[38;5;129;01mnot\u001b[39;00m \u001b[38;5;28;01mNone\u001b[39;00m:\n\u001b[32m-> \u001b[39m\u001b[32m4788\u001b[39m         obj = \u001b[43mobj\u001b[49m\u001b[43m.\u001b[49m\u001b[43m_drop_axis\u001b[49m\u001b[43m(\u001b[49m\u001b[43mlabels\u001b[49m\u001b[43m,\u001b[49m\u001b[43m \u001b[49m\u001b[43maxis\u001b[49m\u001b[43m,\u001b[49m\u001b[43m \u001b[49m\u001b[43mlevel\u001b[49m\u001b[43m=\u001b[49m\u001b[43mlevel\u001b[49m\u001b[43m,\u001b[49m\u001b[43m \u001b[49m\u001b[43merrors\u001b[49m\u001b[43m=\u001b[49m\u001b[43merrors\u001b[49m\u001b[43m)\u001b[49m\n\u001b[32m   4790\u001b[39m \u001b[38;5;28;01mif\u001b[39;00m inplace:\n\u001b[32m   4791\u001b[39m     \u001b[38;5;28mself\u001b[39m._update_inplace(obj)\n",
      "\u001b[36mFile \u001b[39m\u001b[32m/Library/Frameworks/Python.framework/Versions/3.12/lib/python3.12/site-packages/pandas/core/generic.py:4830\u001b[39m, in \u001b[36mNDFrame._drop_axis\u001b[39m\u001b[34m(self, labels, axis, level, errors, only_slice)\u001b[39m\n\u001b[32m   4828\u001b[39m         new_axis = axis.drop(labels, level=level, errors=errors)\n\u001b[32m   4829\u001b[39m     \u001b[38;5;28;01melse\u001b[39;00m:\n\u001b[32m-> \u001b[39m\u001b[32m4830\u001b[39m         new_axis = \u001b[43maxis\u001b[49m\u001b[43m.\u001b[49m\u001b[43mdrop\u001b[49m\u001b[43m(\u001b[49m\u001b[43mlabels\u001b[49m\u001b[43m,\u001b[49m\u001b[43m \u001b[49m\u001b[43merrors\u001b[49m\u001b[43m=\u001b[49m\u001b[43merrors\u001b[49m\u001b[43m)\u001b[49m\n\u001b[32m   4831\u001b[39m     indexer = axis.get_indexer(new_axis)\n\u001b[32m   4833\u001b[39m \u001b[38;5;66;03m# Case for non-unique axis\u001b[39;00m\n\u001b[32m   4834\u001b[39m \u001b[38;5;28;01melse\u001b[39;00m:\n",
      "\u001b[36mFile \u001b[39m\u001b[32m/Library/Frameworks/Python.framework/Versions/3.12/lib/python3.12/site-packages/pandas/core/indexes/base.py:7070\u001b[39m, in \u001b[36mIndex.drop\u001b[39m\u001b[34m(self, labels, errors)\u001b[39m\n\u001b[32m   7068\u001b[39m \u001b[38;5;28;01mif\u001b[39;00m mask.any():\n\u001b[32m   7069\u001b[39m     \u001b[38;5;28;01mif\u001b[39;00m errors != \u001b[33m\"\u001b[39m\u001b[33mignore\u001b[39m\u001b[33m\"\u001b[39m:\n\u001b[32m-> \u001b[39m\u001b[32m7070\u001b[39m         \u001b[38;5;28;01mraise\u001b[39;00m \u001b[38;5;167;01mKeyError\u001b[39;00m(\u001b[33mf\u001b[39m\u001b[33m\"\u001b[39m\u001b[38;5;132;01m{\u001b[39;00mlabels[mask].tolist()\u001b[38;5;132;01m}\u001b[39;00m\u001b[33m not found in axis\u001b[39m\u001b[33m\"\u001b[39m)\n\u001b[32m   7071\u001b[39m     indexer = indexer[~mask]\n\u001b[32m   7072\u001b[39m \u001b[38;5;28;01mreturn\u001b[39;00m \u001b[38;5;28mself\u001b[39m.delete(indexer)\n",
      "\u001b[31mKeyError\u001b[39m: \"['Current Value'] not found in axis\""
     ]
    }
   ],
   "source": [
    "holdings = holdings.drop(columns=[\"Current Value\"])"
   ]
  },
  {
   "cell_type": "code",
   "execution_count": 147,
   "metadata": {},
   "outputs": [],
   "source": [
    "holdings[\"Current Value\"] = holdings[\"Current Price\"]*holdings[\"Quantity\"]"
   ]
  },
  {
   "cell_type": "code",
   "execution_count": 148,
   "metadata": {},
   "outputs": [
    {
     "data": {
      "application/vnd.microsoft.datawrangler.viewer.v0+json": {
       "columns": [
        {
         "name": "index",
         "rawType": "int64",
         "type": "integer"
        },
        {
         "name": "Tickier",
         "rawType": "object",
         "type": "string"
        },
        {
         "name": "Quantity",
         "rawType": "int64",
         "type": "integer"
        },
        {
         "name": "Cost",
         "rawType": "float64",
         "type": "float"
        },
        {
         "name": "Current Price",
         "rawType": "float64",
         "type": "float"
        },
        {
         "name": "Current Value",
         "rawType": "float64",
         "type": "float"
        }
       ],
       "conversionMethod": "pd.DataFrame",
       "ref": "73a89748-99b1-44db-8737-358f5576fa8f",
       "rows": [
        [
         "0",
         "AAPL",
         "7",
         "999.0",
         "172.4199981689453",
         "1206.9399871826172"
        ],
        [
         "1",
         "MSFT",
         "8",
         "2241.6",
         "354.55999755859375",
         "2836.47998046875"
        ],
        [
         "2",
         "TSLA",
         "5",
         "983.75",
         "221.86000061035156",
         "1109.3000030517578"
        ]
       ],
       "shape": {
        "columns": 5,
        "rows": 3
       }
      },
      "text/html": [
       "<div>\n",
       "<style scoped>\n",
       "    .dataframe tbody tr th:only-of-type {\n",
       "        vertical-align: middle;\n",
       "    }\n",
       "\n",
       "    .dataframe tbody tr th {\n",
       "        vertical-align: top;\n",
       "    }\n",
       "\n",
       "    .dataframe thead th {\n",
       "        text-align: right;\n",
       "    }\n",
       "</style>\n",
       "<table border=\"1\" class=\"dataframe\">\n",
       "  <thead>\n",
       "    <tr style=\"text-align: right;\">\n",
       "      <th></th>\n",
       "      <th>Tickier</th>\n",
       "      <th>Quantity</th>\n",
       "      <th>Cost</th>\n",
       "      <th>Current Price</th>\n",
       "      <th>Current Value</th>\n",
       "    </tr>\n",
       "  </thead>\n",
       "  <tbody>\n",
       "    <tr>\n",
       "      <th>0</th>\n",
       "      <td>AAPL</td>\n",
       "      <td>7</td>\n",
       "      <td>999.00</td>\n",
       "      <td>172.419998</td>\n",
       "      <td>1206.939987</td>\n",
       "    </tr>\n",
       "    <tr>\n",
       "      <th>1</th>\n",
       "      <td>MSFT</td>\n",
       "      <td>8</td>\n",
       "      <td>2241.60</td>\n",
       "      <td>354.559998</td>\n",
       "      <td>2836.479980</td>\n",
       "    </tr>\n",
       "    <tr>\n",
       "      <th>2</th>\n",
       "      <td>TSLA</td>\n",
       "      <td>5</td>\n",
       "      <td>983.75</td>\n",
       "      <td>221.860001</td>\n",
       "      <td>1109.300003</td>\n",
       "    </tr>\n",
       "  </tbody>\n",
       "</table>\n",
       "</div>"
      ],
      "text/plain": [
       "  Tickier  Quantity     Cost  Current Price  Current Value\n",
       "0    AAPL         7   999.00     172.419998    1206.939987\n",
       "1    MSFT         8  2241.60     354.559998    2836.479980\n",
       "2    TSLA         5   983.75     221.860001    1109.300003"
      ]
     },
     "execution_count": 148,
     "metadata": {},
     "output_type": "execute_result"
    }
   ],
   "source": [
    "holdings.head()"
   ]
  },
  {
   "cell_type": "code",
   "execution_count": 134,
   "metadata": {},
   "outputs": [
    {
     "data": {
      "application/vnd.microsoft.datawrangler.viewer.v0+json": {
       "columns": [
        {
         "name": "index",
         "rawType": "int64",
         "type": "integer"
        },
        {
         "name": "date",
         "rawType": "object",
         "type": "string"
        },
        {
         "name": "ticker",
         "rawType": "object",
         "type": "string"
        },
        {
         "name": "quantity",
         "rawType": "int64",
         "type": "integer"
        },
        {
         "name": "price",
         "rawType": "float64",
         "type": "float"
        },
        {
         "name": "signed_value",
         "rawType": "float64",
         "type": "float"
        }
       ],
       "conversionMethod": "pd.DataFrame",
       "ref": "2cb3d0ab-d99b-4951-bd74-9575c5e07516",
       "rows": [
        [
         "0",
         "2023-01-10",
         "AAPL",
         "10",
         "145.3",
         "1453.0"
        ],
        [
         "1",
         "2023-02-15",
         "TSLA",
         "5",
         "196.75",
         "983.75"
        ],
        [
         "2",
         "2023-03-01",
         "AAPL",
         "-5",
         "155.0",
         "-775.0"
        ],
        [
         "3",
         "2023-04-22",
         "MSFT",
         "8",
         "280.2",
         "2241.6"
        ],
        [
         "4",
         "2023-05-12",
         "AAPL",
         "2",
         "160.5",
         "321.0"
        ]
       ],
       "shape": {
        "columns": 5,
        "rows": 5
       }
      },
      "text/html": [
       "<div>\n",
       "<style scoped>\n",
       "    .dataframe tbody tr th:only-of-type {\n",
       "        vertical-align: middle;\n",
       "    }\n",
       "\n",
       "    .dataframe tbody tr th {\n",
       "        vertical-align: top;\n",
       "    }\n",
       "\n",
       "    .dataframe thead th {\n",
       "        text-align: right;\n",
       "    }\n",
       "</style>\n",
       "<table border=\"1\" class=\"dataframe\">\n",
       "  <thead>\n",
       "    <tr style=\"text-align: right;\">\n",
       "      <th></th>\n",
       "      <th>date</th>\n",
       "      <th>ticker</th>\n",
       "      <th>quantity</th>\n",
       "      <th>price</th>\n",
       "      <th>signed_value</th>\n",
       "    </tr>\n",
       "  </thead>\n",
       "  <tbody>\n",
       "    <tr>\n",
       "      <th>0</th>\n",
       "      <td>2023-01-10</td>\n",
       "      <td>AAPL</td>\n",
       "      <td>10</td>\n",
       "      <td>145.30</td>\n",
       "      <td>1453.00</td>\n",
       "    </tr>\n",
       "    <tr>\n",
       "      <th>1</th>\n",
       "      <td>2023-02-15</td>\n",
       "      <td>TSLA</td>\n",
       "      <td>5</td>\n",
       "      <td>196.75</td>\n",
       "      <td>983.75</td>\n",
       "    </tr>\n",
       "    <tr>\n",
       "      <th>2</th>\n",
       "      <td>2023-03-01</td>\n",
       "      <td>AAPL</td>\n",
       "      <td>-5</td>\n",
       "      <td>155.00</td>\n",
       "      <td>-775.00</td>\n",
       "    </tr>\n",
       "    <tr>\n",
       "      <th>3</th>\n",
       "      <td>2023-04-22</td>\n",
       "      <td>MSFT</td>\n",
       "      <td>8</td>\n",
       "      <td>280.20</td>\n",
       "      <td>2241.60</td>\n",
       "    </tr>\n",
       "    <tr>\n",
       "      <th>4</th>\n",
       "      <td>2023-05-12</td>\n",
       "      <td>AAPL</td>\n",
       "      <td>2</td>\n",
       "      <td>160.50</td>\n",
       "      <td>321.00</td>\n",
       "    </tr>\n",
       "  </tbody>\n",
       "</table>\n",
       "</div>"
      ],
      "text/plain": [
       "         date ticker  quantity   price  signed_value\n",
       "0  2023-01-10   AAPL        10  145.30       1453.00\n",
       "1  2023-02-15   TSLA         5  196.75        983.75\n",
       "2  2023-03-01   AAPL        -5  155.00       -775.00\n",
       "3  2023-04-22   MSFT         8  280.20       2241.60\n",
       "4  2023-05-12   AAPL         2  160.50        321.00"
      ]
     },
     "execution_count": 134,
     "metadata": {},
     "output_type": "execute_result"
    }
   ],
   "source": [
    "df.head()"
   ]
  },
  {
   "cell_type": "code",
   "execution_count": null,
   "metadata": {},
   "outputs": [],
   "source": [
    "holdings[\"Profit/Loss\"] = holdings[\"Current Value\"] - holdings[\"Cost\"]\n"
   ]
  },
  {
   "cell_type": "code",
   "execution_count": 151,
   "metadata": {},
   "outputs": [
    {
     "data": {
      "application/vnd.microsoft.datawrangler.viewer.v0+json": {
       "columns": [
        {
         "name": "index",
         "rawType": "int64",
         "type": "integer"
        },
        {
         "name": "Tickier",
         "rawType": "object",
         "type": "string"
        },
        {
         "name": "Quantity",
         "rawType": "int64",
         "type": "integer"
        },
        {
         "name": "Cost",
         "rawType": "float64",
         "type": "float"
        },
        {
         "name": "Current Price",
         "rawType": "float64",
         "type": "float"
        },
        {
         "name": "Current Value",
         "rawType": "float64",
         "type": "float"
        },
        {
         "name": "Profit/Loss",
         "rawType": "float64",
         "type": "float"
        }
       ],
       "conversionMethod": "pd.DataFrame",
       "ref": "618e2ad0-cbae-4beb-ba1f-d25e88c80c9c",
       "rows": [
        [
         "0",
         "AAPL",
         "7",
         "999.0",
         "172.4199981689453",
         "1206.9399871826172",
         "207.9399871826172"
        ],
        [
         "1",
         "MSFT",
         "8",
         "2241.6",
         "354.55999755859375",
         "2836.47998046875",
         "594.8799804687501"
        ],
        [
         "2",
         "TSLA",
         "5",
         "983.75",
         "221.86000061035156",
         "1109.3000030517578",
         "125.55000305175781"
        ]
       ],
       "shape": {
        "columns": 6,
        "rows": 3
       }
      },
      "text/html": [
       "<div>\n",
       "<style scoped>\n",
       "    .dataframe tbody tr th:only-of-type {\n",
       "        vertical-align: middle;\n",
       "    }\n",
       "\n",
       "    .dataframe tbody tr th {\n",
       "        vertical-align: top;\n",
       "    }\n",
       "\n",
       "    .dataframe thead th {\n",
       "        text-align: right;\n",
       "    }\n",
       "</style>\n",
       "<table border=\"1\" class=\"dataframe\">\n",
       "  <thead>\n",
       "    <tr style=\"text-align: right;\">\n",
       "      <th></th>\n",
       "      <th>Tickier</th>\n",
       "      <th>Quantity</th>\n",
       "      <th>Cost</th>\n",
       "      <th>Current Price</th>\n",
       "      <th>Current Value</th>\n",
       "      <th>Profit/Loss</th>\n",
       "    </tr>\n",
       "  </thead>\n",
       "  <tbody>\n",
       "    <tr>\n",
       "      <th>0</th>\n",
       "      <td>AAPL</td>\n",
       "      <td>7</td>\n",
       "      <td>999.00</td>\n",
       "      <td>172.419998</td>\n",
       "      <td>1206.939987</td>\n",
       "      <td>207.939987</td>\n",
       "    </tr>\n",
       "    <tr>\n",
       "      <th>1</th>\n",
       "      <td>MSFT</td>\n",
       "      <td>8</td>\n",
       "      <td>2241.60</td>\n",
       "      <td>354.559998</td>\n",
       "      <td>2836.479980</td>\n",
       "      <td>594.879980</td>\n",
       "    </tr>\n",
       "    <tr>\n",
       "      <th>2</th>\n",
       "      <td>TSLA</td>\n",
       "      <td>5</td>\n",
       "      <td>983.75</td>\n",
       "      <td>221.860001</td>\n",
       "      <td>1109.300003</td>\n",
       "      <td>125.550003</td>\n",
       "    </tr>\n",
       "  </tbody>\n",
       "</table>\n",
       "</div>"
      ],
      "text/plain": [
       "  Tickier  Quantity     Cost  Current Price  Current Value  Profit/Loss\n",
       "0    AAPL         7   999.00     172.419998    1206.939987   207.939987\n",
       "1    MSFT         8  2241.60     354.559998    2836.479980   594.879980\n",
       "2    TSLA         5   983.75     221.860001    1109.300003   125.550003"
      ]
     },
     "execution_count": 151,
     "metadata": {},
     "output_type": "execute_result"
    }
   ],
   "source": [
    "holdings.head()"
   ]
  },
  {
   "cell_type": "code",
   "execution_count": null,
   "metadata": {},
   "outputs": [],
   "source": []
  }
 ],
 "metadata": {
  "kernelspec": {
   "display_name": "Python 3",
   "language": "python",
   "name": "python3"
  },
  "language_info": {
   "codemirror_mode": {
    "name": "ipython",
    "version": 3
   },
   "file_extension": ".py",
   "mimetype": "text/x-python",
   "name": "python",
   "nbconvert_exporter": "python",
   "pygments_lexer": "ipython3",
   "version": "3.12.0"
  }
 },
 "nbformat": 4,
 "nbformat_minor": 2
}
